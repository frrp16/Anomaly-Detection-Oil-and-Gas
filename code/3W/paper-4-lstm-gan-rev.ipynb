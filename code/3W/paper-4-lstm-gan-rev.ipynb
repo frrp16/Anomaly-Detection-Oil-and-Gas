{
 "cells": [
  {
   "cell_type": "code",
   "execution_count": 1,
   "metadata": {},
   "outputs": [
    {
     "name": "stderr",
     "output_type": "stream",
     "text": [
      "2024-09-14 10:15:25.653398: I tensorflow/core/util/port.cc:113] oneDNN custom operations are on. You may see slightly different numerical results due to floating-point round-off errors from different computation orders. To turn them off, set the environment variable `TF_ENABLE_ONEDNN_OPTS=0`.\n",
      "2024-09-14 10:15:25.692180: E external/local_xla/xla/stream_executor/cuda/cuda_dnn.cc:9261] Unable to register cuDNN factory: Attempting to register factory for plugin cuDNN when one has already been registered\n",
      "2024-09-14 10:15:25.692220: E external/local_xla/xla/stream_executor/cuda/cuda_fft.cc:607] Unable to register cuFFT factory: Attempting to register factory for plugin cuFFT when one has already been registered\n",
      "2024-09-14 10:15:25.693387: E external/local_xla/xla/stream_executor/cuda/cuda_blas.cc:1515] Unable to register cuBLAS factory: Attempting to register factory for plugin cuBLAS when one has already been registered\n",
      "2024-09-14 10:15:25.700541: I tensorflow/core/platform/cpu_feature_guard.cc:182] This TensorFlow binary is optimized to use available CPU instructions in performance-critical operations.\n",
      "To enable the following instructions: AVX2 AVX512F AVX512_VNNI FMA, in other operations, rebuild TensorFlow with the appropriate compiler flags.\n",
      "2024-09-14 10:15:26.703241: W tensorflow/compiler/tf2tensorrt/utils/py_utils.cc:38] TF-TRT Warning: Could not find TensorRT\n"
     ]
    }
   ],
   "source": [
    "import os\n",
    "import sys\n",
    "import time\n",
    "import shutil\n",
    "import pickle\n",
    "\n",
    "import numpy as np\n",
    "import pandas as pd\n",
    "import tensorflow as tf\n",
    "import matplotlib.pyplot as plt\n",
    "\n",
    "%matplotlib inline\n",
    "\n",
    "from sklearn.metrics import f1_score\n",
    "from tensorflow import keras\n",
    "from tensorflow.keras import layers, models\n",
    "\n",
    "import sklearn.preprocessing\n",
    "from sklearn.metrics import precision_score, recall_score, f1_score, confusion_matrix"
   ]
  },
  {
   "cell_type": "code",
   "execution_count": 2,
   "metadata": {},
   "outputs": [
    {
     "name": "stderr",
     "output_type": "stream",
     "text": [
      "2024-09-14 10:15:28.254369: I external/local_xla/xla/stream_executor/cuda/cuda_executor.cc:887] could not open file to read NUMA node: /sys/bus/pci/devices/0000:01:00.0/numa_node\n",
      "Your kernel may have been built without NUMA support.\n",
      "2024-09-14 10:15:28.296348: I external/local_xla/xla/stream_executor/cuda/cuda_executor.cc:887] could not open file to read NUMA node: /sys/bus/pci/devices/0000:01:00.0/numa_node\n",
      "Your kernel may have been built without NUMA support.\n",
      "2024-09-14 10:15:28.296432: I external/local_xla/xla/stream_executor/cuda/cuda_executor.cc:887] could not open file to read NUMA node: /sys/bus/pci/devices/0000:01:00.0/numa_node\n",
      "Your kernel may have been built without NUMA support.\n"
     ]
    }
   ],
   "source": [
    "gpus = tf.config.experimental.list_physical_devices('GPU')\n",
    "if gpus:\n",
    "    try:\n",
    "        for gpu in gpus:\n",
    "            tf.config.experimental.set_virtual_device_configuration(\n",
    "                gpu,\n",
    "                [tf.config.experimental.VirtualDeviceConfiguration(memory_limit=4096)])  # Set your memory limit here\n",
    "    except RuntimeError as e:\n",
    "        print(e)"
   ]
  },
  {
   "cell_type": "code",
   "execution_count": 3,
   "metadata": {},
   "outputs": [],
   "source": [
    "def get_dataset(directory, single_file=False, use_half=False, section=1, use_num_files=False, num_files=100):  \n",
    "    if single_file:\n",
    "        df = pd.read_csv(directory, index_col='timestamp')\n",
    "        df.dropna(inplace=True)\n",
    "        return df\n",
    "    \n",
    "    merged_df = pd.DataFrame()\n",
    "    list_files = os.listdir(directory)\n",
    "    print(len(list_files))\n",
    "    if use_num_files:\n",
    "        for i in range(num_files):\n",
    "            df = pd.read_csv(os.path.join(directory, list_files[i]), index_col='timestamp')\n",
    "            df.dropna(inplace=True)\n",
    "            merged_df = pd.concat([merged_df, df], ignore_index=True)\n",
    "\n",
    "    if use_half:\n",
    "        for i, files in enumerate(list_files):\n",
    "            if section==1:\n",
    "                if i > len(list_files) //2:\n",
    "                    continue\n",
    "                df = pd.read_csv(os.path.join(directory, files), index_col='timestamp')\n",
    "                df.dropna(inplace=True)\n",
    "                merged_df = pd.concat([merged_df, df], ignore_index=True)\n",
    "            if section==2:\n",
    "                if i <= len(list_files) // 2:\n",
    "                    continue\n",
    "                df = pd.read_csv(os.path.join(directory, files), index_col='timestamp')\n",
    "                df.dropna(inplace=True)\n",
    "                merged_df = pd.concat([merged_df, df], ignore_index=True)\n",
    "    else:\n",
    "        for files in list_files:\n",
    "            df = pd.read_csv(os.path.join(directory, files), index_col='timestamp')\n",
    "            df.dropna(inplace=True)\n",
    "            merged_df = pd.concat([merged_df, df], ignore_index=True)\n",
    "    \n",
    "    # print(i)\n",
    "    return merged_df"
   ]
  },
  {
   "cell_type": "code",
   "execution_count": 4,
   "metadata": {},
   "outputs": [],
   "source": [
    "def convert_time_window(data, timesteps):\n",
    "    samples = data.shape[0] - timesteps + 1  # Number of samples in the new 3D array\n",
    "    variables = data.shape[1]  # Number of variables (features)\n",
    "\n",
    "    data_3d = np.zeros((samples, timesteps, variables), dtype='float16')\n",
    "\n",
    "    for i in range(samples):\n",
    "        data_3d[i] = data[i:i+timesteps]\n",
    "    return data_3d"
   ]
  },
  {
   "cell_type": "code",
   "execution_count": 5,
   "metadata": {},
   "outputs": [],
   "source": [
    "def inverse_convert_time_window(data_3d):\n",
    "    samples, timesteps, variables = data_3d.shape\n",
    "    data_2d = np.zeros((samples + timesteps - 1, variables))\n",
    "\n",
    "    count = np.zeros((samples + timesteps - 1, variables))\n",
    "\n",
    "    for i in range(samples):\n",
    "        data_2d[i:i+timesteps] += data_3d[i]\n",
    "        count[i:i+timesteps] += 1\n",
    "\n",
    "    # Average the overlapping segments\n",
    "    data_2d /= count\n",
    "    return data_2d"
   ]
  },
  {
   "cell_type": "code",
   "execution_count": 6,
   "metadata": {},
   "outputs": [],
   "source": [
    "def calculate_reconstruction_loss(data, reconstructions):\n",
    "    reconstruction_errors = np.mean(np.abs(data - reconstructions), axis=1)\n",
    "    return reconstruction_errors"
   ]
  },
  {
   "cell_type": "code",
   "execution_count": 7,
   "metadata": {},
   "outputs": [],
   "source": [
    "def find_optimal_threshold(reconstruction_errors, y_true, num_steps=500):\n",
    "    # Initialize variables\n",
    "    best_f1 = 0\n",
    "    best_upper_threshold = 0\n",
    "    best_lower_threshold = 0\n",
    "    best_y_pred = None\n",
    "    \n",
    "    # Calculate median, mean, and max of reconstruction errors\n",
    "    q1 = np.percentile(reconstruction_errors, 25)\n",
    "    q3 = np.percentile(reconstruction_errors, 75)\n",
    "    max_error = np.max(reconstruction_errors)\n",
    "    min_error = -1 * max_error\n",
    "    \n",
    "    # Define search ranges for upper and lower thresholds\n",
    "    upper_search_range = np.linspace(q3, max_error, num=num_steps)\n",
    "    lower_search_range = np.linspace(q1, min_error, num=num_steps)\n",
    "    \n",
    "    # Iterate over both thresholds in parallel\n",
    "    for upper_threshold, lower_threshold in zip(upper_search_range, lower_search_range):\n",
    "        if upper_threshold > lower_threshold:  # Ensure valid threshold combination\n",
    "            # Get y_pred based on the current thresholds\n",
    "            y_pred = np.where((reconstruction_errors > upper_threshold) | (reconstruction_errors < lower_threshold), 1, 0)\n",
    "            \n",
    "            # Calculate F1-score\n",
    "            current_f1 = f1_score(y_true.astype(bool), y_pred.astype(bool))\n",
    "            \n",
    "            # Update if a better F1-score is found\n",
    "            if current_f1 > best_f1:\n",
    "                best_f1 = current_f1\n",
    "                best_upper_threshold = upper_threshold\n",
    "                best_lower_threshold = lower_threshold\n",
    "                best_y_pred = y_pred\n",
    "\n",
    "    threshold_range = best_upper_threshold - best_lower_threshold\n",
    "    # Iterate over possible starting points for the lower threshold\n",
    "    for lower_threshold in np.linspace(min_error, max_error - threshold_range, num=num_steps):\n",
    "        upper_threshold = lower_threshold + threshold_range\n",
    "\n",
    "        if upper_threshold > max_error:  # Ensure valid upper threshold\n",
    "            break\n",
    "\n",
    "        # Generate predictions for the current threshold range\n",
    "        y_pred = np.where((reconstruction_errors > upper_threshold) | (reconstruction_errors < lower_threshold), 1, 0)\n",
    "\n",
    "        # Calculate F1-score\n",
    "        current_f1 = f1_score(y_true.astype(bool), y_pred.astype(bool))\n",
    "\n",
    "        # Update if a better F1-score is found\n",
    "        if current_f1 > best_f1:\n",
    "            best_f1 = current_f1\n",
    "            best_upper_threshold = upper_threshold\n",
    "            best_lower_threshold = lower_threshold\n",
    "            best_y_pred = y_pred\n",
    "\n",
    "    return best_upper_threshold, best_lower_threshold, best_f1, best_y_pred\n"
   ]
  },
  {
   "cell_type": "markdown",
   "metadata": {},
   "source": [
    "## Training"
   ]
  },
  {
   "cell_type": "code",
   "execution_count": 8,
   "metadata": {},
   "outputs": [
    {
     "name": "stdout",
     "output_type": "stream",
     "text": [
      "Index(['P-PDG', 'P-TPT', 'T-TPT', 'class'], dtype='object')\n",
      "WELL-00003_20170914150000.csv\n",
      "Index(['P-ANULAR', 'P-TPT', 'T-TPT', 'class'], dtype='object')\n",
      "WELL-00002_20170209110022.csv\n",
      "Index(['P-ANULAR', 'P-JUS-CKGL', 'T-TPT', 'class'], dtype='object')\n",
      "WELL-00006_20170825100249.csv\n",
      "Index(['P-ANULAR', 'P-TPT', 'T-TPT', 'class'], dtype='object')\n",
      "WELL-00002_20170618210043.csv\n",
      "Index(['P-ANULAR', 'P-TPT', 'T-TPT', 'class'], dtype='object')\n",
      "WELL-00002_20170624100021.csv\n",
      "Index(['P-ANULAR', 'P-TPT', 'T-TPT', 'class'], dtype='object')\n",
      "WELL-00002_20170620180211.csv\n",
      "Index(['P-ANULAR', 'P-TPT', 'T-TPT', 'class'], dtype='object')\n",
      "WELL-00001_20170826020000.csv\n",
      "Index(['P-ANULAR', 'P-TPT', 'T-TPT', 'class'], dtype='object')\n",
      "WELL-00001_20170824000000.csv\n",
      "Index(['P-ANULAR', 'P-TPT', 'T-TPT', 'class'], dtype='object')\n",
      "WELL-00006_20170223100000.csv\n",
      "Index(['P-ANULAR', 'P-TPT', 'T-TPT', 'class'], dtype='object')\n",
      "WELL-00006_20170816160000.csv\n",
      "Index(['P-ANULAR', 'P-TPT', 'T-TPT', 'class'], dtype='object')\n",
      "WELL-00002_20170616040043.csv\n",
      "Index(['ABER-CKP', 'P-TPT', 'T-TPT', 'class'], dtype='object')\n",
      "WELL-00004_20140807170050.csv\n",
      "Index(['ABER-CKP', 'P-TPT', 'T-TPT', 'class'], dtype='object')\n",
      "WELL-00004_20140807050141.csv\n",
      "Index(['P-ANULAR', 'T-TPT', 'T-TPT.1', 'class'], dtype='object')\n",
      "WELL-00002_20131214170036.csv\n",
      "Index(['P-ANULAR', 'P-TPT', 'T-TPT', 'class'], dtype='object')\n",
      "WELL-00002_20170807030000.csv\n",
      "Index(['ABER-CKP', 'P-TPT', 'T-TPT', 'class'], dtype='object')\n",
      "WELL-00005_20170910040000.csv\n",
      "Index(['P-ANULAR', 'P-TPT', 'T-TPT', 'class'], dtype='object')\n",
      "WELL-00002_20170309210207.csv\n",
      "Index(['P-ANULAR', 'P-TPT', 'T-TPT', 'class'], dtype='object')\n",
      "WELL-00002_20170807230000.csv\n",
      "Index(['P-ANULAR', 'P-TPT', 'T-TPT', 'class'], dtype='object')\n",
      "WELL-00001_20170425130042.csv\n",
      "Index(['P-PDG', 'P-TPT', 'T-TPT', 'class'], dtype='object')\n",
      "WELL-00003_20170821130207.csv\n",
      "Index(['P-PDG', 'P-TPT', 'T-TPT', 'class'], dtype='object')\n",
      "WELL-00003_20170915060000.csv\n",
      "Index(['P-ANULAR', 'P-TPT', 'T-TPT', 'class'], dtype='object')\n",
      "WELL-00001_20170827030000.csv\n",
      "Index(['ABER-CKP', 'P-TPT', 'T-TPT', 'class'], dtype='object')\n",
      "WELL-00005_20170910060000.csv\n",
      "Index(['P-ANULAR', 'P-TPT', 'T-TPT', 'class'], dtype='object')\n",
      "WELL-00002_20170809050000.csv\n",
      "Index(['P-PDG', 'P-TPT', 'T-TPT', 'class'], dtype='object')\n",
      "WELL-00006_20170507070124.csv\n",
      "Index(['P-ANULAR', 'P-TPT', 'T-TPT', 'class'], dtype='object')\n",
      "WELL-00001_20170525130000.csv\n",
      "Index(['P-ANULAR', 'P-TPT', 'T-TPT', 'class'], dtype='object')\n",
      "WELL-00002_20170210170033.csv\n",
      "Index(['ABER-CKP', 'P-TPT', 'T-TPT', 'class'], dtype='object')\n",
      "WELL-00005_20170403080000.csv\n",
      "Index(['P-ANULAR', 'P-TPT', 'T-TPT', 'class'], dtype='object')\n",
      "WELL-00002_20170310020146.csv\n",
      "Index(['P-ANULAR', 'P-TPT', 'T-TPT', 'class'], dtype='object')\n",
      "WELL-00001_20170524020000.csv\n",
      "Index(['ABER-CKP', 'P-TPT', 'T-TPT', 'class'], dtype='object')\n",
      "WELL-00005_20170910080000.csv\n",
      "Index(['P-ANULAR', 'P-TPT', 'T-TPT', 'class'], dtype='object')\n",
      "WELL-00001_20170825060000.csv\n",
      "Index(['P-ANULAR', 'P-TPT', 'T-TPT', 'class'], dtype='object')\n",
      "WELL-00002_20170812130000.csv\n",
      "Index(['ABER-CKP', 'P-TPT', 'T-TPT', 'class'], dtype='object')\n",
      "WELL-00005_20170817010000.csv\n",
      "Index(['P-ANULAR', 'P-TPT', 'T-TPT', 'class'], dtype='object')\n",
      "WELL-00002_20170615080400.csv\n",
      "Index(['ABER-CKP', 'P-TPT', 'T-TPT', 'class'], dtype='object')\n",
      "WELL-00005_20170910020004.csv\n",
      "Index(['P-PDG', 'P-TPT', 'T-TPT', 'class'], dtype='object')\n",
      "WELL-00006_20170508130053.csv\n",
      "Index(['P-ANULAR', 'P-TPT', 'T-TPT', 'class'], dtype='object')\n",
      "WELL-00006_20170815050000.csv\n",
      "Index(['P-ANULAR', 'P-TPT', 'T-TPT', 'class'], dtype='object')\n",
      "WELL-00002_20170622080043.csv\n",
      "Index(['P-ANULAR', 'P-TPT', 'T-TPT', 'class'], dtype='object')\n",
      "WELL-00002_20170615230149.csv\n",
      "Index(['P-ANULAR', 'P-TPT', 'T-TPT', 'class'], dtype='object')\n",
      "WELL-00002_20170213150107.csv\n",
      "Index(['P-ANULAR', 'P-TPT', 'T-TPT', 'class'], dtype='object')\n",
      "WELL-00002_20170310070518.csv\n",
      "Index(['ABER-CKP', 'P-TPT', 'T-TPT', 'class'], dtype='object')\n",
      "WELL-00005_20170830170000.csv\n",
      "Index(['ABER-CKP', 'P-TPT', 'T-TPT', 'class'], dtype='object')\n",
      "WELL-00005_20170812220000.csv\n",
      "Index(['P-ANULAR', 'P-TPT', 'T-TPT', 'class'], dtype='object')\n",
      "WELL-00002_20170620080254.csv\n",
      "Index(['P-ANULAR', 'P-TPT', 'T-TPT', 'class'], dtype='object')\n",
      "WELL-00006_20170816010000.csv\n",
      "Index(['P-ANULAR', 'P-TPT', 'T-TPT', 'class'], dtype='object')\n",
      "WELL-00006_20170508230053.csv\n",
      "Index(['P-ANULAR', 'P-TPT', 'T-TPT', 'class'], dtype='object')\n",
      "WELL-00002_20170215220129.csv\n",
      "Index(['ABER-CKP', 'P-TPT', 'T-TPT', 'class'], dtype='object')\n",
      "WELL-00005_20170814160000.csv\n",
      "Index(['P-ANULAR', 'P-TPT', 'T-TPT', 'class'], dtype='object')\n",
      "WELL-00002_20170619220043.csv\n",
      "Index(['ABER-CKP', 'P-TPT', 'T-TPT', 'class'], dtype='object')\n",
      "WELL-00005_20170830200000.csv\n",
      "Index(['P-ANULAR', 'P-TPT', 'T-TPT', 'class'], dtype='object')\n",
      "WELL-00002_20170404020000.csv\n",
      "Index(['P-PDG', 'P-TPT', 'T-TPT', 'class'], dtype='object')\n",
      "WELL-00003_20170813070105.csv\n",
      "Index(['P-ANULAR', 'P-JUS-CKGL', 'T-TPT', 'class'], dtype='object')\n",
      "WELL-00006_20170827070114.csv\n",
      "Index(['P-ANULAR', 'P-TPT', 'T-TPT', 'class'], dtype='object')\n",
      "WELL-00002_20170611190000.csv\n",
      "Index(['P-ANULAR', 'P-TPT', 'T-TPT', 'class'], dtype='object')\n",
      "WELL-00006_20170223000000.csv\n",
      "Index(['ABER-CKP', 'P-TPT', 'T-TPT', 'class'], dtype='object')\n",
      "WELL-00005_20170331050014.csv\n",
      "Index(['P-ANULAR', 'P-TPT', 'T-TPT', 'class'], dtype='object')\n",
      "WELL-00002_20170217190225.csv\n",
      "Index(['ABER-CKP', 'P-TPT', 'T-TPT', 'class'], dtype='object')\n",
      "WELL-00005_20170816130000.csv\n",
      "Index(['P-ANULAR', 'P-TPT', 'T-TPT', 'class'], dtype='object')\n",
      "WELL-00002_20170623190211.csv\n",
      "Index(['ABER-CKP', 'P-TPT', 'T-TPT', 'class'], dtype='object')\n",
      "WELL-00005_20170331150000.csv\n",
      "Index(['ABER-CKP', 'P-TPT', 'T-TPT', 'class'], dtype='object')\n",
      "WELL-00005_20170830080000.csv\n",
      "Index(['P-ANULAR', 'P-TPT', 'T-TPT', 'class'], dtype='object')\n",
      "WELL-00002_20170404170000.csv\n",
      "Index(['P-ANULAR', 'P-TPT', 'T-TPT', 'class'], dtype='object')\n",
      "WELL-00002_20170811120000.csv\n",
      "Index(['P-ANULAR', 'P-TPT', 'T-TPT', 'class'], dtype='object')\n",
      "WELL-00001_20170522050000.csv\n",
      "Index(['P-ANULAR', 'P-JUS-CKGL', 'T-TPT', 'class'], dtype='object')\n",
      "WELL-00006_20170827220218.csv\n",
      "Index(['ABER-CKP', 'P-TPT', 'T-TPT', 'class'], dtype='object')\n",
      "WELL-00005_20170817070000.csv\n",
      "Index(['P-ANULAR', 'P-TPT', 'T-TPT', 'class'], dtype='object')\n",
      "WELL-00006_20170819040000.csv\n",
      "Index(['P-ANULAR', 'P-TPT', 'T-TPT', 'class'], dtype='object')\n",
      "WELL-00002_20170617100221.csv\n",
      "Index(['ABER-CKP', 'P-TPT', 'T-TPT', 'class'], dtype='object')\n",
      "WELL-00004_20140806210033.csv\n",
      "Index(['P-PDG', 'P-TPT', 'T-TPT', 'class'], dtype='object')\n",
      "WELL-00006_20170506010103.csv\n",
      "Index(['P-ANULAR', 'P-TPT', 'T-TPT', 'class'], dtype='object')\n",
      "WELL-00001_20170219010042.csv\n",
      "Index(['P-ANULAR', 'P-TPT', 'T-TPT', 'class'], dtype='object')\n",
      "WELL-00002_20170624150054.csv\n",
      "Index(['P-ANULAR', 'P-TPT', 'T-TPT', 'class'], dtype='object')\n",
      "WELL-00006_20170820000000.csv\n",
      "Index(['P-ANULAR', 'P-TPT', 'T-TPT', 'class'], dtype='object')\n",
      "WELL-00006_20170820100000.csv\n",
      "Index(['P-ANULAR', 'P-TPT', 'T-TPT', 'class'], dtype='object')\n",
      "WELL-00002_20170620130116.csv\n",
      "Index(['ABER-CKP', 'P-TPT', 'T-TPT', 'class'], dtype='object')\n",
      "WELL-00005_20170813160000.csv\n",
      "Index(['P-ANULAR', 'P-TPT', 'T-TPT', 'class'], dtype='object')\n",
      "WELL-00002_20170610230108.csv\n",
      "Index(['P-ANULAR', 'P-TPT', 'T-TPT', 'class'], dtype='object')\n",
      "WELL-00001_20170828040000.csv\n",
      "Index(['P-ANULAR', 'P-TPT', 'T-TPT', 'class'], dtype='object')\n",
      "WELL-00002_20170618110600.csv\n",
      "Index(['P-PDG', 'P-TPT', 'T-TPT', 'class'], dtype='object')\n",
      "WELL-00003_20170813170118.csv\n",
      "Index(['P-ANULAR', 'P-TPT', 'T-TPT', 'class'], dtype='object')\n",
      "WELL-00006_20170826010207.csv\n",
      "Index(['P-ANULAR', 'P-TPT', 'T-TPT', 'class'], dtype='object')\n",
      "WELL-00002_20170813040000.csv\n",
      "Index(['P-ANULAR', 'P-TPT', 'T-TPT', 'class'], dtype='object')\n",
      "WELL-00001_20170823190000.csv\n",
      "Index(['P-ANULAR', 'P-TPT', 'T-TPT', 'class'], dtype='object')\n",
      "WELL-00002_20170219010033.csv\n",
      "Index(['P-ANULAR', 'P-TPT', 'T-TPT', 'class'], dtype='object')\n",
      "WELL-00006_20170818080000.csv\n",
      "Index(['P-ANULAR', 'P-TPT', 'T-TPT', 'class'], dtype='object')\n",
      "WELL-00002_20170308200218.csv\n",
      "Index(['ABER-CKP', 'P-TPT', 'T-TPT', 'class'], dtype='object')\n",
      "WELL-00005_20170516100000.csv\n",
      "Index(['ABER-CKP', 'P-TPT', 'T-TPT', 'class'], dtype='object')\n",
      "WELL-00005_20170816190000.csv\n",
      "Index(['P-ANULAR', 'P-TPT', 'T-TPT', 'class'], dtype='object')\n",
      "WELL-00002_20170212190429.csv\n",
      "Index(['P-PDG', 'P-TPT', 'T-TPT', 'class'], dtype='object')\n",
      "WELL-00003_20170914200000.csv\n",
      "Index(['ABER-CKP', 'P-TPT', 'T-TPT', 'class'], dtype='object')\n",
      "WELL-00005_20170815040000.csv\n",
      "Index(['ABER-CKP', 'P-TPT', 'T-TPT', 'class'], dtype='object')\n",
      "WELL-00005_20170401160000.csv\n",
      "Index(['ABER-CKP', 'P-TPT', 'T-TPT', 'class'], dtype='object')\n",
      "WELL-00005_20170813070000.csv\n",
      "Index(['P-ANULAR', 'P-TPT', 'T-TPT', 'class'], dtype='object')\n",
      "WELL-00002_20170214060141.csv\n",
      "Index(['P-ANULAR', 'P-TPT', 'T-TPT', 'class'], dtype='object')\n",
      "WELL-00002_20170308150353.csv\n",
      "Index(['P-ANULAR', 'P-TPT', 'P-JUS-CKGL', 'class'], dtype='object')\n",
      "WELL-00001_20170823040000.csv\n",
      "Index(['P-ANULAR', 'P-TPT', 'T-TPT', 'class'], dtype='object')\n",
      "WELL-00002_20170406040000.csv\n",
      "Index(['P-ANULAR', 'P-TPT', 'T-TPT', 'class'], dtype='object')\n",
      "WELL-00006_20170221230000.csv\n",
      "Index(['P-ANULAR', 'P-TPT', 'T-TPT', 'class'], dtype='object')\n",
      "WELL-00001_20170528010000.csv\n",
      "Index(['P-ANULAR', 'P-TPT', 'T-TPT', 'class'], dtype='object')\n",
      "WELL-00002_20170615030032.csv\n"
     ]
    }
   ],
   "source": [
    "dataset_dir = \"../../datasets/3W/dataset_processed/splitted/0/train\"\n",
    "\n",
    "list_files = os.listdir(dataset_dir)\n",
    "file_count = 100\n",
    "\n",
    "merged_df = pd.DataFrame()\n",
    "\n",
    "\n",
    "for i in range(len(list_files)):\n",
    "    # if i <= file_count:\n",
    "    #     continue\n",
    "    df = pd.read_csv(os.path.join(dataset_dir, list_files[i]), index_col='timestamp')\n",
    "    # if ['P-ANULAR','P-TPT','T-TPT','class'] == list(df.columns):\n",
    "    print(df.columns)\n",
    "    df.columns = ['C1', 'C2', 'C3', 'class']\n",
    "    merged_df = pd.concat([merged_df, df], ignore_index=True)\n",
    "    print(list_files[i])\n",
    "    if i >= file_count:\n",
    "        break"
   ]
  },
  {
   "cell_type": "code",
   "execution_count": 9,
   "metadata": {},
   "outputs": [],
   "source": [
    "# merged_df = get_dataset('../../datasets/3W/dataset_processed/splitted/0/train')\n",
    "merged_data_class = merged_df['class']\n",
    "\n",
    "merged_data_np = merged_df.drop('class', axis=1).values"
   ]
  },
  {
   "cell_type": "code",
   "execution_count": 10,
   "metadata": {},
   "outputs": [],
   "source": [
    "scaler = pickle.load(open('StandardScaler-3W-0.pkl', 'rb'))\n",
    "\n",
    "merged_data_np_scaled = scaler.transform(merged_data_np)"
   ]
  },
  {
   "cell_type": "code",
   "execution_count": 11,
   "metadata": {},
   "outputs": [
    {
     "data": {
      "image/png": "[encoded data removed]",
      "text/plain": [
       "<Figure size 1500x700 with 1 Axes>"
      ]
     },
     "metadata": {},
     "output_type": "display_data"
    }
   ],
   "source": [
    "plt.figure(figsize=(15,7))\n",
    "plt.plot(merged_data_np_scaled)\n",
    "plt.show()"
   ]
  },
  {
   "cell_type": "code",
   "execution_count": 12,
   "metadata": {},
   "outputs": [],
   "source": [
    "# scaler = sklearn.preprocessing.StandardScaler()\n",
    "# scaler.fit(merged_data_np)\n",
    "\n",
    "# merged_data_np_scaled = scaler.transform(merged_data_np)\n",
    "\n",
    "# pickle.dump(scaler, open('StandardScaler-3W-2.pkl', 'wb'))"
   ]
  },
  {
   "cell_type": "code",
   "execution_count": 13,
   "metadata": {},
   "outputs": [],
   "source": [
    "# merged_data_np_3d = convert_time_window(merged_data_np_scaled, 10)\n",
    "merged_data_np_3d = convert_time_window(merged_data_np_scaled, 10)"
   ]
  },
  {
   "cell_type": "code",
   "execution_count": 14,
   "metadata": {},
   "outputs": [
    {
     "data": {
      "text/plain": [
       "dtype('float16')"
      ]
     },
     "execution_count": 14,
     "metadata": {},
     "output_type": "execute_result"
    }
   ],
   "source": [
    "merged_data_np_3d.dtype"
   ]
  },
  {
   "cell_type": "code",
   "execution_count": 15,
   "metadata": {},
   "outputs": [
    {
     "data": {
      "text/plain": [
       "(1983067, 10, 3)"
      ]
     },
     "execution_count": 15,
     "metadata": {},
     "output_type": "execute_result"
    }
   ],
   "source": [
    "merged_data_np_3d.shape"
   ]
  },
  {
   "cell_type": "code",
   "execution_count": 17,
   "metadata": {},
   "outputs": [],
   "source": [
    "tf_dataset_path = \"../../datasets/3W/dataset_processed/tf_data/LSTM-GAN/train/0_0-100\"\n",
    "\n",
    "dataset = tf.data.Dataset.from_tensor_slices(merged_data_np_3d)\n",
    "dataset = dataset.batch(128)\n",
    "tf.data.Dataset.save(dataset, tf_dataset_path)"
   ]
  },
  {
   "cell_type": "markdown",
   "metadata": {},
   "source": [
    "### =================================================="
   ]
  },
  {
   "cell_type": "code",
   "execution_count": 8,
   "metadata": {},
   "outputs": [
    {
     "name": "stderr",
     "output_type": "stream",
     "text": [
      "2024-09-14 10:15:35.458234: I external/local_xla/xla/stream_executor/cuda/cuda_executor.cc:887] could not open file to read NUMA node: /sys/bus/pci/devices/0000:01:00.0/numa_node\n",
      "Your kernel may have been built without NUMA support.\n",
      "2024-09-14 10:15:35.458488: I external/local_xla/xla/stream_executor/cuda/cuda_executor.cc:887] could not open file to read NUMA node: /sys/bus/pci/devices/0000:01:00.0/numa_node\n",
      "Your kernel may have been built without NUMA support.\n",
      "2024-09-14 10:15:35.458552: I external/local_xla/xla/stream_executor/cuda/cuda_executor.cc:887] could not open file to read NUMA node: /sys/bus/pci/devices/0000:01:00.0/numa_node\n",
      "Your kernel may have been built without NUMA support.\n",
      "2024-09-14 10:15:35.609958: I external/local_xla/xla/stream_executor/cuda/cuda_executor.cc:887] could not open file to read NUMA node: /sys/bus/pci/devices/0000:01:00.0/numa_node\n",
      "Your kernel may have been built without NUMA support.\n",
      "2024-09-14 10:15:35.609987: I tensorflow/core/common_runtime/gpu/gpu_device.cc:2022] Could not identify NUMA node of platform GPU id 0, defaulting to 0.  Your kernel may not have been built with NUMA support.\n",
      "2024-09-14 10:15:35.610025: I external/local_xla/xla/stream_executor/cuda/cuda_executor.cc:887] could not open file to read NUMA node: /sys/bus/pci/devices/0000:01:00.0/numa_node\n",
      "Your kernel may have been built without NUMA support.\n",
      "2024-09-14 10:15:35.610051: I external/local_xla/xla/stream_executor/cuda/cuda_executor.cc:887] could not open file to read NUMA node: /sys/bus/pci/devices/0000:01:00.0/numa_node\n",
      "Your kernel may have been built without NUMA support.\n",
      "2024-09-14 10:15:35.610071: I tensorflow/core/common_runtime/gpu/gpu_device.cc:1929] Created device /job:localhost/replica:0/task:0/device:GPU:0 with 4096 MB memory:  -> device: 0, name: NVIDIA T500, pci bus id: 0000:01:00.0, compute capability: 7.5\n"
     ]
    }
   ],
   "source": [
    "# To use available dataset\n",
    "tf_dataset_path = \"../../datasets/3W/dataset_processed/tf_data/LSTM-GAN/train/0_0-100\"\n",
    "dataset = tf.data.Dataset.load(tf_dataset_path)"
   ]
  },
  {
   "cell_type": "code",
   "execution_count": 9,
   "metadata": {},
   "outputs": [],
   "source": [
    "def build_encoder(input_shape):\n",
    "    input_layer = layers.Input(shape=input_shape)\n",
    "    encoder = layers.LSTM(128, return_sequences=True)(input_layer)\n",
    "    encoder = layers.LSTM(64, return_sequences=True)(encoder)\n",
    "    encoder = layers.LSTM(32)(encoder)\n",
    "    encoder = layers.Dense(24, activation='relu')(encoder)\n",
    "    output_layer = layers.Dense(10, activation='relu')(encoder)\n",
    "\n",
    "    model = keras.models.Model(inputs=input_layer, outputs=output_layer, name=\"Encoder\")    \n",
    "    return model\n",
    "\n",
    "def build_decoder(output_shape):\n",
    "    input_layer = layers.Input(shape=(10,))\n",
    "    decoder = layers.Dense(24, activation='relu')(input_layer)\n",
    "    decoder = layers.Dense(24, activation='relu')(decoder)\n",
    "    decoder = layers.RepeatVector(output_shape[0])(decoder)\n",
    "\n",
    "    decoder = layers.LSTM(32, return_sequences=True)(decoder)\n",
    "    decoder = layers.LSTM(64, return_sequences=True)(decoder)\n",
    "    decoder = layers.LSTM(128, return_sequences=True)(decoder)\n",
    "\n",
    "    output_layer = layers.TimeDistributed(layers.Dense(output_shape[1]))(decoder)\n",
    "    model = keras.models.Model(inputs=input_layer, outputs=output_layer, name=\"Decoder\")\n",
    "    \n",
    "    return model\n",
    "\n",
    "def build_discriminator(input_shape):\n",
    "    input_layer = layers.Input(shape=input_shape)\n",
    "    encoder = layers.LSTM(128, return_sequences=True)(input_layer)\n",
    "    encoder = layers.LSTM(64, return_sequences=True)(encoder)\n",
    "    encoder = layers.LSTM(32)(encoder)\n",
    "    encoder = layers.Dense(24, activation='relu')(encoder)\n",
    "    encoder = layers.Dense(10, activation='relu')(encoder)\n",
    "    output_layer = layers.Dense(1, activation='sigmoid')(encoder)\n",
    "    \n",
    "    model = keras.models.Model(inputs=input_layer, outputs=output_layer, name=\"Discriminator\")\n",
    "\n",
    "    return model"
   ]
  },
  {
   "cell_type": "code",
   "execution_count": 10,
   "metadata": {},
   "outputs": [],
   "source": [
    "class Generator(models.Model):\n",
    "    def __init__(self, input_shape, output_shape):\n",
    "        super(Generator, self).__init__()\n",
    "        self.encoder = build_encoder(input_shape)\n",
    "        self.decoder = build_decoder(output_shape)\n",
    "\n",
    "    def call(self, x):\n",
    "        z = self.encoder(x)\n",
    "        reconstructed_x = self.decoder(z)\n",
    "        return reconstructed_x\n"
   ]
  },
  {
   "cell_type": "code",
   "execution_count": 11,
   "metadata": {},
   "outputs": [],
   "source": [
    "# L1 norm for lx\n",
    "def reconstruction_loss_lx(x, generated_x):\n",
    "    return tf.reduce_mean(tf.abs(x - generated_x))\n",
    "\n",
    "# L2 norm for lz\n",
    "def reconstruction_loss_lz(z_enc1, z_enc2):\n",
    "    return tf.reduce_mean(tf.square(z_enc1 - z_enc2))\n",
    "\n",
    "# Adversarial loss for generator\n",
    "def adversarial_loss(disc_output_gen):\n",
    "    return tf.keras.losses.BinaryCrossentropy()(tf.ones_like(disc_output_gen), disc_output_gen)\n",
    "\n",
    "# Total Generator loss\n",
    "def generator_loss(x, generated_x, z_enc1, z_enc2, disc_output_gen, w1, w2, w3):\n",
    "    x = tf.cast(x, tf.float16)\n",
    "    generated_x = tf.cast(generated_x, tf.float16)\n",
    "    z_enc1 = tf.cast(z_enc1, tf.float16)\n",
    "    z_enc2 = tf.cast(z_enc2, tf.float16)\n",
    "    disc_output_gen = tf.cast(disc_output_gen, tf.float16)\n",
    "\n",
    "    lx = reconstruction_loss_lx(x, generated_x)\n",
    "    lz = reconstruction_loss_lz(z_enc1, z_enc2)\n",
    "    ladv = adversarial_loss(disc_output_gen)\n",
    "    return w1 * lx + w2 * lz + w3 * ladv\n",
    "\n",
    "# Discriminator loss\n",
    "def discriminator_loss(real_output, fake_output):\n",
    "    real_loss = tf.keras.losses.BinaryCrossentropy()(tf.ones_like(real_output), real_output)\n",
    "    fake_loss = tf.keras.losses.BinaryCrossentropy()(tf.zeros_like(fake_output), fake_output)\n",
    "    return real_loss + fake_loss"
   ]
  },
  {
   "cell_type": "code",
   "execution_count": 12,
   "metadata": {},
   "outputs": [
    {
     "name": "stderr",
     "output_type": "stream",
     "text": [
      "2024-09-14 10:15:36.076263: I external/local_tsl/tsl/platform/default/subprocess.cc:304] Start cannot spawn child process: No such file or directory\n"
     ]
    }
   ],
   "source": [
    "# Define the input shape\n",
    "time_window = 10 \n",
    "features = 3  \n",
    "input_shape = (time_window, features)\n",
    "\n",
    "# Instantiate models\n",
    "generator = Generator(input_shape, input_shape)\n",
    "discriminator = build_discriminator(input_shape)\n",
    "encoder2 = build_encoder(input_shape)\n",
    "\n",
    "# Define optimizers\n",
    "gen_optimizer = tf.keras.optimizers.Adam(learning_rate=1e-4)\n",
    "disc_optimizer = tf.keras.optimizers.Adam(learning_rate=1e-4)\n",
    "\n",
    "# Example of compiling the discriminator\n",
    "discriminator.compile(optimizer=disc_optimizer, loss='binary_crossentropy')\n"
   ]
  },
  {
   "cell_type": "code",
   "execution_count": 13,
   "metadata": {},
   "outputs": [
    {
     "name": "stdout",
     "output_type": "stream",
     "text": [
      "Model: \"Encoder\"\n",
      "_________________________________________________________________\n",
      " Layer (type)                Output Shape              Param #   \n",
      "=================================================================\n",
      " input_1 (InputLayer)        [(None, 10, 3)]           0         \n",
      "                                                                 \n",
      " lstm (LSTM)                 (None, 10, 128)           67584     \n",
      "                                                                 \n",
      " lstm_1 (LSTM)               (None, 10, 64)            49408     \n",
      "                                                                 \n",
      " lstm_2 (LSTM)               (None, 32)                12416     \n",
      "                                                                 \n",
      " dense (Dense)               (None, 24)                792       \n",
      "                                                                 \n",
      " dense_1 (Dense)             (None, 10)                250       \n",
      "                                                                 \n",
      "=================================================================\n",
      "Total params: 130450 (509.57 KB)\n",
      "Trainable params: 130450 (509.57 KB)\n",
      "Non-trainable params: 0 (0.00 Byte)\n",
      "_________________________________________________________________\n"
     ]
    }
   ],
   "source": [
    "generator.encoder.summary()"
   ]
  },
  {
   "cell_type": "code",
   "execution_count": 14,
   "metadata": {},
   "outputs": [
    {
     "name": "stdout",
     "output_type": "stream",
     "text": [
      "Model: \"Decoder\"\n",
      "_________________________________________________________________\n",
      " Layer (type)                Output Shape              Param #   \n",
      "=================================================================\n",
      " input_2 (InputLayer)        [(None, 10)]              0         \n",
      "                                                                 \n",
      " dense_2 (Dense)             (None, 24)                264       \n",
      "                                                                 \n",
      " dense_3 (Dense)             (None, 24)                600       \n",
      "                                                                 \n",
      " repeat_vector (RepeatVecto  (None, 10, 24)            0         \n",
      " r)                                                              \n",
      "                                                                 \n",
      " lstm_3 (LSTM)               (None, 10, 32)            7296      \n",
      "                                                                 \n",
      " lstm_4 (LSTM)               (None, 10, 64)            24832     \n",
      "                                                                 \n",
      " lstm_5 (LSTM)               (None, 10, 128)           98816     \n",
      "                                                                 \n",
      " time_distributed (TimeDist  (None, 10, 3)             387       \n",
      " ributed)                                                        \n",
      "                                                                 \n",
      "=================================================================\n",
      "Total params: 132195 (516.39 KB)\n",
      "Trainable params: 132195 (516.39 KB)\n",
      "Non-trainable params: 0 (0.00 Byte)\n",
      "_________________________________________________________________\n"
     ]
    }
   ],
   "source": [
    "generator.decoder.summary()"
   ]
  },
  {
   "cell_type": "code",
   "execution_count": 15,
   "metadata": {},
   "outputs": [
    {
     "name": "stdout",
     "output_type": "stream",
     "text": [
      "Model: \"Encoder\"\n",
      "_________________________________________________________________\n",
      " Layer (type)                Output Shape              Param #   \n",
      "=================================================================\n",
      " input_4 (InputLayer)        [(None, 10, 3)]           0         \n",
      "                                                                 \n",
      " lstm_9 (LSTM)               (None, 10, 128)           67584     \n",
      "                                                                 \n",
      " lstm_10 (LSTM)              (None, 10, 64)            49408     \n",
      "                                                                 \n",
      " lstm_11 (LSTM)              (None, 32)                12416     \n",
      "                                                                 \n",
      " dense_8 (Dense)             (None, 24)                792       \n",
      "                                                                 \n",
      " dense_9 (Dense)             (None, 10)                250       \n",
      "                                                                 \n",
      "=================================================================\n",
      "Total params: 130450 (509.57 KB)\n",
      "Trainable params: 130450 (509.57 KB)\n",
      "Non-trainable params: 0 (0.00 Byte)\n",
      "_________________________________________________________________\n"
     ]
    }
   ],
   "source": [
    "encoder2.summary()"
   ]
  },
  {
   "cell_type": "code",
   "execution_count": 16,
   "metadata": {},
   "outputs": [
    {
     "name": "stdout",
     "output_type": "stream",
     "text": [
      "Model: \"Discriminator\"\n",
      "_________________________________________________________________\n",
      " Layer (type)                Output Shape              Param #   \n",
      "=================================================================\n",
      " input_3 (InputLayer)        [(None, 10, 3)]           0         \n",
      "                                                                 \n",
      " lstm_6 (LSTM)               (None, 10, 128)           67584     \n",
      "                                                                 \n",
      " lstm_7 (LSTM)               (None, 10, 64)            49408     \n",
      "                                                                 \n",
      " lstm_8 (LSTM)               (None, 32)                12416     \n",
      "                                                                 \n",
      " dense_5 (Dense)             (None, 24)                792       \n",
      "                                                                 \n",
      " dense_6 (Dense)             (None, 10)                250       \n",
      "                                                                 \n",
      " dense_7 (Dense)             (None, 1)                 11        \n",
      "                                                                 \n",
      "=================================================================\n",
      "Total params: 130461 (509.61 KB)\n",
      "Trainable params: 130461 (509.61 KB)\n",
      "Non-trainable params: 0 (0.00 Byte)\n",
      "_________________________________________________________________\n"
     ]
    }
   ],
   "source": [
    "discriminator.summary()"
   ]
  },
  {
   "cell_type": "code",
   "execution_count": 17,
   "metadata": {},
   "outputs": [],
   "source": [
    "# # Example data (Replace with real dataset)\n",
    "# X = np.random.randn(100, time_window, features)  # 1000 samples of time-series data\n",
    "# X = np.float16(X)\n",
    "# # Convert to TensorFlow Dataset\n",
    "# batch_size = 32\n",
    "# dataset = tf.data.Dataset.from_tensor_slices(X)\n",
    "# dataset = dataset.shuffle(buffer_size=1000).batch(batch_size)\n",
    "\n",
    "# Prefetch for performance optimization\n",
    "data_loader = dataset.prefetch(buffer_size=tf.data.experimental.AUTOTUNE)"
   ]
  },
  {
   "cell_type": "code",
   "execution_count": 18,
   "metadata": {},
   "outputs": [],
   "source": [
    "def generate_random_noise(batch_size, time_window, features):\n",
    "    return tf.random.normal(shape=(batch_size, time_window, features))"
   ]
  },
  {
   "cell_type": "code",
   "execution_count": 19,
   "metadata": {},
   "outputs": [
    {
     "name": "stderr",
     "output_type": "stream",
     "text": [
      "2024-09-14 10:15:38.696066: I external/local_xla/xla/stream_executor/cuda/cuda_dnn.cc:454] Loaded cuDNN version 8904\n",
      "2024-09-14 10:15:39.638674: I external/local_xla/xla/service/service.cc:168] XLA service 0x56469a704fb0 initialized for platform CUDA (this does not guarantee that XLA will be used). Devices:\n",
      "2024-09-14 10:15:39.638731: I external/local_xla/xla/service/service.cc:176]   StreamExecutor device (0): NVIDIA T500, Compute Capability 7.5\n",
      "2024-09-14 10:15:39.647037: I tensorflow/compiler/mlir/tensorflow/utils/dump_mlir_util.cc:269] disabling MLIR crash reproducer, set env var `MLIR_CRASH_REPRODUCER_DIRECTORY` to enable.\n",
      "WARNING: All log messages before absl::InitializeLog() is called are written to STDERR\n",
      "I0000 00:00:1726283739.759982  118631 device_compiler.h:186] Compiled cluster using XLA!  This line is logged at most once for the lifetime of the process.\n"
     ]
    },
    {
     "name": "stdout",
     "output_type": "stream",
     "text": [
      "WARNING:tensorflow:5 out of the last 5 calls to <function _BaseOptimizer._update_step_xla at 0x7f38d7789550> triggered tf.function retracing. Tracing is expensive and the excessive number of tracings could be due to (1) creating @tf.function repeatedly in a loop, (2) passing tensors with different shapes, (3) passing Python objects instead of tensors. For (1), please define your @tf.function outside of the loop. For (2), @tf.function has reduce_retracing=True option that can avoid unnecessary retracing. For (3), please refer to https://www.tensorflow.org/guide/function#controlling_retracing and https://www.tensorflow.org/api_docs/python/tf/function for  more details.\n",
      "WARNING:tensorflow:6 out of the last 6 calls to <function _BaseOptimizer._update_step_xla at 0x7f38d7789550> triggered tf.function retracing. Tracing is expensive and the excessive number of tracings could be due to (1) creating @tf.function repeatedly in a loop, (2) passing tensors with different shapes, (3) passing Python objects instead of tensors. For (1), please define your @tf.function outside of the loop. For (2), @tf.function has reduce_retracing=True option that can avoid unnecessary retracing. For (3), please refer to https://www.tensorflow.org/guide/function#controlling_retracing and https://www.tensorflow.org/api_docs/python/tf/function for  more details.\n",
      "loss_g: 0.41943359375, loss_d: 1.079598069190979\n",
      "loss_g: 0.5927734375, loss_d: 1.0662059783935547\n",
      "loss_g: 0.37255859375, loss_d: 1.3019580841064453\n",
      "loss_g: 0.80029296875, loss_d: 0.3834700882434845\n",
      "loss_g: 0.68896484375, loss_d: 1.2763376235961914\n",
      "loss_g: 0.54248046875, loss_d: 1.0368205308914185\n",
      "loss_g: 0.67236328125, loss_d: 0.7217538952827454\n",
      "loss_g: 0.495361328125, loss_d: 1.1264054775238037\n",
      "loss_g: 0.61181640625, loss_d: 0.7474055290222168\n",
      "loss_g: 0.58984375, loss_d: 1.2842543125152588\n",
      "loss_g: 0.66015625, loss_d: 0.752009928226471\n",
      "loss_g: 0.493896484375, loss_d: 1.177856683731079\n",
      "loss_g: 0.5029296875, loss_d: 2.9677894115448\n",
      "loss_g: 1.1416015625, loss_d: 0.19868941605091095\n",
      "loss_g: 1.42578125, loss_d: 0.12532062828540802\n",
      "loss_g: 1.5849609375, loss_d: 0.08102353662252426\n",
      "loss_g: 0.81884765625, loss_d: 0.8135331869125366\n",
      "loss_g: 0.9228515625, loss_d: 0.4740258753299713\n",
      "loss_g: 1.728515625, loss_d: 0.11962573230266571\n",
      "loss_g: 1.7861328125, loss_d: 2.808628559112549\n",
      "loss_g: 1.2255859375, loss_d: 1.5925698280334473\n",
      "loss_g: 1.240234375, loss_d: 0.13015994429588318\n",
      "loss_g: 1.1435546875, loss_d: 2.87479829788208\n",
      "loss_g: 0.669921875, loss_d: 0.964702308177948\n",
      "loss_g: 0.378662109375, loss_d: 1.319148302078247\n",
      "loss_g: 0.3623046875, loss_d: 1.3335628509521484\n",
      "loss_g: 0.5146484375, loss_d: 0.5696437954902649\n",
      "loss_g: 1.095703125, loss_d: 0.1507594883441925\n",
      "loss_g: 1.44921875, loss_d: 0.09224513918161392\n",
      "loss_g: 1.5400390625, loss_d: 0.08612557500600815\n",
      "loss_g: 1.2216796875, loss_d: 0.13203765451908112\n",
      "loss_g: 1.15234375, loss_d: 1.732643723487854\n",
      "loss_g: 1.1669921875, loss_d: 0.5119386911392212\n",
      "loss_g: 1.353515625, loss_d: 0.3449229598045349\n",
      "loss_g: 0.89990234375, loss_d: 0.2946579158306122\n",
      "loss_g: 1.4814453125, loss_d: 0.11693395674228668\n",
      "loss_g: 1.669921875, loss_d: 0.06810253858566284\n",
      "loss_g: 1.5810546875, loss_d: 0.05084984377026558\n",
      "loss_g: 1.5263671875, loss_d: 2.8214454650878906\n",
      "loss_g: 1.314453125, loss_d: 0.14812079071998596\n",
      "loss_g: 0.90283203125, loss_d: 0.2836000621318817\n",
      "loss_g: 1.4052734375, loss_d: 0.08502821624279022\n",
      "loss_g: 0.468994140625, loss_d: 1.330275535583496\n",
      "loss_g: 0.6865234375, loss_d: 0.6471701860427856\n",
      "loss_g: 1.2138671875, loss_d: 0.11029145121574402\n",
      "loss_g: 1.5283203125, loss_d: 0.07151156663894653\n",
      "loss_g: 0.482666015625, loss_d: 1.244706392288208\n",
      "loss_g: 0.86669921875, loss_d: 0.4349740445613861\n",
      "loss_g: 1.0107421875, loss_d: 1.004554033279419\n",
      "loss_g: 1.21484375, loss_d: 0.13719534873962402\n",
      "loss_g: 1.2919921875, loss_d: 1.9518229961395264\n",
      "loss_g: 1.1826171875, loss_d: 0.19635602831840515\n",
      "loss_g: 1.0458984375, loss_d: 0.22281165421009064\n",
      "loss_g: 1.671875, loss_d: 0.07048339396715164\n",
      "loss_g: 1.931640625, loss_d: 0.05835458263754845\n",
      "loss_g: 1.8740234375, loss_d: 0.031925324350595474\n",
      "loss_g: 1.9990234375, loss_d: 2.9545774459838867\n",
      "loss_g: 0.791015625, loss_d: 1.033954381942749\n",
      "loss_g: 0.828125, loss_d: 0.973433256149292\n",
      "loss_g: 0.327392578125, loss_d: 1.693874716758728\n",
      "loss_g: 0.732421875, loss_d: 1.2299271821975708\n",
      "loss_g: 0.6171875, loss_d: 1.552566409111023\n",
      "loss_g: 0.68408203125, loss_d: 0.6192275285720825\n",
      "loss_g: 0.765625, loss_d: 0.6346405744552612\n",
      "loss_g: 0.802734375, loss_d: 0.6529829502105713\n",
      "loss_g: 1.0625, loss_d: 1.7690379619598389\n",
      "loss_g: 0.27880859375, loss_d: 2.6587796211242676\n",
      "loss_g: 0.646484375, loss_d: 1.2402349710464478\n",
      "loss_g: 0.6396484375, loss_d: 0.8703217506408691\n",
      "loss_g: 0.33984375, loss_d: 1.4472784996032715\n",
      "loss_g: 0.8515625, loss_d: 0.5819804668426514\n",
      "loss_g: 1.1728515625, loss_d: 0.14690522849559784\n",
      "loss_g: 0.92626953125, loss_d: 1.6545825004577637\n",
      "loss_g: 0.982421875, loss_d: 0.20319737493991852\n",
      "loss_g: 1.1318359375, loss_d: 0.1404416263103485\n",
      "loss_g: 0.2138671875, loss_d: 1.8603438138961792\n",
      "loss_g: 1.5751953125, loss_d: 0.06733378767967224\n",
      "loss_g: 1.623046875, loss_d: 0.05372319743037224\n",
      "loss_g: 1.6748046875, loss_d: 0.049301035702228546\n",
      "loss_g: 1.748046875, loss_d: 0.05121462419629097\n",
      "loss_g: 1.8037109375, loss_d: 0.040881335735321045\n",
      "loss_g: 1.8330078125, loss_d: 0.03413555771112442\n",
      "loss_g: 1.7705078125, loss_d: 0.034353047609329224\n",
      "loss_g: 1.2958984375, loss_d: 0.25855886936187744\n",
      "loss_g: 1.6025390625, loss_d: 0.13195231556892395\n",
      "loss_g: 1.625, loss_d: 0.09389221668243408\n",
      "loss_g: 0.46826171875, loss_d: 0.9309119582176208\n",
      "loss_g: 1.8369140625, loss_d: 0.03493063151836395\n",
      "loss_g: 1.052734375, loss_d: 0.603338360786438\n",
      "loss_g: 1.65234375, loss_d: 0.05066753923892975\n",
      "loss_g: 1.169921875, loss_d: 3.3745410442352295\n",
      "loss_g: 1.2890625, loss_d: 0.1845567673444748\n",
      "loss_g: 1.658203125, loss_d: 0.11417070031166077\n",
      "loss_g: 1.208984375, loss_d: 2.1721415519714355\n",
      "loss_g: 0.537109375, loss_d: 1.2891685962677002\n",
      "loss_g: 0.61767578125, loss_d: 0.9674421548843384\n",
      "loss_g: 0.322021484375, loss_d: 1.5159637928009033\n",
      "loss_g: 0.94287109375, loss_d: 0.22198496758937836\n",
      "loss_g: 0.931640625, loss_d: 0.3410367965698242\n",
      "loss_g: 1.3720703125, loss_d: 0.11358099430799484\n",
      "loss_g: 0.62841796875, loss_d: 1.3697760105133057\n",
      "loss_g: 0.379150390625, loss_d: 1.372207522392273\n",
      "loss_g: 0.360107421875, loss_d: 1.383110523223877\n",
      "loss_g: 1.1337890625, loss_d: 0.1692589968442917\n",
      "loss_g: 1.23046875, loss_d: 1.742251992225647\n",
      "loss_g: 1.0625, loss_d: 0.27734053134918213\n",
      "loss_g: 1.451171875, loss_d: 0.1377100944519043\n",
      "loss_g: 1.1875, loss_d: 0.1337020844221115\n",
      "loss_g: 0.84619140625, loss_d: 1.825594186782837\n",
      "loss_g: 0.86669921875, loss_d: 0.2163591980934143\n",
      "loss_g: 0.8671875, loss_d: 1.8271480798721313\n",
      "loss_g: 0.70361328125, loss_d: 1.5074293613433838\n",
      "loss_g: 0.6279296875, loss_d: 1.370405673980713\n",
      "loss_g: 0.580078125, loss_d: 1.2750576734542847\n",
      "loss_g: 0.6708984375, loss_d: 0.39871618151664734\n",
      "loss_g: 0.7958984375, loss_d: 1.2740302085876465\n",
      "loss_g: 0.66455078125, loss_d: 1.3470423221588135\n",
      "loss_g: 0.412109375, loss_d: 1.38313627243042\n",
      "loss_g: 0.378662109375, loss_d: 1.3840115070343018\n",
      "loss_g: 0.371337890625, loss_d: 1.3803348541259766\n",
      "loss_g: 0.365478515625, loss_d: 1.3872566223144531\n",
      "loss_g: 0.580078125, loss_d: 1.4091217517852783\n",
      "loss_g: 0.52880859375, loss_d: 1.3885762691497803\n",
      "loss_g: 0.480712890625, loss_d: 1.3993197679519653\n",
      "loss_g: 0.45068359375, loss_d: 1.3753938674926758\n",
      "loss_g: 0.465087890625, loss_d: 1.3700881004333496\n",
      "loss_g: 0.3974609375, loss_d: 1.3767549991607666\n",
      "loss_g: 0.362548828125, loss_d: 1.3896170854568481\n",
      "loss_g: 0.364990234375, loss_d: 1.3880397081375122\n",
      "loss_g: 0.355224609375, loss_d: 1.3879458904266357\n",
      "loss_g: 0.5341796875, loss_d: 1.3710854053497314\n",
      "loss_g: 0.52294921875, loss_d: 1.3033220767974854\n",
      "loss_g: 0.390869140625, loss_d: 1.3939439058303833\n",
      "loss_g: 0.51904296875, loss_d: 1.3921314477920532\n"
     ]
    }
   ],
   "source": [
    "epochs = 10  # Example number of epochs\n",
    "w1 = 0.2\n",
    "w2 = 0.3\n",
    "w3 = 0.5\n",
    "batch_size = 128\n",
    "\n",
    "for epoch in range(epochs):\n",
    "    gen_loss_total = 0\n",
    "    disc_loss_total = 0\n",
    "    num_batches = 0\n",
    "    \n",
    "    for batch in data_loader:\n",
    "        batch_size = np.array(batch).shape[0]  \n",
    "        # print(\"Generate random noise...\")\n",
    "        z = generate_random_noise(batch_size, time_window, features) \n",
    "        z = np.float16(z)\n",
    "        num_batches += 1\n",
    "        \n",
    "        # Train discriminator\n",
    "        with tf.GradientTape() as disc_tape:\n",
    "            real_output = discriminator(np.array(batch))  # Discriminator evaluates real data\n",
    "            generated_x = generator(z)          # Generator produces data from noise\n",
    "            fake_output = discriminator(generated_x)  # Discriminator evaluates generated data\n",
    "            disc_loss = discriminator_loss(real_output, fake_output)\n",
    "        \n",
    "        # print(\"Discriminator train...\")\n",
    "        gradients_of_discriminator = disc_tape.gradient(disc_loss, discriminator.trainable_variables)\n",
    "        disc_optimizer.apply_gradients(zip(gradients_of_discriminator, discriminator.trainable_variables))\n",
    "        \n",
    "        # Train generator\n",
    "        with tf.GradientTape() as gen_tape:\n",
    "            generated_x = generator(z)          # Generator produces data from noise\n",
    "            fake_output_gen = discriminator(generated_x)  # Discriminator evaluates generated data\n",
    "            \n",
    "            # Since we're training the generator, we compare the generated data against real data\n",
    "            z_enc1 = generator.encoder(np.array(batch))  # Encoder1 with real data\n",
    "            z_enc2 = encoder2(generated_x)     # Encoder2 with generated data\n",
    "            \n",
    "            gen_loss = generator_loss(batch, generated_x, z_enc1, z_enc2, fake_output_gen, w1, w2, w3)\n",
    "        \n",
    "        # print(\"Generator train...\")\n",
    "        gradients_of_generator = gen_tape.gradient(gen_loss, generator.trainable_variables)\n",
    "        gen_optimizer.apply_gradients(zip(gradients_of_generator, generator.trainable_variables))\n",
    "        \n",
    "        gen_loss_total += gen_loss.numpy()\n",
    "        disc_loss_total += disc_loss.numpy()\n",
    "\n",
    "        if num_batches % 100 == 0:\n",
    "            print(f'loss_g: {gen_loss}, loss_d: {disc_loss}')\n",
    "    \n",
    "    avg_gen_loss = gen_loss_total / num_batches\n",
    "    avg_disc_loss = disc_loss_total / num_batches\n",
    "    \n",
    "    # Log the losses\n",
    "    print(f'Epoch {epoch+1}/{epochs}, Generator Loss: {avg_gen_loss}, Discriminator Loss: {avg_disc_loss}')\n",
    "    # save each model\n",
    "    generator.encoder.save(\"../../models/3W/LSTM-GAN/generator-encoder-v1.keras\")\n",
    "    generator.decoder.save(\"../../models/3W/LSTM-GAN/generator-decoder-v1.keras\")\n",
    "    encoder2.save(\"../../models/3W/LSTM-GAN/encoder2-v1.keras\")\n",
    "    discriminator.save(\"../../models/3W/LSTM-GAN/discriminator-v1.keras\")\n"
   ]
  },
  {
   "cell_type": "code",
   "execution_count": 19,
   "metadata": {},
   "outputs": [
    {
     "name": "stdout",
     "output_type": "stream",
     "text": [
      "15493\n"
     ]
    }
   ],
   "source": [
    "ttt = [np.array(batch).shape for batch in data_loader]\n",
    "print(len(ttt))"
   ]
  },
  {
   "cell_type": "code",
   "execution_count": 17,
   "metadata": {},
   "outputs": [],
   "source": [
    "# Sample dataset and training example\n",
    "# train_data = merged_data_np_3d\n",
    "# train_dataset = tf.data.Dataset.from_tensor_slices(train_data).batch(32)"
   ]
  },
  {
   "cell_type": "code",
   "execution_count": null,
   "metadata": {},
   "outputs": [],
   "source": [
    "z_test = generate_random_noise(100, )"
   ]
  },
  {
   "cell_type": "code",
   "execution_count": 18,
   "metadata": {},
   "outputs": [
    {
     "name": "stderr",
     "output_type": "stream",
     "text": [
      "c:\\Users\\farra\\anaconda3\\lib\\site-packages\\keras\\backend.py:5673: UserWarning: \"`binary_crossentropy` received `from_logits=True`, but the `output` argument was produced by a Sigmoid activation and thus does not represent logits. Was this intended?\n",
      "  output, from_logits = _get_logits(\n"
     ]
    },
    {
     "name": "stdout",
     "output_type": "stream",
     "text": [
      "Epoch 1, Gen Loss: 0.45279908180236816, Disc Loss: 1.5207252502441406\n",
      "Epoch 2, Gen Loss: 0.4675253927707672, Disc Loss: 1.4082858562469482\n",
      "Epoch 3, Gen Loss: 0.48224130272865295, Disc Loss: 1.3940682411193848\n",
      "Epoch 4, Gen Loss: 5.453711032867432, Disc Loss: 0.0005041113472543657\n",
      "Epoch 5, Gen Loss: 13.330048561096191, Disc Loss: 3.501121881299696e-08\n",
      "Epoch 6, Gen Loss: 17.846107482910156, Disc Loss: 9.16796150107757e-09\n",
      "Epoch 7, Gen Loss: 17.771203994750977, Disc Loss: 8.481889857137048e-09\n",
      "Epoch 8, Gen Loss: 17.169925689697266, Disc Loss: 7.811036262239668e-09\n",
      "Epoch 9, Gen Loss: 17.8572940826416, Disc Loss: 7.140829261231829e-09\n",
      "Epoch 10, Gen Loss: 26.032379150390625, Disc Loss: 6.6587486635683035e-09\n"
     ]
    }
   ],
   "source": [
    "# Train the model\n",
    "# train(train_dataset, epochs=10)"
   ]
  },
  {
   "cell_type": "code",
   "execution_count": 20,
   "metadata": {},
   "outputs": [
    {
     "name": "stdout",
     "output_type": "stream",
     "text": [
      "WARNING:tensorflow:Compiled the loaded model, but the compiled metrics have yet to be built. `model.compile_metrics` will be empty until you train or evaluate the model.\n",
      "WARNING:tensorflow:Compiled the loaded model, but the compiled metrics have yet to be built. `model.compile_metrics` will be empty until you train or evaluate the model.\n"
     ]
    }
   ],
   "source": [
    "generator.save(\"generator_lstm_gan_10.h5\")\n",
    "discriminator.save(\"discriminator_lstm_gan_10.h5\")"
   ]
  },
  {
   "cell_type": "code",
   "execution_count": 21,
   "metadata": {},
   "outputs": [
    {
     "name": "stdout",
     "output_type": "stream",
     "text": [
      "WARNING:tensorflow:No training configuration found in the save file, so the model was *not* compiled. Compile it manually.\n"
     ]
    }
   ],
   "source": [
    "gener = keras.models.load_model(\"generator_lstm_gan_10.h5\")"
   ]
  },
  {
   "cell_type": "code",
   "execution_count": 22,
   "metadata": {},
   "outputs": [],
   "source": [
    "merged_df_test = get_dataset('dataset_processed/splitted/2/test')\n",
    "merged_data_test_class = merged_df_test['class']\n",
    "\n",
    "merged_data_test_np = merged_df_test.drop('class', axis=1).values"
   ]
  },
  {
   "cell_type": "code",
   "execution_count": 27,
   "metadata": {},
   "outputs": [],
   "source": [
    "scaler_test = pickle.load(open('StandardScaler.pkl', 'rb'))\n",
    "merged_data_test_np_scaled = scaler_test.transform(merged_data_test_np)\n",
    "merged_data_test_np_3d = convert_time_window(merged_data_test_np, 10)"
   ]
  },
  {
   "cell_type": "code",
   "execution_count": 28,
   "metadata": {},
   "outputs": [
    {
     "name": "stdout",
     "output_type": "stream",
     "text": [
      "3439/3439 [==============================] - 15s 4ms/step\n"
     ]
    }
   ],
   "source": [
    "test_data = merged_data_test_np_3d\n",
    "fake_data = gener.predict(test_data)\n"
   ]
  },
  {
   "cell_type": "code",
   "execution_count": 31,
   "metadata": {},
   "outputs": [],
   "source": [
    "fake_data_2d = inverse_convert_time_window(fake_data)"
   ]
  },
  {
   "cell_type": "code",
   "execution_count": 41,
   "metadata": {},
   "outputs": [],
   "source": [
    "scalerrr = sklearn.preprocessing.StandardScaler()\n",
    "fake_data_2d_scaled = scalerrr.fit_transform(fake_data_2d)"
   ]
  },
  {
   "cell_type": "code",
   "execution_count": 44,
   "metadata": {},
   "outputs": [
    {
     "data": {
      "image/png": "[encoded data removed]",
      "text/plain": [
       "<Figure size 1300x700 with 1 Axes>"
      ]
     },
     "metadata": {},
     "output_type": "display_data"
    }
   ],
   "source": [
    "plt.figure(figsize=(13,7))\n",
    "plt.plot(merged_data_test_np_scaled)\n",
    "plt.plot(fake_data_2d_scaled)\n",
    "plt.show()"
   ]
  },
  {
   "cell_type": "code",
   "execution_count": 46,
   "metadata": {},
   "outputs": [
    {
     "data": {
      "image/png": "[encoded data removed]",
      "text/plain": [
       "<Figure size 1300x700 with 1 Axes>"
      ]
     },
     "metadata": {},
     "output_type": "display_data"
    }
   ],
   "source": [
    "r_e = calculate_reconstruction_loss(merged_data_test_np_scaled, fake_data_2d_scaled)\n",
    "\n",
    "plt.figure(figsize=(13,7))\n",
    "plt.plot(r_e)\n",
    "# plt.plot(fake_data_2d_scaled)\n",
    "plt.show()"
   ]
  },
  {
   "cell_type": "code",
   "execution_count": 28,
   "metadata": {},
   "outputs": [],
   "source": [
    "\n",
    "# Latent space reconstruction loss\n",
    "latent_real = generator(test_data)\n",
    "latent_fake = generator(fake_data)\n",
    "\n",
    "anomaly_score = np.mean(np.square(latent_real - latent_fake), axis=1)\n"
   ]
  },
  {
   "cell_type": "code",
   "execution_count": null,
   "metadata": {},
   "outputs": [],
   "source": [
    "\n",
    "# Evaluate the model (replace `true_labels` with actual labels)\n",
    "true_labels = np.random.randint(0, 4, size=1000)\n",
    "evaluate_model(train_data, true_labels, thresholds=[0.2, 0.5, 0.7])"
   ]
  }
 ],
 "metadata": {
  "kernelspec": {
   "display_name": "base",
   "language": "python",
   "name": "python3"
  },
  "language_info": {
   "codemirror_mode": {
    "name": "ipython",
    "version": 3
   },
   "file_extension": ".py",
   "mimetype": "text/x-python",
   "name": "python",
   "nbconvert_exporter": "python",
   "pygments_lexer": "ipython3",
   "version": "3.9.18"
  }
 },
 "nbformat": 4,
 "nbformat_minor": 2
}
