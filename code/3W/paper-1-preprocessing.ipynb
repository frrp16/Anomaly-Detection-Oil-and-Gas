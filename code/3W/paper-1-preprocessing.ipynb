{
 "cells": [
  {
   "cell_type": "code",
   "execution_count": 1,
   "metadata": {},
   "outputs": [],
   "source": [
    "import os\n",
    "import sys\n",
    "import time\n",
    "import shutil\n",
    "\n",
    "import numpy as np\n",
    "import pandas as pd"
   ]
  },
  {
   "cell_type": "markdown",
   "metadata": {},
   "source": [
    "### Data Split, Normalization"
   ]
  },
  {
   "cell_type": "code",
   "execution_count": 2,
   "metadata": {},
   "outputs": [],
   "source": [
    "def instance_split_train_test(directory, train_split: float):\n",
    "    files = os.listdir(directory)\n",
    "    sample_size = 0\n",
    "    for file in files:\n",
    "        if os.path.isdir(os.path.join(directory, file)):\n",
    "            continue\n",
    "        df = pd.read_csv(os.path.join(directory, file))\n",
    "        sample_size = sample_size + df.shape[0]\n",
    "    \n",
    "    train_size = round(sample_size * train_split)\n",
    "    test_size = sample_size - train_size\n",
    "\n",
    "    return sample_size, train_size, test_size\n"
   ]
  },
  {
   "cell_type": "code",
   "execution_count": 3,
   "metadata": {},
   "outputs": [],
   "source": [
    "dataset_dir = \"dataset_processed/csv/2\"\n",
    "sample_size, train_size, test_size = instance_split_train_test(dataset_dir, 0.8)\n",
    "\n",
    "train_files = []\n",
    "temp = 0\n",
    "for files in os.listdir(dataset_dir):\n",
    "    if os.path.isdir(os.path.join(dataset_dir, files)):\n",
    "        continue\n",
    "    df = pd.read_csv(os.path.join(dataset_dir, files))\n",
    "    temp = temp + df.shape[0]\n",
    "    train_files.append(files)\n",
    "    if temp >= train_size:\n",
    "        break"
   ]
  },
  {
   "cell_type": "code",
   "execution_count": 5,
   "metadata": {},
   "outputs": [],
   "source": [
    "test_files = list(set(os.listdir(dataset_dir)).difference(train_files))\n",
    "directory_splitted = \"dataset_processed/splitted/2\"\n",
    "\n",
    "if not os.path.exists(os.path.join(directory_splitted, \"train\")):\n",
    "    os.makedirs(os.path.join(directory_splitted, \"train\"))\n",
    "\n",
    "if not os.path.exists(os.path.join(directory_splitted, \"test\")):\n",
    "    os.makedirs(os.path.join(directory_splitted, \"test\"))\n",
    "\n",
    "for train in train_files:\n",
    "    shutil.copy(os.path.join(dataset_dir, train), os.path.join(directory_splitted,\"train\", train))\n",
    "\n",
    "for test in test_files:\n",
    "    shutil.copy(os.path.join(dataset_dir, test), os.path.join(directory_splitted,\"test\", test))"
   ]
  },
  {
   "cell_type": "markdown",
   "metadata": {},
   "source": [
    "### Shifting Transient-Faulty label forward"
   ]
  },
  {
   "cell_type": "code",
   "execution_count": null,
   "metadata": {},
   "outputs": [],
   "source": []
  }
 ],
 "metadata": {
  "kernelspec": {
   "display_name": "eeg_env",
   "language": "python",
   "name": "python3"
  },
  "language_info": {
   "codemirror_mode": {
    "name": "ipython",
    "version": 3
   },
   "file_extension": ".py",
   "mimetype": "text/x-python",
   "name": "python",
   "nbconvert_exporter": "python",
   "pygments_lexer": "ipython3",
   "version": "3.10.6"
  }
 },
 "nbformat": 4,
 "nbformat_minor": 2
}
