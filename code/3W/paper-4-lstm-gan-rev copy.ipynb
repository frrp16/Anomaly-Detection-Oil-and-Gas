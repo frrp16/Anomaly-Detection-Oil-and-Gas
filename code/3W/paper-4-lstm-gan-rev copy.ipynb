{
 "cells": [
  {
   "cell_type": "code",
   "execution_count": 1,
   "metadata": {},
   "outputs": [
    {
     "name": "stderr",
     "output_type": "stream",
     "text": [
      "2024-09-14 12:05:01.528634: I tensorflow/core/util/port.cc:113] oneDNN custom operations are on. You may see slightly different numerical results due to floating-point round-off errors from different computation orders. To turn them off, set the environment variable `TF_ENABLE_ONEDNN_OPTS=0`.\n",
      "2024-09-14 12:05:01.566050: E external/local_xla/xla/stream_executor/cuda/cuda_dnn.cc:9261] Unable to register cuDNN factory: Attempting to register factory for plugin cuDNN when one has already been registered\n",
      "2024-09-14 12:05:01.566093: E external/local_xla/xla/stream_executor/cuda/cuda_fft.cc:607] Unable to register cuFFT factory: Attempting to register factory for plugin cuFFT when one has already been registered\n",
      "2024-09-14 12:05:01.567942: E external/local_xla/xla/stream_executor/cuda/cuda_blas.cc:1515] Unable to register cuBLAS factory: Attempting to register factory for plugin cuBLAS when one has already been registered\n",
      "2024-09-14 12:05:01.578978: I tensorflow/core/platform/cpu_feature_guard.cc:182] This TensorFlow binary is optimized to use available CPU instructions in performance-critical operations.\n",
      "To enable the following instructions: AVX2 AVX512F AVX512_VNNI FMA, in other operations, rebuild TensorFlow with the appropriate compiler flags.\n",
      "2024-09-14 12:05:02.508898: W tensorflow/compiler/tf2tensorrt/utils/py_utils.cc:38] TF-TRT Warning: Could not find TensorRT\n"
     ]
    }
   ],
   "source": [
    "import os\n",
    "import sys\n",
    "import time\n",
    "import shutil\n",
    "import pickle\n",
    "\n",
    "import numpy as np\n",
    "import pandas as pd\n",
    "import tensorflow as tf\n",
    "import matplotlib.pyplot as plt\n",
    "\n",
    "%matplotlib inline\n",
    "\n",
    "from sklearn.metrics import f1_score\n",
    "from tensorflow import keras\n",
    "from tensorflow.keras import layers, models\n",
    "\n",
    "import sklearn.preprocessing\n",
    "from sklearn.metrics import precision_score, recall_score, f1_score, confusion_matrix"
   ]
  },
  {
   "cell_type": "code",
   "execution_count": 2,
   "metadata": {},
   "outputs": [
    {
     "name": "stderr",
     "output_type": "stream",
     "text": [
      "2024-09-14 12:05:04.018570: I external/local_xla/xla/stream_executor/cuda/cuda_executor.cc:887] could not open file to read NUMA node: /sys/bus/pci/devices/0000:01:00.0/numa_node\n",
      "Your kernel may have been built without NUMA support.\n",
      "2024-09-14 12:05:04.079820: I external/local_xla/xla/stream_executor/cuda/cuda_executor.cc:887] could not open file to read NUMA node: /sys/bus/pci/devices/0000:01:00.0/numa_node\n",
      "Your kernel may have been built without NUMA support.\n",
      "2024-09-14 12:05:04.079954: I external/local_xla/xla/stream_executor/cuda/cuda_executor.cc:887] could not open file to read NUMA node: /sys/bus/pci/devices/0000:01:00.0/numa_node\n",
      "Your kernel may have been built without NUMA support.\n"
     ]
    }
   ],
   "source": [
    "gpus = tf.config.experimental.list_physical_devices('GPU')\n",
    "if gpus:\n",
    "    try:\n",
    "        for gpu in gpus:\n",
    "            tf.config.experimental.set_virtual_device_configuration(\n",
    "                gpu,\n",
    "                [tf.config.experimental.VirtualDeviceConfiguration(memory_limit=4096)])  # Set your memory limit here\n",
    "    except RuntimeError as e:\n",
    "        print(e)"
   ]
  },
  {
   "cell_type": "code",
   "execution_count": 3,
   "metadata": {},
   "outputs": [],
   "source": [
    "def get_dataset(directory, single_file=False, use_half=False, section=1, use_num_files=False, num_files=100):  \n",
    "    if single_file:\n",
    "        df = pd.read_csv(directory, index_col='timestamp')\n",
    "        df.dropna(inplace=True)\n",
    "        return df\n",
    "    \n",
    "    merged_df = pd.DataFrame()\n",
    "    list_files = os.listdir(directory)\n",
    "    print(len(list_files))\n",
    "    if use_num_files:\n",
    "        for i in range(num_files):\n",
    "            df = pd.read_csv(os.path.join(directory, list_files[i]), index_col='timestamp')\n",
    "            df.dropna(inplace=True)\n",
    "            merged_df = pd.concat([merged_df, df], ignore_index=True)\n",
    "\n",
    "    if use_half:\n",
    "        for i, files in enumerate(list_files):\n",
    "            if section==1:\n",
    "                if i > len(list_files) //2:\n",
    "                    continue\n",
    "                df = pd.read_csv(os.path.join(directory, files), index_col='timestamp')\n",
    "                df.dropna(inplace=True)\n",
    "                merged_df = pd.concat([merged_df, df], ignore_index=True)\n",
    "            if section==2:\n",
    "                if i <= len(list_files) // 2:\n",
    "                    continue\n",
    "                df = pd.read_csv(os.path.join(directory, files), index_col='timestamp')\n",
    "                df.dropna(inplace=True)\n",
    "                merged_df = pd.concat([merged_df, df], ignore_index=True)\n",
    "    else:\n",
    "        for files in list_files:\n",
    "            df = pd.read_csv(os.path.join(directory, files), index_col='timestamp')\n",
    "            df.dropna(inplace=True)\n",
    "            merged_df = pd.concat([merged_df, df], ignore_index=True)\n",
    "    \n",
    "    # print(i)\n",
    "    return merged_df"
   ]
  },
  {
   "cell_type": "code",
   "execution_count": 4,
   "metadata": {},
   "outputs": [],
   "source": [
    "def convert_time_window(data, timesteps):\n",
    "    samples = data.shape[0] - timesteps + 1  # Number of samples in the new 3D array\n",
    "    variables = data.shape[1]  # Number of variables (features)\n",
    "\n",
    "    data_3d = np.zeros((samples, timesteps, variables), dtype='float16')\n",
    "\n",
    "    for i in range(samples):\n",
    "        data_3d[i] = data[i:i+timesteps]\n",
    "    return data_3d"
   ]
  },
  {
   "cell_type": "code",
   "execution_count": 5,
   "metadata": {},
   "outputs": [],
   "source": [
    "def inverse_convert_time_window(data_3d):\n",
    "    samples, timesteps, variables = data_3d.shape\n",
    "    data_2d = np.zeros((samples + timesteps - 1, variables))\n",
    "\n",
    "    count = np.zeros((samples + timesteps - 1, variables))\n",
    "\n",
    "    for i in range(samples):\n",
    "        data_2d[i:i+timesteps] += data_3d[i]\n",
    "        count[i:i+timesteps] += 1\n",
    "\n",
    "    # Average the overlapping segments\n",
    "    data_2d /= count\n",
    "    return data_2d"
   ]
  },
  {
   "cell_type": "code",
   "execution_count": 6,
   "metadata": {},
   "outputs": [],
   "source": [
    "def calculate_reconstruction_loss(data, reconstructions):\n",
    "    reconstruction_errors = np.mean(np.abs(data - reconstructions), axis=1)\n",
    "    return reconstruction_errors"
   ]
  },
  {
   "cell_type": "code",
   "execution_count": 7,
   "metadata": {},
   "outputs": [],
   "source": [
    "def find_optimal_threshold(reconstruction_errors, y_true, num_steps=500):\n",
    "    # Initialize variables\n",
    "    best_f1 = 0\n",
    "    best_upper_threshold = 0\n",
    "    best_lower_threshold = 0\n",
    "    best_y_pred = None\n",
    "    \n",
    "    # Calculate median, mean, and max of reconstruction errors\n",
    "    q1 = np.percentile(reconstruction_errors, 25)\n",
    "    q3 = np.percentile(reconstruction_errors, 75)\n",
    "    max_error = np.max(reconstruction_errors)\n",
    "    min_error = -1 * max_error\n",
    "    \n",
    "    # Define search ranges for upper and lower thresholds\n",
    "    upper_search_range = np.linspace(q3, max_error, num=num_steps)\n",
    "    lower_search_range = np.linspace(q1, min_error, num=num_steps)\n",
    "    \n",
    "    # Iterate over both thresholds in parallel\n",
    "    for upper_threshold, lower_threshold in zip(upper_search_range, lower_search_range):\n",
    "        if upper_threshold > lower_threshold:  # Ensure valid threshold combination\n",
    "            # Get y_pred based on the current thresholds\n",
    "            y_pred = np.where((reconstruction_errors > upper_threshold) | (reconstruction_errors < lower_threshold), 1, 0)\n",
    "            \n",
    "            # Calculate F1-score\n",
    "            current_f1 = f1_score(y_true.astype(bool), y_pred.astype(bool))\n",
    "            \n",
    "            # Update if a better F1-score is found\n",
    "            if current_f1 > best_f1:\n",
    "                best_f1 = current_f1\n",
    "                best_upper_threshold = upper_threshold\n",
    "                best_lower_threshold = lower_threshold\n",
    "                best_y_pred = y_pred\n",
    "\n",
    "    threshold_range = best_upper_threshold - best_lower_threshold\n",
    "    # Iterate over possible starting points for the lower threshold\n",
    "    for lower_threshold in np.linspace(min_error, max_error - threshold_range, num=num_steps):\n",
    "        upper_threshold = lower_threshold + threshold_range\n",
    "\n",
    "        if upper_threshold > max_error:  # Ensure valid upper threshold\n",
    "            break\n",
    "\n",
    "        # Generate predictions for the current threshold range\n",
    "        y_pred = np.where((reconstruction_errors > upper_threshold) | (reconstruction_errors < lower_threshold), 1, 0)\n",
    "\n",
    "        # Calculate F1-score\n",
    "        current_f1 = f1_score(y_true.astype(bool), y_pred.astype(bool))\n",
    "\n",
    "        # Update if a better F1-score is found\n",
    "        if current_f1 > best_f1:\n",
    "            best_f1 = current_f1\n",
    "            best_upper_threshold = upper_threshold\n",
    "            best_lower_threshold = lower_threshold\n",
    "            best_y_pred = y_pred\n",
    "\n",
    "    return best_upper_threshold, best_lower_threshold, best_f1, best_y_pred\n"
   ]
  },
  {
   "cell_type": "markdown",
   "metadata": {},
   "source": [
    "## Training"
   ]
  },
  {
   "cell_type": "code",
   "execution_count": 8,
   "metadata": {},
   "outputs": [],
   "source": [
    "# dataset_dir = \"../../datasets/3W/dataset_processed/splitted/0/train\"\n",
    "\n",
    "# list_files = os.listdir(dataset_dir)\n",
    "# file_count = 100\n",
    "\n",
    "# merged_df = pd.DataFrame()\n",
    "\n",
    "\n",
    "# for i in range(len(list_files)):\n",
    "#     # if i <= file_count:\n",
    "#     #     continue\n",
    "#     df = pd.read_csv(os.path.join(dataset_dir, list_files[i]), index_col='timestamp')\n",
    "#     # if ['P-ANULAR','P-TPT','T-TPT','class'] == list(df.columns):\n",
    "#     print(df.columns)\n",
    "#     df.columns = ['C1', 'C2', 'C3', 'class']\n",
    "#     merged_df = pd.concat([merged_df, df], ignore_index=True)\n",
    "#     print(list_files[i])\n",
    "#     if i >= file_count:\n",
    "#         break"
   ]
  },
  {
   "cell_type": "code",
   "execution_count": 9,
   "metadata": {},
   "outputs": [
    {
     "name": "stdout",
     "output_type": "stream",
     "text": [
      "Index(['P-ANULAR', 'P-TPT', 'T-TPT', 'class'], dtype='object')\n",
      "WELL-00011_20140726165720.csv\n",
      "Index(['P-PDG', 'P-TPT', 'T-TPT', 'class'], dtype='object')\n",
      "SIMULATED_00012.csv\n",
      "Index(['ESTADO-SDV-GL', 'ESTADO-SDV-P', 'T-TPT', 'class'], dtype='object')\n",
      "WELL-00010_20171218180131.csv\n",
      "Index(['P-PDG', 'P-TPT', 'T-TPT', 'class'], dtype='object')\n",
      "WELL-00011_20140823230118.csv\n",
      "Index(['P-ANULAR', 'P-TPT', 'T-TPT', 'class'], dtype='object')\n",
      "WELL-00013_20170329010229.csv\n",
      "Index(['P-PDG', 'P-TPT', 'T-TPT', 'class'], dtype='object')\n",
      "SIMULATED_00004.csv\n",
      "Index(['P-PDG', 'P-TPT', 'T-TPT', 'class'], dtype='object')\n",
      "WELL-00011_20141006150121.csv\n",
      "Index(['P-PDG', 'P-TPT', 'T-TPT', 'class'], dtype='object')\n",
      "WELL-00011_20140929210121.csv\n",
      "Index(['P-ANULAR', 'P-TPT', 'T-TPT', 'class'], dtype='object')\n",
      "WELL-00011_20140720110102.csv\n",
      "Index(['P-PDG', 'P-TPT', 'T-TPT', 'class'], dtype='object')\n",
      "SIMULATED_00015.csv\n",
      "Index(['P-PDG', 'P-TPT', 'T-TPT', 'class'], dtype='object')\n",
      "SIMULATED_00014.csv\n",
      "Index(['P-PDG', 'P-TPT', 'T-TPT', 'class'], dtype='object')\n",
      "WELL-00011_20140928090056.csv\n",
      "Index(['P-PDG', 'P-TPT', 'T-TPT', 'class'], dtype='object')\n",
      "SIMULATED_00001.csv\n",
      "Index(['P-PDG', 'P-TPT', 'T-TPT', 'class'], dtype='object')\n",
      "SIMULATED_00006.csv\n",
      "Index(['P-PDG', 'P-TPT', 'T-TPT', 'class'], dtype='object')\n",
      "WELL-00011_20140606213810.csv\n",
      "Index(['P-PDG', 'P-TPT', 'T-TPT', 'class'], dtype='object')\n",
      "WELL-00012_20170320123144.csv\n",
      "Index(['P-PDG', 'P-TPT', 'T-TPT', 'class'], dtype='object')\n",
      "WELL-00011_20140530083203.csv\n",
      "Index(['P-PDG', 'P-TPT', 'T-TPT', 'class'], dtype='object')\n",
      "SIMULATED_00008.csv\n",
      "Index(['P-PDG', 'P-TPT', 'T-TPT', 'class'], dtype='object')\n",
      "SIMULATED_00010.csv\n",
      "Index(['P-PDG', 'P-TPT', 'T-TPT', 'class'], dtype='object')\n",
      "WELL-00011_20140929153332.csv\n",
      "Index(['P-PDG', 'P-TPT', 'T-TPT', 'class'], dtype='object')\n",
      "SIMULATED_00009.csv\n",
      "Index(['P-PDG', 'P-TPT', 'T-TPT', 'class'], dtype='object')\n",
      "SIMULATED_00005.csv\n",
      "Index(['P-PDG', 'P-TPT', 'T-TPT', 'class'], dtype='object')\n",
      "WELL-00011_20140916050300.csv\n",
      "Index(['P-PDG', 'P-TPT', 'T-TPT', 'class'], dtype='object')\n",
      "WELL-00011_20141005160056.csv\n",
      "Index(['P-PDG', 'P-TPT', 'T-TPT', 'class'], dtype='object')\n",
      "WELL-00011_20140515083000.csv\n",
      "Index(['P-PDG', 'P-TPT', 'T-TPT', 'class'], dtype='object')\n",
      "SIMULATED_00007.csv\n",
      "Index(['P-PDG', 'P-TPT', 'T-TPT', 'class'], dtype='object')\n",
      "SIMULATED_00016.csv\n",
      "Index(['P-PDG', 'P-TPT', 'T-TPT', 'class'], dtype='object')\n",
      "WELL-00003_20141122190000.csv\n",
      "Index(['P-PDG', 'P-TPT', 'T-TPT', 'class'], dtype='object')\n",
      "WELL-00012_20170320011000.csv\n",
      "Index(['ESTADO-DHSV', 'P-TPT', 'T-TPT', 'class'], dtype='object')\n",
      "WELL-00009_20170313150804.csv\n",
      "Index(['P-PDG', 'P-TPT', 'T-TPT', 'class'], dtype='object')\n",
      "SIMULATED_00003.csv\n"
     ]
    }
   ],
   "source": [
    "dataset_dir = \"../../datasets/3W/dataset_processed/splitted/2/train\"\n",
    "\n",
    "list_files = os.listdir(dataset_dir)\n",
    "file_count = 100\n",
    "\n",
    "merged_df = pd.DataFrame()\n",
    "\n",
    "\n",
    "for i in range(len(list_files)):\n",
    "    # if i <= file_count:\n",
    "    #     continue\n",
    "    df = pd.read_csv(os.path.join(dataset_dir, list_files[i]), index_col='timestamp')\n",
    "    # if ['P-ANULAR','P-TPT','T-TPT','class'] == list(df.columns):\n",
    "    print(df.columns)\n",
    "    df.columns = ['C1', 'C2', 'C3', 'class']\n",
    "    merged_df = pd.concat([merged_df, df], ignore_index=True)\n",
    "    print(list_files[i])\n",
    "    # if i >= file_count * 2:\n",
    "    #     break"
   ]
  },
  {
   "cell_type": "code",
   "execution_count": 10,
   "metadata": {},
   "outputs": [],
   "source": [
    "# merged_df = get_dataset('../../datasets/3W/dataset_processed/splitted/0/train')\n",
    "merged_data_class = merged_df['class']\n",
    "\n",
    "merged_data_np = merged_df.drop('class', axis=1).values"
   ]
  },
  {
   "cell_type": "code",
   "execution_count": 11,
   "metadata": {},
   "outputs": [],
   "source": [
    "scaler = pickle.load(open('StandardScaler-3W-2.pkl', 'rb'))\n",
    "# scaler = pickle.load(open('StandardScaler-3W-0.pkl', 'rb'))\n",
    "\n",
    "merged_data_np_scaled = scaler.transform(merged_data_np)"
   ]
  },
  {
   "cell_type": "code",
   "execution_count": 12,
   "metadata": {},
   "outputs": [
    {
     "data": {
      "image/png": "[encoded data removed]",
      "text/plain": [
       "<Figure size 1500x700 with 1 Axes>"
      ]
     },
     "metadata": {},
     "output_type": "display_data"
    }
   ],
   "source": [
    "plt.figure(figsize=(15,7))\n",
    "plt.plot(merged_data_np_scaled)\n",
    "plt.show()"
   ]
  },
  {
   "cell_type": "code",
   "execution_count": 13,
   "metadata": {},
   "outputs": [],
   "source": [
    "# scaler = sklearn.preprocessing.StandardScaler()\n",
    "# scaler.fit(merged_data_np)\n",
    "\n",
    "# merged_data_np_scaled = scaler.transform(merged_data_np)\n",
    "\n",
    "# pickle.dump(scaler, open('StandardScaler-3W-2.pkl', 'wb'))"
   ]
  },
  {
   "cell_type": "code",
   "execution_count": 14,
   "metadata": {},
   "outputs": [],
   "source": [
    "# merged_data_np_3d = convert_time_window(merged_data_np_scaled, 10)\n",
    "merged_data_np_3d = convert_time_window(merged_data_np_scaled, 10)"
   ]
  },
  {
   "cell_type": "code",
   "execution_count": 15,
   "metadata": {},
   "outputs": [
    {
     "data": {
      "text/plain": [
       "dtype('float16')"
      ]
     },
     "execution_count": 15,
     "metadata": {},
     "output_type": "execute_result"
    }
   ],
   "source": [
    "merged_data_np_3d.dtype"
   ]
  },
  {
   "cell_type": "code",
   "execution_count": 16,
   "metadata": {},
   "outputs": [
    {
     "data": {
      "text/plain": [
       "(604042, 10, 3)"
      ]
     },
     "execution_count": 16,
     "metadata": {},
     "output_type": "execute_result"
    }
   ],
   "source": [
    "merged_data_np_3d.shape"
   ]
  },
  {
   "cell_type": "code",
   "execution_count": null,
   "metadata": {},
   "outputs": [],
   "source": [
    "tf_dataset_path = \"../../datasets/3W/dataset_processed/tf_data/LSTM-GAN/train/2\"\n",
    "\n",
    "dataset = tf.data.Dataset.from_tensor_slices(merged_data_np_3d)\n",
    "dataset = dataset.batch(128)\n",
    "tf.data.Dataset.save(dataset, tf_dataset_path)"
   ]
  },
  {
   "cell_type": "markdown",
   "metadata": {},
   "source": [
    "### =================================================="
   ]
  },
  {
   "cell_type": "code",
   "execution_count": 9,
   "metadata": {},
   "outputs": [
    {
     "name": "stderr",
     "output_type": "stream",
     "text": [
      "2024-09-14 12:05:19.157701: I external/local_xla/xla/stream_executor/cuda/cuda_executor.cc:887] could not open file to read NUMA node: /sys/bus/pci/devices/0000:01:00.0/numa_node\n",
      "Your kernel may have been built without NUMA support.\n",
      "2024-09-14 12:05:19.157904: I external/local_xla/xla/stream_executor/cuda/cuda_executor.cc:887] could not open file to read NUMA node: /sys/bus/pci/devices/0000:01:00.0/numa_node\n",
      "Your kernel may have been built without NUMA support.\n",
      "2024-09-14 12:05:19.157945: I external/local_xla/xla/stream_executor/cuda/cuda_executor.cc:887] could not open file to read NUMA node: /sys/bus/pci/devices/0000:01:00.0/numa_node\n",
      "Your kernel may have been built without NUMA support.\n",
      "2024-09-14 12:05:19.346564: I external/local_xla/xla/stream_executor/cuda/cuda_executor.cc:887] could not open file to read NUMA node: /sys/bus/pci/devices/0000:01:00.0/numa_node\n",
      "Your kernel may have been built without NUMA support.\n",
      "2024-09-14 12:05:19.346617: I tensorflow/core/common_runtime/gpu/gpu_device.cc:2022] Could not identify NUMA node of platform GPU id 0, defaulting to 0.  Your kernel may not have been built with NUMA support.\n",
      "2024-09-14 12:05:19.346697: I external/local_xla/xla/stream_executor/cuda/cuda_executor.cc:887] could not open file to read NUMA node: /sys/bus/pci/devices/0000:01:00.0/numa_node\n",
      "Your kernel may have been built without NUMA support.\n",
      "2024-09-14 12:05:19.346727: I external/local_xla/xla/stream_executor/cuda/cuda_executor.cc:887] could not open file to read NUMA node: /sys/bus/pci/devices/0000:01:00.0/numa_node\n",
      "Your kernel may have been built without NUMA support.\n",
      "2024-09-14 12:05:19.346752: I tensorflow/core/common_runtime/gpu/gpu_device.cc:1929] Created device /job:localhost/replica:0/task:0/device:GPU:0 with 4096 MB memory:  -> device: 0, name: NVIDIA T500, pci bus id: 0000:01:00.0, compute capability: 7.5\n"
     ]
    }
   ],
   "source": [
    "# To use available dataset\n",
    "tf_dataset_path = \"../../datasets/3W/dataset_processed/tf_data/LSTM-GAN/train/2\"\n",
    "dataset = tf.data.Dataset.load(tf_dataset_path)"
   ]
  },
  {
   "cell_type": "code",
   "execution_count": 10,
   "metadata": {},
   "outputs": [],
   "source": [
    "def build_encoder(input_shape):\n",
    "    input_layer = layers.Input(shape=input_shape)\n",
    "    encoder = layers.LSTM(128, return_sequences=True)(input_layer)\n",
    "    encoder = layers.LSTM(64, return_sequences=True)(encoder)\n",
    "    encoder = layers.LSTM(32)(encoder)\n",
    "    encoder = layers.Dense(24, activation='relu')(encoder)\n",
    "    output_layer = layers.Dense(10, activation='relu')(encoder)\n",
    "\n",
    "    model = keras.models.Model(inputs=input_layer, outputs=output_layer, name=\"Encoder\")    \n",
    "    return model\n",
    "\n",
    "def build_decoder(output_shape):\n",
    "    input_layer = layers.Input(shape=(10,))\n",
    "    decoder = layers.Dense(24, activation='relu')(input_layer)\n",
    "    decoder = layers.Dense(24, activation='relu')(decoder)\n",
    "    decoder = layers.RepeatVector(output_shape[0])(decoder)\n",
    "\n",
    "    decoder = layers.LSTM(32, return_sequences=True)(decoder)\n",
    "    decoder = layers.LSTM(64, return_sequences=True)(decoder)\n",
    "    decoder = layers.LSTM(128, return_sequences=True)(decoder)\n",
    "\n",
    "    output_layer = layers.TimeDistributed(layers.Dense(output_shape[1]))(decoder)\n",
    "    model = keras.models.Model(inputs=input_layer, outputs=output_layer, name=\"Decoder\")\n",
    "    \n",
    "    return model\n",
    "\n",
    "def build_discriminator(input_shape):\n",
    "    input_layer = layers.Input(shape=input_shape)\n",
    "    encoder = layers.LSTM(128, return_sequences=True)(input_layer)\n",
    "    encoder = layers.LSTM(64, return_sequences=True)(encoder)\n",
    "    encoder = layers.LSTM(32)(encoder)\n",
    "    encoder = layers.Dense(24, activation='relu')(encoder)\n",
    "    encoder = layers.Dense(10, activation='relu')(encoder)\n",
    "    output_layer = layers.Dense(1, activation='sigmoid')(encoder)\n",
    "    \n",
    "    model = keras.models.Model(inputs=input_layer, outputs=output_layer, name=\"Discriminator\")\n",
    "\n",
    "    return model"
   ]
  },
  {
   "cell_type": "code",
   "execution_count": 11,
   "metadata": {},
   "outputs": [],
   "source": [
    "class Generator(models.Model):\n",
    "    def __init__(self, input_shape, output_shape):\n",
    "        super(Generator, self).__init__()\n",
    "        self.encoder = build_encoder(input_shape)\n",
    "        self.decoder = build_decoder(output_shape)\n",
    "\n",
    "    def call(self, x):\n",
    "        z = self.encoder(x)\n",
    "        reconstructed_x = self.decoder(z)\n",
    "        return reconstructed_x\n"
   ]
  },
  {
   "cell_type": "code",
   "execution_count": 13,
   "metadata": {},
   "outputs": [],
   "source": [
    "# L1 norm for lx\n",
    "def reconstruction_loss_lx(x, generated_x):\n",
    "    return tf.reduce_mean(tf.abs(x - generated_x))\n",
    "\n",
    "# L2 norm for lz\n",
    "def reconstruction_loss_lz(z_enc1, z_enc2):\n",
    "    return tf.reduce_mean(tf.square(z_enc1 - z_enc2))\n",
    "\n",
    "# Adversarial loss for generator\n",
    "def adversarial_loss(disc_output_gen):\n",
    "    return tf.keras.losses.BinaryCrossentropy()(tf.ones_like(disc_output_gen), disc_output_gen)\n",
    "\n",
    "# Total Generator loss\n",
    "def generator_loss(x, generated_x, z_enc1, z_enc2, disc_output_gen, w1, w2, w3):\n",
    "    x = tf.cast(x, tf.float16)\n",
    "    generated_x = tf.cast(generated_x, tf.float16)\n",
    "    z_enc1 = tf.cast(z_enc1, tf.float16)\n",
    "    z_enc2 = tf.cast(z_enc2, tf.float16)\n",
    "    disc_output_gen = tf.cast(disc_output_gen, tf.float16)\n",
    "\n",
    "    lx = reconstruction_loss_lx(x, generated_x)\n",
    "    lz = reconstruction_loss_lz(z_enc1, z_enc2)\n",
    "    ladv = adversarial_loss(disc_output_gen)\n",
    "    return w1 * lx + w2 * lz + w3 * ladv\n",
    "\n",
    "# Discriminator loss\n",
    "def discriminator_loss(real_output, fake_output):\n",
    "    real_loss = tf.keras.losses.BinaryCrossentropy()(tf.ones_like(real_output), real_output)\n",
    "    fake_loss = tf.keras.losses.BinaryCrossentropy()(tf.zeros_like(fake_output), fake_output)\n",
    "    return real_loss + fake_loss"
   ]
  },
  {
   "cell_type": "code",
   "execution_count": 14,
   "metadata": {},
   "outputs": [
    {
     "name": "stderr",
     "output_type": "stream",
     "text": [
      "2024-09-14 12:05:35.374032: I external/local_tsl/tsl/platform/default/subprocess.cc:304] Start cannot spawn child process: No such file or directory\n"
     ]
    }
   ],
   "source": [
    "# Define the input shape\n",
    "time_window = 10 \n",
    "features = 3  \n",
    "input_shape = (time_window, features)\n",
    "\n",
    "# Instantiate models\n",
    "generator = Generator(input_shape, input_shape)\n",
    "discriminator = build_discriminator(input_shape)\n",
    "encoder2 = build_encoder(input_shape)\n",
    "\n",
    "# Define optimizers\n",
    "gen_optimizer = tf.keras.optimizers.Adam(learning_rate=1e-4)\n",
    "disc_optimizer = tf.keras.optimizers.Adam(learning_rate=1e-4)\n",
    "\n",
    "# Example of compiling the discriminator\n",
    "discriminator.compile(optimizer=disc_optimizer, loss='binary_crossentropy')\n"
   ]
  },
  {
   "cell_type": "code",
   "execution_count": 15,
   "metadata": {},
   "outputs": [
    {
     "name": "stdout",
     "output_type": "stream",
     "text": [
      "Model: \"Encoder\"\n",
      "_________________________________________________________________\n",
      " Layer (type)                Output Shape              Param #   \n",
      "=================================================================\n",
      " input_1 (InputLayer)        [(None, 10, 3)]           0         \n",
      "                                                                 \n",
      " lstm (LSTM)                 (None, 10, 128)           67584     \n",
      "                                                                 \n",
      " lstm_1 (LSTM)               (None, 10, 64)            49408     \n",
      "                                                                 \n",
      " lstm_2 (LSTM)               (None, 32)                12416     \n",
      "                                                                 \n",
      " dense (Dense)               (None, 24)                792       \n",
      "                                                                 \n",
      " dense_1 (Dense)             (None, 10)                250       \n",
      "                                                                 \n",
      "=================================================================\n",
      "Total params: 130450 (509.57 KB)\n",
      "Trainable params: 130450 (509.57 KB)\n",
      "Non-trainable params: 0 (0.00 Byte)\n",
      "_________________________________________________________________\n"
     ]
    }
   ],
   "source": [
    "generator.encoder.summary()"
   ]
  },
  {
   "cell_type": "code",
   "execution_count": 16,
   "metadata": {},
   "outputs": [
    {
     "name": "stdout",
     "output_type": "stream",
     "text": [
      "Model: \"Decoder\"\n",
      "_________________________________________________________________\n",
      " Layer (type)                Output Shape              Param #   \n",
      "=================================================================\n",
      " input_2 (InputLayer)        [(None, 10)]              0         \n",
      "                                                                 \n",
      " dense_2 (Dense)             (None, 24)                264       \n",
      "                                                                 \n",
      " dense_3 (Dense)             (None, 24)                600       \n",
      "                                                                 \n",
      " repeat_vector (RepeatVecto  (None, 10, 24)            0         \n",
      " r)                                                              \n",
      "                                                                 \n",
      " lstm_3 (LSTM)               (None, 10, 32)            7296      \n",
      "                                                                 \n",
      " lstm_4 (LSTM)               (None, 10, 64)            24832     \n",
      "                                                                 \n",
      " lstm_5 (LSTM)               (None, 10, 128)           98816     \n",
      "                                                                 \n",
      " time_distributed (TimeDist  (None, 10, 3)             387       \n",
      " ributed)                                                        \n",
      "                                                                 \n",
      "=================================================================\n",
      "Total params: 132195 (516.39 KB)\n",
      "Trainable params: 132195 (516.39 KB)\n",
      "Non-trainable params: 0 (0.00 Byte)\n",
      "_________________________________________________________________\n"
     ]
    }
   ],
   "source": [
    "generator.decoder.summary()"
   ]
  },
  {
   "cell_type": "code",
   "execution_count": 17,
   "metadata": {},
   "outputs": [
    {
     "name": "stdout",
     "output_type": "stream",
     "text": [
      "Model: \"Encoder\"\n",
      "_________________________________________________________________\n",
      " Layer (type)                Output Shape              Param #   \n",
      "=================================================================\n",
      " input_4 (InputLayer)        [(None, 10, 3)]           0         \n",
      "                                                                 \n",
      " lstm_9 (LSTM)               (None, 10, 128)           67584     \n",
      "                                                                 \n",
      " lstm_10 (LSTM)              (None, 10, 64)            49408     \n",
      "                                                                 \n",
      " lstm_11 (LSTM)              (None, 32)                12416     \n",
      "                                                                 \n",
      " dense_8 (Dense)             (None, 24)                792       \n",
      "                                                                 \n",
      " dense_9 (Dense)             (None, 10)                250       \n",
      "                                                                 \n",
      "=================================================================\n",
      "Total params: 130450 (509.57 KB)\n",
      "Trainable params: 130450 (509.57 KB)\n",
      "Non-trainable params: 0 (0.00 Byte)\n",
      "_________________________________________________________________\n"
     ]
    }
   ],
   "source": [
    "encoder2.summary()"
   ]
  },
  {
   "cell_type": "code",
   "execution_count": 18,
   "metadata": {},
   "outputs": [
    {
     "name": "stdout",
     "output_type": "stream",
     "text": [
      "Model: \"Discriminator\"\n",
      "_________________________________________________________________\n",
      " Layer (type)                Output Shape              Param #   \n",
      "=================================================================\n",
      " input_3 (InputLayer)        [(None, 10, 3)]           0         \n",
      "                                                                 \n",
      " lstm_6 (LSTM)               (None, 10, 128)           67584     \n",
      "                                                                 \n",
      " lstm_7 (LSTM)               (None, 10, 64)            49408     \n",
      "                                                                 \n",
      " lstm_8 (LSTM)               (None, 32)                12416     \n",
      "                                                                 \n",
      " dense_5 (Dense)             (None, 24)                792       \n",
      "                                                                 \n",
      " dense_6 (Dense)             (None, 10)                250       \n",
      "                                                                 \n",
      " dense_7 (Dense)             (None, 1)                 11        \n",
      "                                                                 \n",
      "=================================================================\n",
      "Total params: 130461 (509.61 KB)\n",
      "Trainable params: 130461 (509.61 KB)\n",
      "Non-trainable params: 0 (0.00 Byte)\n",
      "_________________________________________________________________\n"
     ]
    }
   ],
   "source": [
    "discriminator.summary()"
   ]
  },
  {
   "cell_type": "code",
   "execution_count": 19,
   "metadata": {},
   "outputs": [],
   "source": [
    "# # Example data (Replace with real dataset)\n",
    "# X = np.random.randn(100, time_window, features)  # 1000 samples of time-series data\n",
    "# X = np.float16(X)\n",
    "# # Convert to TensorFlow Dataset\n",
    "# batch_size = 32\n",
    "# dataset = tf.data.Dataset.from_tensor_slices(X)\n",
    "# dataset = dataset.shuffle(buffer_size=1000).batch(batch_size)\n",
    "\n",
    "# Prefetch for performance optimization\n",
    "data_loader = dataset.prefetch(buffer_size=tf.data.experimental.AUTOTUNE)"
   ]
  },
  {
   "cell_type": "code",
   "execution_count": 20,
   "metadata": {},
   "outputs": [],
   "source": [
    "def generate_random_noise(batch_size, time_window, features):\n",
    "    return tf.random.normal(shape=(batch_size, time_window, features))"
   ]
  },
  {
   "cell_type": "code",
   "execution_count": 22,
   "metadata": {},
   "outputs": [
    {
     "name": "stderr",
     "output_type": "stream",
     "text": [
      "2024-09-14 12:08:22.944488: I external/local_xla/xla/stream_executor/cuda/cuda_dnn.cc:454] Loaded cuDNN version 8904\n",
      "2024-09-14 12:08:24.717520: I external/local_xla/xla/service/service.cc:168] XLA service 0x55f23086b840 initialized for platform CUDA (this does not guarantee that XLA will be used). Devices:\n",
      "2024-09-14 12:08:24.717571: I external/local_xla/xla/service/service.cc:176]   StreamExecutor device (0): NVIDIA T500, Compute Capability 7.5\n",
      "2024-09-14 12:08:24.770967: I tensorflow/compiler/mlir/tensorflow/utils/dump_mlir_util.cc:269] disabling MLIR crash reproducer, set env var `MLIR_CRASH_REPRODUCER_DIRECTORY` to enable.\n",
      "WARNING: All log messages before absl::InitializeLog() is called are written to STDERR\n",
      "I0000 00:00:1726290505.017655  234985 device_compiler.h:186] Compiled cluster using XLA!  This line is logged at most once for the lifetime of the process.\n"
     ]
    },
    {
     "name": "stdout",
     "output_type": "stream",
     "text": [
      "WARNING:tensorflow:5 out of the last 5 calls to <function _BaseOptimizer._update_step_xla at 0x7f61b00e0dc0> triggered tf.function retracing. Tracing is expensive and the excessive number of tracings could be due to (1) creating @tf.function repeatedly in a loop, (2) passing tensors with different shapes, (3) passing Python objects instead of tensors. For (1), please define your @tf.function outside of the loop. For (2), @tf.function has reduce_retracing=True option that can avoid unnecessary retracing. For (3), please refer to https://www.tensorflow.org/guide/function#controlling_retracing and https://www.tensorflow.org/api_docs/python/tf/function for  more details.\n",
      "WARNING:tensorflow:6 out of the last 6 calls to <function _BaseOptimizer._update_step_xla at 0x7f61b00e0dc0> triggered tf.function retracing. Tracing is expensive and the excessive number of tracings could be due to (1) creating @tf.function repeatedly in a loop, (2) passing tensors with different shapes, (3) passing Python objects instead of tensors. For (1), please define your @tf.function outside of the loop. For (2), @tf.function has reduce_retracing=True option that can avoid unnecessary retracing. For (3), please refer to https://www.tensorflow.org/guide/function#controlling_retracing and https://www.tensorflow.org/api_docs/python/tf/function for  more details.\n",
      "[100]: \tloss_g: 0.654296875, loss_d: 1.4952092170715332\n",
      "[200]: \tloss_g: 0.53271484375, loss_d: 0.9269245862960815\n",
      "[300]: \tloss_g: 0.78125, loss_d: 0.6065987944602966\n",
      "[400]: \tloss_g: 0.966796875, loss_d: 0.5558650493621826\n",
      "[500]: \tloss_g: 0.8994140625, loss_d: 1.343730092048645\n",
      "[600]: \tloss_g: 1.68359375, loss_d: 0.7516871690750122\n",
      "[700]: \tloss_g: 0.9658203125, loss_d: 0.2334253340959549\n",
      "[800]: \tloss_g: 1.49609375, loss_d: 0.2105514109134674\n",
      "[900]: \tloss_g: 2.57421875, loss_d: 2.8747167587280273\n",
      "[1000]: \tloss_g: 1.140625, loss_d: 1.663999080657959\n",
      "[1100]: \tloss_g: 0.88720703125, loss_d: 1.2146755456924438\n",
      "[1200]: \tloss_g: 0.9052734375, loss_d: 1.681247591972351\n",
      "[1300]: \tloss_g: 0.63525390625, loss_d: 0.9838840961456299\n",
      "[1400]: \tloss_g: 0.7607421875, loss_d: 1.3476519584655762\n",
      "[1500]: \tloss_g: 0.94189453125, loss_d: 0.5332922339439392\n",
      "[1600]: \tloss_g: 1.369140625, loss_d: 0.38934797048568726\n",
      "[1700]: \tloss_g: 1.1123046875, loss_d: 2.1072802543640137\n",
      "[1800]: \tloss_g: 1.0908203125, loss_d: 0.3210405707359314\n",
      "[1900]: \tloss_g: 1.6240234375, loss_d: 0.2114364206790924\n",
      "[2000]: \tloss_g: 0.85009765625, loss_d: 1.7197227478027344\n",
      "[2100]: \tloss_g: 0.4404296875, loss_d: 1.35780930519104\n",
      "[2200]: \tloss_g: 1.611328125, loss_d: 1.4729483127593994\n",
      "[2300]: \tloss_g: 0.85595703125, loss_d: 0.48184463381767273\n",
      "[2400]: \tloss_g: 0.9560546875, loss_d: 0.5136548280715942\n",
      "[2500]: \tloss_g: 0.7001953125, loss_d: 1.47153639793396\n",
      "[2600]: \tloss_g: 0.48779296875, loss_d: 1.2816557884216309\n",
      "[2700]: \tloss_g: 0.44921875, loss_d: 1.408036231994629\n",
      "[2800]: \tloss_g: 0.4140625, loss_d: 1.3903733491897583\n",
      "[2900]: \tloss_g: 0.45947265625, loss_d: 1.2979508638381958\n",
      "[3000]: \tloss_g: 0.44482421875, loss_d: 1.3964325189590454\n",
      "[3100]: \tloss_g: 0.421142578125, loss_d: 1.349521517753601\n",
      "[3200]: \tloss_g: 0.57763671875, loss_d: 1.1923032999038696\n",
      "[3300]: \tloss_g: 0.5390625, loss_d: 1.0443434715270996\n",
      "[3400]: \tloss_g: 1.0458984375, loss_d: 0.30859795212745667\n",
      "[3500]: \tloss_g: 0.6650390625, loss_d: 0.7885621190071106\n",
      "[3600]: \tloss_g: 0.7744140625, loss_d: 1.6176111698150635\n",
      "[3700]: \tloss_g: 0.65380859375, loss_d: 0.9557424783706665\n",
      "[3800]: \tloss_g: 0.65869140625, loss_d: 1.0562200546264648\n",
      "[3900]: \tloss_g: 0.7119140625, loss_d: 0.7971131801605225\n",
      "[4000]: \tloss_g: 0.76904296875, loss_d: 1.6123623847961426\n",
      "[4100]: \tloss_g: 0.80810546875, loss_d: 0.8040226697921753\n",
      "[4200]: \tloss_g: 1.021484375, loss_d: 1.3466461896896362\n",
      "[4300]: \tloss_g: 0.6884765625, loss_d: 1.5995612144470215\n",
      "[4400]: \tloss_g: 0.87890625, loss_d: 0.29761457443237305\n",
      "[4500]: \tloss_g: 0.91796875, loss_d: 0.4219689667224884\n",
      "[4600]: \tloss_g: 0.6376953125, loss_d: 0.7925567030906677\n",
      "[4700]: \tloss_g: 0.53857421875, loss_d: 0.9640387296676636\n",
      "Epoch 1/10, Generator Loss: 0.8456534175549524, Discriminator Loss: 1.0224255907775488\n",
      "WARNING:tensorflow:Compiled the loaded model, but the compiled metrics have yet to be built. `model.compile_metrics` will be empty until you train or evaluate the model.\n",
      "WARNING:tensorflow:Compiled the loaded model, but the compiled metrics have yet to be built. `model.compile_metrics` will be empty until you train or evaluate the model.\n",
      "WARNING:tensorflow:Compiled the loaded model, but the compiled metrics have yet to be built. `model.compile_metrics` will be empty until you train or evaluate the model.\n",
      "[100]: \tloss_g: 1.1416015625, loss_d: 2.0431137084960938\n",
      "[200]: \tloss_g: 0.451171875, loss_d: 1.3705618381500244\n",
      "[300]: \tloss_g: 0.69189453125, loss_d: 1.316851019859314\n",
      "[400]: \tloss_g: 1.4375, loss_d: 0.21058392524719238\n",
      "[500]: \tloss_g: 1.185546875, loss_d: 0.14906920492649078\n",
      "[600]: \tloss_g: 1.4267578125, loss_d: 0.1087351143360138\n",
      "[700]: \tloss_g: 0.89697265625, loss_d: 1.8114683628082275\n",
      "[800]: \tloss_g: 0.375244140625, loss_d: 1.3850884437561035\n",
      "[900]: \tloss_g: 0.7607421875, loss_d: 0.5550570487976074\n",
      "[1000]: \tloss_g: 0.1771240234375, loss_d: 2.6969563961029053\n",
      "[1100]: \tloss_g: 1.21875, loss_d: 0.18120524287223816\n",
      "[1200]: \tloss_g: 1.146484375, loss_d: 1.9946094751358032\n",
      "[1300]: \tloss_g: 0.91552734375, loss_d: 0.25496819615364075\n",
      "[1400]: \tloss_g: 0.6298828125, loss_d: 0.47769665718078613\n",
      "[1500]: \tloss_g: 0.57421875, loss_d: 1.5744976997375488\n",
      "[1600]: \tloss_g: 0.8779296875, loss_d: 2.329085111618042\n",
      "[1700]: \tloss_g: 0.798828125, loss_d: 1.6575360298156738\n",
      "[1800]: \tloss_g: 0.469970703125, loss_d: 1.4043201208114624\n",
      "[1900]: \tloss_g: 0.7822265625, loss_d: 1.0710443258285522\n",
      "[2000]: \tloss_g: 0.36474609375, loss_d: 1.386832356452942\n",
      "[2100]: \tloss_g: 0.36181640625, loss_d: 1.3862704038619995\n",
      "[2200]: \tloss_g: 0.5048828125, loss_d: 1.5114223957061768\n",
      "[2300]: \tloss_g: 0.59814453125, loss_d: 1.3770244121551514\n",
      "[2400]: \tloss_g: 0.51513671875, loss_d: 1.3056185245513916\n",
      "[2500]: \tloss_g: 0.5185546875, loss_d: 1.357810616493225\n",
      "[2600]: \tloss_g: 0.52099609375, loss_d: 1.0131585597991943\n",
      "[2700]: \tloss_g: 0.4150390625, loss_d: 1.3798649311065674\n",
      "[2800]: \tloss_g: 0.388671875, loss_d: 1.328312873840332\n",
      "[2900]: \tloss_g: 0.40478515625, loss_d: 1.2644214630126953\n",
      "[3000]: \tloss_g: 0.281005859375, loss_d: 1.3675917387008667\n",
      "[3100]: \tloss_g: 0.34423828125, loss_d: 1.385955810546875\n",
      "[3200]: \tloss_g: 0.37451171875, loss_d: 1.3828966617584229\n",
      "[3300]: \tloss_g: 0.362060546875, loss_d: 1.3834238052368164\n",
      "[3400]: \tloss_g: 0.8388671875, loss_d: 0.4377695918083191\n",
      "[3500]: \tloss_g: 0.69140625, loss_d: 1.2314386367797852\n",
      "[3600]: \tloss_g: 1.1279296875, loss_d: 0.31814658641815186\n",
      "[3700]: \tloss_g: 1.1689453125, loss_d: 0.15897662937641144\n",
      "[3800]: \tloss_g: 0.9169921875, loss_d: 0.6196840405464172\n",
      "[3900]: \tloss_g: 1.1005859375, loss_d: 0.1922031044960022\n",
      "[4000]: \tloss_g: 0.80712890625, loss_d: 0.4189848005771637\n",
      "[4100]: \tloss_g: 0.5322265625, loss_d: 1.1888046264648438\n",
      "[4200]: \tloss_g: 0.8173828125, loss_d: 0.9229843020439148\n",
      "[4300]: \tloss_g: 0.7734375, loss_d: 1.5210425853729248\n",
      "[4400]: \tloss_g: 0.8935546875, loss_d: 0.3955721855163574\n",
      "[4500]: \tloss_g: 1.087890625, loss_d: 0.39496734738349915\n",
      "[4600]: \tloss_g: 0.82275390625, loss_d: 0.6251561641693115\n",
      "[4700]: \tloss_g: 0.3779296875, loss_d: 1.391238808631897\n",
      "Epoch 2/10, Generator Loss: 0.7222938149662341, Discriminator Loss: 1.0585143249355635\n",
      "WARNING:tensorflow:Compiled the loaded model, but the compiled metrics have yet to be built. `model.compile_metrics` will be empty until you train or evaluate the model.\n",
      "WARNING:tensorflow:Compiled the loaded model, but the compiled metrics have yet to be built. `model.compile_metrics` will be empty until you train or evaluate the model.\n",
      "WARNING:tensorflow:Compiled the loaded model, but the compiled metrics have yet to be built. `model.compile_metrics` will be empty until you train or evaluate the model.\n",
      "[100]: \tloss_g: 1.05859375, loss_d: 2.0981554985046387\n",
      "[200]: \tloss_g: 0.405029296875, loss_d: 1.38692045211792\n",
      "[300]: \tloss_g: 0.78173828125, loss_d: 0.5520603060722351\n",
      "[400]: \tloss_g: 1.2861328125, loss_d: 0.21440719068050385\n",
      "[500]: \tloss_g: 1.126953125, loss_d: 0.1728857010602951\n",
      "[600]: \tloss_g: 1.4541015625, loss_d: 0.11410928517580032\n",
      "[700]: \tloss_g: 1.2919921875, loss_d: 2.6065759658813477\n",
      "[800]: \tloss_g: 0.32568359375, loss_d: 1.4180185794830322\n",
      "[900]: \tloss_g: 0.9775390625, loss_d: 0.3281380832195282\n",
      "[1000]: \tloss_g: 0.2958984375, loss_d: 2.1745412349700928\n",
      "[1100]: \tloss_g: 0.4267578125, loss_d: 1.3608366250991821\n",
      "[1200]: \tloss_g: 1.1103515625, loss_d: 2.1859359741210938\n",
      "[1300]: \tloss_g: 0.8701171875, loss_d: 0.8246599435806274\n",
      "[1400]: \tloss_g: 0.8115234375, loss_d: 1.6986682415008545\n",
      "[1500]: \tloss_g: 0.391357421875, loss_d: 1.3779079914093018\n",
      "[1600]: \tloss_g: 0.7587890625, loss_d: 0.5440018177032471\n",
      "[1700]: \tloss_g: 1.0048828125, loss_d: 1.9319415092468262\n",
      "[1800]: \tloss_g: 0.404541015625, loss_d: 1.3880196809768677\n",
      "[1900]: \tloss_g: 0.873046875, loss_d: 0.42437124252319336\n",
      "[2000]: \tloss_g: 0.47998046875, loss_d: 1.4240062236785889\n",
      "[2100]: \tloss_g: 0.37060546875, loss_d: 1.3851349353790283\n",
      "[2200]: \tloss_g: 0.8076171875, loss_d: 0.3721059560775757\n",
      "[2300]: \tloss_g: 1.095703125, loss_d: 0.19280759990215302\n",
      "[2400]: \tloss_g: 0.408203125, loss_d: 1.148972988128662\n",
      "[2500]: \tloss_g: 0.4765625, loss_d: 1.519782543182373\n",
      "[2600]: \tloss_g: 0.44384765625, loss_d: 0.7480188608169556\n",
      "[2700]: \tloss_g: 0.505859375, loss_d: 0.656802773475647\n",
      "[2800]: \tloss_g: 0.80859375, loss_d: 0.25558558106422424\n",
      "[2900]: \tloss_g: 0.736328125, loss_d: 1.7228257656097412\n",
      "[3000]: \tloss_g: 1.11328125, loss_d: 0.17997072637081146\n",
      "[3100]: \tloss_g: 1.1376953125, loss_d: 0.1314859688282013\n",
      "[3200]: \tloss_g: 1.361328125, loss_d: 0.12444952130317688\n",
      "[3300]: \tloss_g: 1.3642578125, loss_d: 0.09390351921319962\n",
      "[3400]: \tloss_g: 1.076171875, loss_d: 2.4963698387145996\n",
      "[3500]: \tloss_g: 0.480224609375, loss_d: 1.4705270528793335\n",
      "[3600]: \tloss_g: 0.62890625, loss_d: 1.230433464050293\n",
      "[3700]: \tloss_g: 0.83642578125, loss_d: 0.35092493891716003\n",
      "[3800]: \tloss_g: 0.6455078125, loss_d: 2.1270675659179688\n",
      "[3900]: \tloss_g: 1.048828125, loss_d: 0.5266466736793518\n",
      "[4000]: \tloss_g: 0.97998046875, loss_d: 0.33457064628601074\n",
      "[4100]: \tloss_g: 0.424072265625, loss_d: 1.3907692432403564\n",
      "[4200]: \tloss_g: 0.787109375, loss_d: 0.6608673334121704\n",
      "[4300]: \tloss_g: 0.8994140625, loss_d: 1.8675386905670166\n",
      "[4400]: \tloss_g: 0.98681640625, loss_d: 0.2431465983390808\n",
      "[4500]: \tloss_g: 1.041015625, loss_d: 0.2203076034784317\n",
      "[4600]: \tloss_g: 0.43798828125, loss_d: 1.7213871479034424\n",
      "[4700]: \tloss_g: 0.46435546875, loss_d: 1.2599642276763916\n",
      "Epoch 3/10, Generator Loss: 0.7928709773694055, Discriminator Loss: 0.9774659163776344\n",
      "WARNING:tensorflow:Compiled the loaded model, but the compiled metrics have yet to be built. `model.compile_metrics` will be empty until you train or evaluate the model.\n",
      "WARNING:tensorflow:Compiled the loaded model, but the compiled metrics have yet to be built. `model.compile_metrics` will be empty until you train or evaluate the model.\n",
      "WARNING:tensorflow:Compiled the loaded model, but the compiled metrics have yet to be built. `model.compile_metrics` will be empty until you train or evaluate the model.\n",
      "[100]: \tloss_g: 0.9052734375, loss_d: 1.8078317642211914\n",
      "[200]: \tloss_g: 0.36181640625, loss_d: 1.3905619382858276\n",
      "[300]: \tloss_g: 0.76171875, loss_d: 0.5724070072174072\n",
      "[400]: \tloss_g: 1.232421875, loss_d: 2.114302396774292\n",
      "[500]: \tloss_g: 0.437744140625, loss_d: 1.2440789937973022\n",
      "[600]: \tloss_g: 0.9462890625, loss_d: 0.2961367070674896\n",
      "[700]: \tloss_g: 0.96240234375, loss_d: 2.265516519546509\n",
      "[800]: \tloss_g: 0.859375, loss_d: 0.5398134589195251\n",
      "[900]: \tloss_g: 1.08203125, loss_d: 1.6358091831207275\n",
      "[1000]: \tloss_g: 0.5185546875, loss_d: 1.6229298114776611\n",
      "[1100]: \tloss_g: 1.2294921875, loss_d: 0.12779566645622253\n",
      "[1200]: \tloss_g: 1.3642578125, loss_d: 0.16905833780765533\n",
      "[1300]: \tloss_g: 1.2783203125, loss_d: 0.1152249202132225\n",
      "[1400]: \tloss_g: 1.1103515625, loss_d: 0.1860639452934265\n",
      "[1500]: \tloss_g: 1.359375, loss_d: 0.0894748717546463\n",
      "[1600]: \tloss_g: 1.634765625, loss_d: 0.10056255757808685\n",
      "[1700]: \tloss_g: 1.005859375, loss_d: 0.3697725534439087\n",
      "[1800]: \tloss_g: 1.59375, loss_d: 0.07775866240262985\n",
      "[1900]: \tloss_g: 1.44140625, loss_d: 2.554161310195923\n",
      "[2000]: \tloss_g: 1.3125, loss_d: 0.12063407152891159\n",
      "[2100]: \tloss_g: 1.52734375, loss_d: 0.07143230736255646\n",
      "[2200]: \tloss_g: 0.9697265625, loss_d: 1.0598218441009521\n",
      "[2300]: \tloss_g: 0.4140625, loss_d: 1.3465726375579834\n",
      "[2400]: \tloss_g: 0.47412109375, loss_d: 1.1088826656341553\n",
      "[2500]: \tloss_g: 1.1748046875, loss_d: 0.14460062980651855\n",
      "[2600]: \tloss_g: 1.3662109375, loss_d: 0.08298899233341217\n",
      "[2700]: \tloss_g: 0.76953125, loss_d: 1.3768492937088013\n",
      "[2800]: \tloss_g: 0.384033203125, loss_d: 1.3246614933013916\n",
      "[2900]: \tloss_g: 1.14453125, loss_d: 1.5013314485549927\n",
      "[3000]: \tloss_g: 0.552734375, loss_d: 0.8917232751846313\n",
      "[3100]: \tloss_g: 1.1337890625, loss_d: 0.21536469459533691\n",
      "[3200]: \tloss_g: 0.78759765625, loss_d: 0.3241352140903473\n",
      "[3300]: \tloss_g: 0.38916015625, loss_d: 1.2291336059570312\n",
      "[3400]: \tloss_g: 1.431640625, loss_d: 0.15924811363220215\n",
      "[3500]: \tloss_g: 0.54931640625, loss_d: 1.257436752319336\n",
      "[3600]: \tloss_g: 1.6689453125, loss_d: 0.09373516589403152\n",
      "[3700]: \tloss_g: 1.75, loss_d: 0.05909770727157593\n",
      "[3800]: \tloss_g: 1.544921875, loss_d: 1.5480459928512573\n",
      "[3900]: \tloss_g: 1.443359375, loss_d: 0.136673241853714\n",
      "[4000]: \tloss_g: 1.22265625, loss_d: 0.17425647377967834\n",
      "[4100]: \tloss_g: 1.048828125, loss_d: 0.28775161504745483\n",
      "[4200]: \tloss_g: 1.0751953125, loss_d: 1.8053297996520996\n",
      "[4300]: \tloss_g: 0.70849609375, loss_d: 0.5805802345275879\n",
      "[4400]: \tloss_g: 0.7783203125, loss_d: 1.0106663703918457\n",
      "[4500]: \tloss_g: 1.064453125, loss_d: 1.6826122999191284\n",
      "[4600]: \tloss_g: 1.306640625, loss_d: 0.14019450545310974\n",
      "[4700]: \tloss_g: 1.3671875, loss_d: 0.10348005592823029\n",
      "Epoch 4/10, Generator Loss: 1.0347169779114804, Discriminator Loss: 0.7338405589565192\n",
      "WARNING:tensorflow:Compiled the loaded model, but the compiled metrics have yet to be built. `model.compile_metrics` will be empty until you train or evaluate the model.\n",
      "WARNING:tensorflow:Compiled the loaded model, but the compiled metrics have yet to be built. `model.compile_metrics` will be empty until you train or evaluate the model.\n",
      "WARNING:tensorflow:Compiled the loaded model, but the compiled metrics have yet to be built. `model.compile_metrics` will be empty until you train or evaluate the model.\n",
      "[100]: \tloss_g: 0.521484375, loss_d: 0.7113867998123169\n",
      "[200]: \tloss_g: 1.171875, loss_d: 0.145382359623909\n",
      "[300]: \tloss_g: 1.4111328125, loss_d: 0.17420049011707306\n",
      "[400]: \tloss_g: 1.33984375, loss_d: 2.514880895614624\n",
      "[500]: \tloss_g: 0.89404296875, loss_d: 0.5154410600662231\n",
      "[600]: \tloss_g: 1.0546875, loss_d: 0.4299146234989166\n",
      "[700]: \tloss_g: 0.6845703125, loss_d: 2.258781909942627\n",
      "[800]: \tloss_g: 1.142578125, loss_d: 0.2651406526565552\n",
      "[900]: \tloss_g: 1.220703125, loss_d: 1.2481436729431152\n",
      "[1000]: \tloss_g: 1.359375, loss_d: 0.17444436252117157\n",
      "[1100]: \tloss_g: 1.5859375, loss_d: 0.110683374106884\n",
      "[1200]: \tloss_g: 1.34765625, loss_d: 0.13404810428619385\n",
      "[1300]: \tloss_g: 1.423828125, loss_d: 0.09042168408632278\n",
      "[1400]: \tloss_g: 1.1328125, loss_d: 0.5693796277046204\n",
      "[1500]: \tloss_g: 0.317626953125, loss_d: 1.7630798816680908\n",
      "[1600]: \tloss_g: 0.92919921875, loss_d: 0.42621344327926636\n",
      "[1700]: \tloss_g: 1.4111328125, loss_d: 2.8754334449768066\n",
      "[1800]: \tloss_g: 0.37158203125, loss_d: 1.392473816871643\n",
      "[1900]: \tloss_g: 0.9609375, loss_d: 0.3699154555797577\n",
      "[2000]: \tloss_g: 0.404541015625, loss_d: 1.3514353036880493\n",
      "[2100]: \tloss_g: 0.39404296875, loss_d: 1.3231396675109863\n",
      "[2200]: \tloss_g: 1.330078125, loss_d: 1.5410349369049072\n",
      "[2300]: \tloss_g: 1.564453125, loss_d: 0.07883185148239136\n",
      "[2400]: \tloss_g: 1.7431640625, loss_d: 0.05885937809944153\n",
      "[2500]: \tloss_g: 1.5966796875, loss_d: 0.057123973965644836\n",
      "[2600]: \tloss_g: 1.662109375, loss_d: 0.045094285160303116\n",
      "[2700]: \tloss_g: 1.8046875, loss_d: 0.03246602788567543\n",
      "[2800]: \tloss_g: 1.857421875, loss_d: 0.02752980962395668\n",
      "[2900]: \tloss_g: 1.970703125, loss_d: 0.024112457409501076\n",
      "[3000]: \tloss_g: 1.9931640625, loss_d: 0.021135181188583374\n",
      "[3100]: \tloss_g: 2.04296875, loss_d: 0.018548469990491867\n",
      "[3200]: \tloss_g: 0.1549072265625, loss_d: 6.35476016998291\n",
      "[3300]: \tloss_g: 0.5419921875, loss_d: 0.7530696392059326\n",
      "[3400]: \tloss_g: 0.79248046875, loss_d: 0.7172278165817261\n",
      "[3500]: \tloss_g: 1.140625, loss_d: 0.19605042040348053\n",
      "[3600]: \tloss_g: 1.3349609375, loss_d: 0.5190771818161011\n",
      "[3700]: \tloss_g: 1.1796875, loss_d: 0.20762929320335388\n",
      "[3800]: \tloss_g: 0.740234375, loss_d: 3.2597427368164062\n",
      "[3900]: \tloss_g: 0.8984375, loss_d: 0.25875815749168396\n",
      "[4000]: \tloss_g: 0.814453125, loss_d: 2.1332199573516846\n",
      "[4100]: \tloss_g: 0.6240234375, loss_d: 0.5530058145523071\n",
      "[4200]: \tloss_g: 0.82861328125, loss_d: 1.5455313920974731\n",
      "[4300]: \tloss_g: 0.52197265625, loss_d: 0.7195163369178772\n",
      "[4400]: \tloss_g: 0.44580078125, loss_d: 1.2609782218933105\n",
      "[4500]: \tloss_g: 0.8017578125, loss_d: 1.580732822418213\n",
      "[4600]: \tloss_g: 0.7763671875, loss_d: 0.3779054880142212\n",
      "[4700]: \tloss_g: 0.8681640625, loss_d: 0.246858149766922\n",
      "Epoch 5/10, Generator Loss: 1.108642047946736, Discriminator Loss: 0.6681865577566264\n",
      "WARNING:tensorflow:Compiled the loaded model, but the compiled metrics have yet to be built. `model.compile_metrics` will be empty until you train or evaluate the model.\n",
      "WARNING:tensorflow:Compiled the loaded model, but the compiled metrics have yet to be built. `model.compile_metrics` will be empty until you train or evaluate the model.\n",
      "WARNING:tensorflow:Compiled the loaded model, but the compiled metrics have yet to be built. `model.compile_metrics` will be empty until you train or evaluate the model.\n",
      "[100]: \tloss_g: 0.67919921875, loss_d: 1.521284818649292\n",
      "[200]: \tloss_g: 0.77783203125, loss_d: 0.48504576086997986\n",
      "[300]: \tloss_g: 1.3017578125, loss_d: 0.16698133945465088\n",
      "[400]: \tloss_g: 1.8330078125, loss_d: 1.3233616352081299\n",
      "[500]: \tloss_g: 0.8486328125, loss_d: 0.7719005346298218\n",
      "[600]: \tloss_g: 1.15625, loss_d: 0.20435023307800293\n",
      "[700]: \tloss_g: 1.2685546875, loss_d: 2.6852784156799316\n",
      "[800]: \tloss_g: 0.86865234375, loss_d: 0.3002691864967346\n",
      "[900]: \tloss_g: 1.15234375, loss_d: 1.9833533763885498\n",
      "[1000]: \tloss_g: 0.42041015625, loss_d: 1.3407119512557983\n",
      "[1100]: \tloss_g: 0.5390625, loss_d: 0.8989157676696777\n",
      "[1200]: \tloss_g: 0.80859375, loss_d: 0.3596406877040863\n",
      "[1300]: \tloss_g: 0.89501953125, loss_d: 0.7013794183731079\n",
      "[1400]: \tloss_g: 0.7919921875, loss_d: 1.756035566329956\n",
      "[1500]: \tloss_g: 0.44482421875, loss_d: 1.4087154865264893\n",
      "[1600]: \tloss_g: 0.67578125, loss_d: 1.298501968383789\n",
      "[1700]: \tloss_g: 0.81689453125, loss_d: 1.8616386651992798\n",
      "[1800]: \tloss_g: 0.482421875, loss_d: 1.1370199918746948\n",
      "[1900]: \tloss_g: 0.99365234375, loss_d: 0.3917009234428406\n",
      "[2000]: \tloss_g: 0.7060546875, loss_d: 1.5167429447174072\n",
      "[2100]: \tloss_g: 0.5859375, loss_d: 1.580761194229126\n",
      "[2200]: \tloss_g: 0.763671875, loss_d: 1.1373463869094849\n",
      "[2300]: \tloss_g: 0.58154296875, loss_d: 0.9738541841506958\n",
      "[2400]: \tloss_g: 0.74072265625, loss_d: 1.611943006515503\n",
      "[2500]: \tloss_g: 0.61376953125, loss_d: 1.5193647146224976\n",
      "[2600]: \tloss_g: 0.5390625, loss_d: 1.4425995349884033\n",
      "[2700]: \tloss_g: 0.407470703125, loss_d: 1.384616732597351\n",
      "[2800]: \tloss_g: 0.3935546875, loss_d: 1.334381341934204\n",
      "[2900]: \tloss_g: 0.40087890625, loss_d: 1.3808259963989258\n",
      "[3000]: \tloss_g: 0.426025390625, loss_d: 1.2028456926345825\n",
      "[3100]: \tloss_g: 0.465576171875, loss_d: 1.0035827159881592\n",
      "[3200]: \tloss_g: 0.52978515625, loss_d: 1.429342269897461\n",
      "[3300]: \tloss_g: 0.39208984375, loss_d: 1.3647360801696777\n",
      "[3400]: \tloss_g: 0.68408203125, loss_d: 1.2689152956008911\n",
      "[3500]: \tloss_g: 0.7099609375, loss_d: 0.42140907049179077\n",
      "[3600]: \tloss_g: 1.0302734375, loss_d: 0.31057217717170715\n",
      "[3700]: \tloss_g: 1.0400390625, loss_d: 0.16984902322292328\n",
      "[3800]: \tloss_g: 1.171875, loss_d: 1.4685041904449463\n",
      "[3900]: \tloss_g: 1.068359375, loss_d: 0.15731826424598694\n",
      "[4000]: \tloss_g: 0.97314453125, loss_d: 1.8466191291809082\n",
      "[4100]: \tloss_g: 0.822265625, loss_d: 0.2527531385421753\n",
      "[4200]: \tloss_g: 1.02734375, loss_d: 1.88150954246521\n",
      "[4300]: \tloss_g: 0.71728515625, loss_d: 0.40798068046569824\n",
      "[4400]: \tloss_g: 0.48291015625, loss_d: 1.4282596111297607\n",
      "[4500]: \tloss_g: 0.771484375, loss_d: 1.6207079887390137\n",
      "[4600]: \tloss_g: 0.7900390625, loss_d: 0.2882946729660034\n",
      "[4700]: \tloss_g: 0.908203125, loss_d: 0.1960313767194748\n",
      "Epoch 6/10, Generator Loss: 0.7688311560679291, Discriminator Loss: 0.9827910330335973\n",
      "WARNING:tensorflow:Compiled the loaded model, but the compiled metrics have yet to be built. `model.compile_metrics` will be empty until you train or evaluate the model.\n",
      "WARNING:tensorflow:Compiled the loaded model, but the compiled metrics have yet to be built. `model.compile_metrics` will be empty until you train or evaluate the model.\n",
      "WARNING:tensorflow:Compiled the loaded model, but the compiled metrics have yet to be built. `model.compile_metrics` will be empty until you train or evaluate the model.\n",
      "[100]: \tloss_g: 1.3544921875, loss_d: 0.149683877825737\n",
      "[200]: \tloss_g: 1.236328125, loss_d: 0.11126989126205444\n",
      "[300]: \tloss_g: 1.572265625, loss_d: 0.08540844172239304\n",
      "[400]: \tloss_g: 1.6875, loss_d: 2.601013660430908\n",
      "[500]: \tloss_g: 0.5234375, loss_d: 0.7529412508010864\n",
      "[600]: \tloss_g: 0.95703125, loss_d: 0.29022589325904846\n",
      "[700]: \tloss_g: 1.0419921875, loss_d: 2.0078046321868896\n",
      "[800]: \tloss_g: 0.429443359375, loss_d: 1.2003583908081055\n",
      "[900]: \tloss_g: 0.7958984375, loss_d: 0.528872013092041\n",
      "[1000]: \tloss_g: 1.0146484375, loss_d: 0.1935599148273468\n",
      "[1100]: \tloss_g: 1.2353515625, loss_d: 0.1320270448923111\n",
      "[1200]: \tloss_g: 0.798828125, loss_d: 3.03460693359375\n",
      "[1300]: \tloss_g: 1.2421875, loss_d: 0.10851822793483734\n",
      "[1400]: \tloss_g: 1.083984375, loss_d: 0.16693739593029022\n",
      "[1500]: \tloss_g: 1.0537109375, loss_d: 0.1458791345357895\n",
      "[1600]: \tloss_g: 1.470703125, loss_d: 2.35300874710083\n",
      "[1700]: \tloss_g: 0.8974609375, loss_d: 0.2900589406490326\n",
      "[1800]: \tloss_g: 1.005859375, loss_d: 0.186034694314003\n",
      "[1900]: \tloss_g: 1.1650390625, loss_d: 1.7176591157913208\n",
      "[2000]: \tloss_g: 0.94287109375, loss_d: 0.20126277208328247\n",
      "[2100]: \tloss_g: 1.2236328125, loss_d: 0.10875480622053146\n",
      "[2200]: \tloss_g: 0.7841796875, loss_d: 1.5787389278411865\n",
      "[2300]: \tloss_g: 0.6064453125, loss_d: 1.3132299184799194\n",
      "[2400]: \tloss_g: 0.708984375, loss_d: 0.49505555629730225\n",
      "[2500]: \tloss_g: 0.91552734375, loss_d: 0.23258627951145172\n",
      "[2600]: \tloss_g: 1.07421875, loss_d: 0.1468866467475891\n",
      "[2700]: \tloss_g: 1.15234375, loss_d: 0.12439818680286407\n",
      "[2800]: \tloss_g: 1.25, loss_d: 0.2418501377105713\n",
      "[2900]: \tloss_g: 1.845703125, loss_d: 0.6287716031074524\n",
      "[3000]: \tloss_g: 0.9931640625, loss_d: 1.7860502004623413\n",
      "[3100]: \tloss_g: 0.9453125, loss_d: 0.20215249061584473\n",
      "[3200]: \tloss_g: 1.2177734375, loss_d: 0.17875929176807404\n",
      "[3300]: \tloss_g: 1.201171875, loss_d: 0.12815676629543304\n",
      "[3400]: \tloss_g: 0.865234375, loss_d: 1.649551510810852\n",
      "[3500]: \tloss_g: 0.767578125, loss_d: 1.592682123184204\n",
      "[3600]: \tloss_g: 0.90576171875, loss_d: 0.4480799436569214\n",
      "[3700]: \tloss_g: 1.060546875, loss_d: 0.209825336933136\n",
      "[3800]: \tloss_g: 1.0166015625, loss_d: 0.28981420397758484\n",
      "[3900]: \tloss_g: 1.13671875, loss_d: 0.1773749142885208\n",
      "[4000]: \tloss_g: 0.9228515625, loss_d: 0.2659594416618347\n",
      "[4100]: \tloss_g: 1.0234375, loss_d: 0.18184439837932587\n",
      "[4200]: \tloss_g: 1.1240234375, loss_d: 2.105564832687378\n",
      "[4300]: \tloss_g: 0.73583984375, loss_d: 0.4073111116886139\n",
      "[4400]: \tloss_g: 0.72119140625, loss_d: 0.5574935674667358\n",
      "[4500]: \tloss_g: 0.81298828125, loss_d: 1.5911332368850708\n",
      "[4600]: \tloss_g: 0.87646484375, loss_d: 0.27032312750816345\n",
      "[4700]: \tloss_g: 1.009765625, loss_d: 0.17340928316116333\n",
      "Epoch 7/10, Generator Loss: 1.0101315514516023, Discriminator Loss: 0.6779321316992706\n",
      "WARNING:tensorflow:Compiled the loaded model, but the compiled metrics have yet to be built. `model.compile_metrics` will be empty until you train or evaluate the model.\n",
      "WARNING:tensorflow:Compiled the loaded model, but the compiled metrics have yet to be built. `model.compile_metrics` will be empty until you train or evaluate the model.\n",
      "WARNING:tensorflow:Compiled the loaded model, but the compiled metrics have yet to be built. `model.compile_metrics` will be empty until you train or evaluate the model.\n",
      "[100]: \tloss_g: 0.95068359375, loss_d: 0.30309394001960754\n",
      "[200]: \tloss_g: 1.41796875, loss_d: 0.09861163049936295\n",
      "[300]: \tloss_g: 1.689453125, loss_d: 0.10566092282533646\n",
      "[400]: \tloss_g: 1.931640625, loss_d: 0.9936755895614624\n",
      "[500]: \tloss_g: 0.7490234375, loss_d: 0.9506187438964844\n",
      "[600]: \tloss_g: 1.4267578125, loss_d: 1.8423818349838257\n",
      "[700]: \tloss_g: 1.029296875, loss_d: 0.41362112760543823\n",
      "[800]: \tloss_g: 1.017578125, loss_d: 0.6878633499145508\n",
      "[900]: \tloss_g: 0.70947265625, loss_d: 1.4644737243652344\n",
      "[1000]: \tloss_g: 0.4248046875, loss_d: 1.3581290245056152\n",
      "[1100]: \tloss_g: 0.75634765625, loss_d: 0.566089928150177\n",
      "[1200]: \tloss_g: 0.55419921875, loss_d: 1.3455036878585815\n",
      "[1300]: \tloss_g: 0.99951171875, loss_d: 0.20588722825050354\n",
      "[1400]: \tloss_g: 0.63525390625, loss_d: 0.6491679549217224\n",
      "[1500]: \tloss_g: 0.6015625, loss_d: 1.0070652961730957\n",
      "[1600]: \tloss_g: 1.310546875, loss_d: 2.0801985263824463\n",
      "[1700]: \tloss_g: 0.759765625, loss_d: 2.5418310165405273\n",
      "[1800]: \tloss_g: 0.78955078125, loss_d: 0.28753501176834106\n",
      "[1900]: \tloss_g: 1.240234375, loss_d: 2.20218563079834\n",
      "[2000]: \tloss_g: 0.7685546875, loss_d: 1.7189725637435913\n",
      "[2100]: \tloss_g: 0.399169921875, loss_d: 1.343376874923706\n",
      "[2200]: \tloss_g: 0.474853515625, loss_d: 1.8065543174743652\n",
      "[2300]: \tloss_g: 0.4873046875, loss_d: 1.317608118057251\n",
      "[2400]: \tloss_g: 0.658203125, loss_d: 1.0561349391937256\n",
      "[2500]: \tloss_g: 0.6015625, loss_d: 1.51921808719635\n",
      "[2600]: \tloss_g: 0.498046875, loss_d: 1.0827056169509888\n",
      "[2700]: \tloss_g: 0.484130859375, loss_d: 0.9502078294754028\n",
      "[2800]: \tloss_g: 0.7939453125, loss_d: 0.3029290437698364\n",
      "[2900]: \tloss_g: 0.8681640625, loss_d: 0.29343798756599426\n",
      "[3000]: \tloss_g: 1.001953125, loss_d: 2.2106218338012695\n",
      "[3100]: \tloss_g: 0.81494140625, loss_d: 0.30452191829681396\n",
      "[3200]: \tloss_g: 0.865234375, loss_d: 0.27821218967437744\n",
      "[3300]: \tloss_g: 1.125, loss_d: 0.13704878091812134\n",
      "[3400]: \tloss_g: 1.013671875, loss_d: 0.24915236234664917\n",
      "[3500]: \tloss_g: 1.4033203125, loss_d: 0.10767695307731628\n",
      "[3600]: \tloss_g: 1.025390625, loss_d: 1.561432123184204\n",
      "[3700]: \tloss_g: 0.966796875, loss_d: 0.2605353891849518\n",
      "[3800]: \tloss_g: 0.8681640625, loss_d: 0.3377702236175537\n",
      "[3900]: \tloss_g: 1.1171875, loss_d: 0.14697018265724182\n",
      "[4000]: \tloss_g: 0.748046875, loss_d: 0.5222534537315369\n",
      "[4100]: \tloss_g: 1.1953125, loss_d: 0.12291868031024933\n",
      "[4200]: \tloss_g: 0.5029296875, loss_d: 1.6477692127227783\n",
      "[4300]: \tloss_g: 0.5869140625, loss_d: 0.5802834630012512\n",
      "[4400]: \tloss_g: 0.69140625, loss_d: 0.6120768785476685\n",
      "[4500]: \tloss_g: 1.068359375, loss_d: 0.2248067855834961\n",
      "[4600]: \tloss_g: 1.2275390625, loss_d: 0.1298353523015976\n",
      "[4700]: \tloss_g: 1.33984375, loss_d: 0.08495353907346725\n",
      "Epoch 8/10, Generator Loss: 0.9169954461566473, Discriminator Loss: 0.8746968419472608\n",
      "WARNING:tensorflow:Compiled the loaded model, but the compiled metrics have yet to be built. `model.compile_metrics` will be empty until you train or evaluate the model.\n",
      "WARNING:tensorflow:Compiled the loaded model, but the compiled metrics have yet to be built. `model.compile_metrics` will be empty until you train or evaluate the model.\n",
      "WARNING:tensorflow:Compiled the loaded model, but the compiled metrics have yet to be built. `model.compile_metrics` will be empty until you train or evaluate the model.\n",
      "[100]: \tloss_g: 1.62890625, loss_d: 0.12798336148262024\n",
      "[200]: \tloss_g: 1.669921875, loss_d: 0.06423456966876984\n",
      "[300]: \tloss_g: 1.8212890625, loss_d: 0.08225823938846588\n",
      "[400]: \tloss_g: 1.7392578125, loss_d: 2.6398935317993164\n",
      "[500]: \tloss_g: 1.646484375, loss_d: 0.08881531655788422\n",
      "[600]: \tloss_g: 0.42822265625, loss_d: 1.5234606266021729\n",
      "[700]: \tloss_g: 1.03515625, loss_d: 0.24575865268707275\n",
      "[800]: \tloss_g: 1.263671875, loss_d: 0.10689004510641098\n",
      "[900]: \tloss_g: 1.46484375, loss_d: 2.5013952255249023\n",
      "[1000]: \tloss_g: 0.96533203125, loss_d: 0.19385704398155212\n",
      "[1100]: \tloss_g: 0.56787109375, loss_d: 1.4647376537322998\n",
      "[1200]: \tloss_g: 0.85888671875, loss_d: 0.32348787784576416\n",
      "[1300]: \tloss_g: 1.09375, loss_d: 0.1507730633020401\n",
      "[1400]: \tloss_g: 0.8916015625, loss_d: 0.2280086874961853\n",
      "[1500]: \tloss_g: 0.9638671875, loss_d: 0.19689644873142242\n",
      "[1600]: \tloss_g: 0.87744140625, loss_d: 0.4112587869167328\n",
      "[1700]: \tloss_g: 1.08984375, loss_d: 0.20411767065525055\n",
      "[1800]: \tloss_g: 0.8505859375, loss_d: 0.28623658418655396\n",
      "[1900]: \tloss_g: 1.0830078125, loss_d: 1.9480605125427246\n",
      "[2000]: \tloss_g: 0.892578125, loss_d: 0.23768606781959534\n",
      "[2100]: \tloss_g: 1.0322265625, loss_d: 0.15890857577323914\n",
      "[2200]: \tloss_g: 1.224609375, loss_d: 0.14219871163368225\n",
      "[2300]: \tloss_g: 1.4072265625, loss_d: 0.098284050822258\n",
      "[2400]: \tloss_g: 1.205078125, loss_d: 0.32408732175827026\n",
      "[2500]: \tloss_g: 1.48046875, loss_d: 0.1042381227016449\n",
      "[2600]: \tloss_g: 1.8701171875, loss_d: 0.1156238317489624\n",
      "[2700]: \tloss_g: 0.791015625, loss_d: 1.6130430698394775\n",
      "[2800]: \tloss_g: 0.453857421875, loss_d: 1.2668639421463013\n",
      "[2900]: \tloss_g: 0.50732421875, loss_d: 1.1144770383834839\n",
      "[3000]: \tloss_g: 0.5888671875, loss_d: 1.579958438873291\n",
      "[3100]: \tloss_g: 0.40087890625, loss_d: 1.4362962245941162\n",
      "[3200]: \tloss_g: 0.56396484375, loss_d: 1.4715561866760254\n",
      "[3300]: \tloss_g: 0.44140625, loss_d: 0.8327604532241821\n",
      "[3400]: \tloss_g: 1.0458984375, loss_d: 0.27797070145606995\n",
      "[3500]: \tloss_g: 0.8271484375, loss_d: 0.9370800256729126\n",
      "[3600]: \tloss_g: 1.12890625, loss_d: 0.22239522635936737\n",
      "[3700]: \tloss_g: 1.2119140625, loss_d: 0.14664769172668457\n",
      "[3800]: \tloss_g: 1.15625, loss_d: 0.2841217815876007\n",
      "[3900]: \tloss_g: 1.1396484375, loss_d: 0.1452605277299881\n",
      "[4000]: \tloss_g: 0.947265625, loss_d: 0.2529313862323761\n",
      "[4100]: \tloss_g: 1.056640625, loss_d: 0.1478380709886551\n",
      "[4200]: \tloss_g: 1.173828125, loss_d: 2.12040638923645\n",
      "[4300]: \tloss_g: 1.025390625, loss_d: 0.24983683228492737\n",
      "[4400]: \tloss_g: 0.38623046875, loss_d: 1.3853574991226196\n",
      "[4500]: \tloss_g: 1.005859375, loss_d: 1.9380804300308228\n",
      "[4600]: \tloss_g: 0.95263671875, loss_d: 0.1973566859960556\n",
      "[4700]: \tloss_g: 1.05078125, loss_d: 0.14887870848178864\n",
      "Epoch 9/10, Generator Loss: 1.0540279065148306, Discriminator Loss: 0.6692436753472282\n",
      "WARNING:tensorflow:Compiled the loaded model, but the compiled metrics have yet to be built. `model.compile_metrics` will be empty until you train or evaluate the model.\n",
      "WARNING:tensorflow:Compiled the loaded model, but the compiled metrics have yet to be built. `model.compile_metrics` will be empty until you train or evaluate the model.\n",
      "WARNING:tensorflow:Compiled the loaded model, but the compiled metrics have yet to be built. `model.compile_metrics` will be empty until you train or evaluate the model.\n",
      "[100]: \tloss_g: 1.1171875, loss_d: 0.2679623067378998\n",
      "[200]: \tloss_g: 1.541015625, loss_d: 0.06663745641708374\n",
      "[300]: \tloss_g: 1.580078125, loss_d: 0.10196288675069809\n",
      "[400]: \tloss_g: 2.0625, loss_d: 0.21225214004516602\n",
      "[500]: \tloss_g: 0.60107421875, loss_d: 0.9910693764686584\n",
      "[600]: \tloss_g: 1.1796875, loss_d: 0.1823805868625641\n",
      "[700]: \tloss_g: 1.380859375, loss_d: 0.9503239393234253\n",
      "[800]: \tloss_g: 1.5078125, loss_d: 0.09338657557964325\n",
      "[900]: \tloss_g: 0.90234375, loss_d: 0.5796366930007935\n",
      "[1000]: \tloss_g: 0.411865234375, loss_d: 1.365797758102417\n",
      "[1100]: \tloss_g: 1.9072265625, loss_d: 0.032798394560813904\n",
      "[1200]: \tloss_g: 0.73974609375, loss_d: 0.8983325958251953\n",
      "[1300]: \tloss_g: 1.3916015625, loss_d: 2.1454708576202393\n",
      "[1400]: \tloss_g: 0.552734375, loss_d: 0.9936701655387878\n",
      "[1500]: \tloss_g: 0.98681640625, loss_d: 0.29131004214286804\n",
      "[1600]: \tloss_g: 1.5703125, loss_d: 0.22451916337013245\n",
      "[1700]: \tloss_g: 0.7939453125, loss_d: 1.243701457977295\n",
      "[1800]: \tloss_g: 1.1484375, loss_d: 0.2208791971206665\n",
      "[1900]: \tloss_g: 1.4814453125, loss_d: 0.16633771359920502\n",
      "[2000]: \tloss_g: 0.155029296875, loss_d: 2.407148838043213\n",
      "[2100]: \tloss_g: 0.59912109375, loss_d: 1.079779863357544\n",
      "[2200]: \tloss_g: 1.4873046875, loss_d: 0.10229797661304474\n",
      "[2300]: \tloss_g: 1.689453125, loss_d: 0.061284881085157394\n",
      "[2400]: \tloss_g: 1.810546875, loss_d: 0.04914858937263489\n",
      "[2500]: \tloss_g: 1.7119140625, loss_d: 0.04560024291276932\n",
      "[2600]: \tloss_g: 1.767578125, loss_d: 0.03769044950604439\n",
      "[2700]: \tloss_g: 1.689453125, loss_d: 0.045786261558532715\n",
      "[2800]: \tloss_g: 0.7666015625, loss_d: 1.7931947708129883\n",
      "[2900]: \tloss_g: 0.6015625, loss_d: 1.3446555137634277\n",
      "[3000]: \tloss_g: 1.126953125, loss_d: 0.17952752113342285\n",
      "[3100]: \tloss_g: 1.1142578125, loss_d: 0.2686460018157959\n",
      "[3200]: \tloss_g: 1.126953125, loss_d: 0.16671785712242126\n",
      "[3300]: \tloss_g: 0.99755859375, loss_d: 0.5859557390213013\n",
      "[3400]: \tloss_g: 1.27734375, loss_d: 0.23489654064178467\n",
      "[3500]: \tloss_g: 0.87646484375, loss_d: 0.3900865912437439\n",
      "[3600]: \tloss_g: 1.3125, loss_d: 0.1733691245317459\n",
      "[3700]: \tloss_g: 1.451171875, loss_d: 0.1152426153421402\n",
      "[3800]: \tloss_g: 1.146484375, loss_d: 0.2591208815574646\n",
      "[3900]: \tloss_g: 1.3232421875, loss_d: 0.12133041769266129\n",
      "[4000]: \tloss_g: 0.52197265625, loss_d: 1.1729570627212524\n",
      "[4100]: \tloss_g: 1.16015625, loss_d: 0.16730627417564392\n",
      "[4200]: \tloss_g: 0.912109375, loss_d: 1.1899909973144531\n",
      "[4300]: \tloss_g: 1.21875, loss_d: 0.1434938907623291\n",
      "[4400]: \tloss_g: 1.076171875, loss_d: 0.2698935270309448\n",
      "[4500]: \tloss_g: 1.322265625, loss_d: 0.551214337348938\n",
      "[4600]: \tloss_g: 0.90234375, loss_d: 1.256535291671753\n",
      "[4700]: \tloss_g: 0.93701171875, loss_d: 0.5151128172874451\n",
      "Epoch 10/10, Generator Loss: 1.1675877457958157, Discriminator Loss: 0.662398291341329\n",
      "WARNING:tensorflow:Compiled the loaded model, but the compiled metrics have yet to be built. `model.compile_metrics` will be empty until you train or evaluate the model.\n",
      "WARNING:tensorflow:Compiled the loaded model, but the compiled metrics have yet to be built. `model.compile_metrics` will be empty until you train or evaluate the model.\n",
      "WARNING:tensorflow:Compiled the loaded model, but the compiled metrics have yet to be built. `model.compile_metrics` will be empty until you train or evaluate the model.\n"
     ]
    }
   ],
   "source": [
    "import warnings\n",
    "warnings.filterwarnings('ignore')\n",
    "\n",
    "epochs = 10  # Example number of epochs\n",
    "w1 = 0.2\n",
    "w2 = 0.3\n",
    "w3 = 0.5\n",
    "# batch_size = 128\n",
    "\n",
    "for epoch in range(epochs):\n",
    "    gen_loss_total = 0\n",
    "    disc_loss_total = 0\n",
    "    num_batches = 0\n",
    "    \n",
    "    for batch in data_loader:\n",
    "        batch_size = np.array(batch).shape[0]  \n",
    "        # print(\"Generate random noise...\")\n",
    "        z = generate_random_noise(batch_size, time_window, features) \n",
    "        z = np.float16(z)\n",
    "        num_batches += 1\n",
    "        \n",
    "        # Train discriminator\n",
    "        with tf.GradientTape() as disc_tape:\n",
    "            real_output = discriminator(np.array(batch))  # Discriminator evaluates real data\n",
    "            generated_x = generator(z)          # Generator produces data from noise\n",
    "            fake_output = discriminator(generated_x)  # Discriminator evaluates generated data\n",
    "            disc_loss = discriminator_loss(real_output, fake_output)\n",
    "        \n",
    "        # print(\"Discriminator train...\")\n",
    "        gradients_of_discriminator = disc_tape.gradient(disc_loss, discriminator.trainable_variables)\n",
    "        disc_optimizer.apply_gradients(zip(gradients_of_discriminator, discriminator.trainable_variables))\n",
    "        \n",
    "        # Train generator\n",
    "        with tf.GradientTape() as gen_tape:\n",
    "            generated_x = generator(z)          # Generator produces data from noise\n",
    "            fake_output_gen = discriminator(generated_x)  # Discriminator evaluates generated data\n",
    "            \n",
    "            # Since we're training the generator, we compare the generated data against real data\n",
    "            z_enc1 = generator.encoder(np.array(batch))  # Encoder1 with real data\n",
    "            z_enc2 = encoder2(generated_x)     # Encoder2 with generated data\n",
    "            \n",
    "            gen_loss = generator_loss(batch, generated_x, z_enc1, z_enc2, fake_output_gen, w1, w2, w3)\n",
    "        \n",
    "        # print(\"Generator train...\")\n",
    "        gradients_of_generator = gen_tape.gradient(gen_loss, generator.trainable_variables)\n",
    "        gen_optimizer.apply_gradients(zip(gradients_of_generator, generator.trainable_variables))\n",
    "        \n",
    "        gen_loss_total += gen_loss.numpy()\n",
    "        disc_loss_total += disc_loss.numpy()\n",
    "\n",
    "        if num_batches % 100 == 0:\n",
    "            print(f'[{num_batches}]: \\tloss_g: {gen_loss}, loss_d: {disc_loss}')\n",
    "    \n",
    "    avg_gen_loss = gen_loss_total / num_batches\n",
    "    avg_disc_loss = disc_loss_total / num_batches\n",
    "    \n",
    "    # Log the losses\n",
    "    print(f'Epoch {epoch+1}/{epochs}, Generator Loss: {avg_gen_loss}, Discriminator Loss: {avg_disc_loss}')\n",
    "    # save each model\n",
    "    generator.encoder.save(\"../../models/3W/LSTM-GAN/2/generator-encoder-v1.h5\")\n",
    "    generator.decoder.save(\"../../models/3W/LSTM-GAN/2/generator-decoder-v1.h5\")\n",
    "    encoder2.save(\"../../models/3W/LSTM-GAN/2/encoder2-v1.h5\")\n",
    "    discriminator.save(\"../../models/3W/LSTM-GAN/2/discriminator-v1.h5\")\n"
   ]
  },
  {
   "cell_type": "code",
   "execution_count": 23,
   "metadata": {},
   "outputs": [
    {
     "name": "stdout",
     "output_type": "stream",
     "text": [
      "WARNING:tensorflow:Compiled the loaded model, but the compiled metrics have yet to be built. `model.compile_metrics` will be empty until you train or evaluate the model.\n"
     ]
    },
    {
     "name": "stdout",
     "output_type": "stream",
     "text": [
      "WARNING:tensorflow:Compiled the loaded model, but the compiled metrics have yet to be built. `model.compile_metrics` will be empty until you train or evaluate the model.\n",
      "WARNING:tensorflow:Compiled the loaded model, but the compiled metrics have yet to be built. `model.compile_metrics` will be empty until you train or evaluate the model.\n"
     ]
    }
   ],
   "source": [
    "generator.encoder.save(\"../../models/3W/LSTM-GAN/generator-encoder-v1.h5\")\n",
    "generator.decoder.save(\"../../models/3W/LSTM-GAN/generator-decoder-v1.h5\")\n",
    "encoder2.save(\"../../models/3W/LSTM-GAN/encoder2-v1.h5\")\n",
    "discriminator.save(\"../../models/3W/LSTM-GAN/discriminator-v1.h5\")"
   ]
  },
  {
   "cell_type": "code",
   "execution_count": 24,
   "metadata": {},
   "outputs": [
    {
     "name": "stdout",
     "output_type": "stream",
     "text": [
      "4720\n"
     ]
    }
   ],
   "source": [
    "ttt = [np.array(batch).shape for batch in data_loader]\n",
    "print(len(ttt))"
   ]
  },
  {
   "cell_type": "code",
   "execution_count": 17,
   "metadata": {},
   "outputs": [],
   "source": [
    "# Sample dataset and training example\n",
    "# train_data = merged_data_np_3d\n",
    "# train_dataset = tf.data.Dataset.from_tensor_slices(train_data).batch(32)"
   ]
  },
  {
   "cell_type": "markdown",
   "metadata": {},
   "source": [
    "## Testing"
   ]
  },
  {
   "cell_type": "code",
   "execution_count": 25,
   "metadata": {},
   "outputs": [],
   "source": [
    "dataset_dir = \"../../datasets/3W/dataset_processed/splitted/2/test\"\n",
    "\n",
    "list_files = os.listdir(dataset_dir)\n",
    "file_count = 1\n",
    "\n",
    "merged_df_test = pd.DataFrame(columns=['C1','C2','C3','class'])\n",
    "\n",
    "for i in range(file_count):\n",
    "    df = pd.read_csv(os.path.join(dataset_dir, list_files[i]), index_col='timestamp')\n",
    "    df.columns = ['C1','C2','C3','class']\n",
    "    merged_df_test = pd.concat([merged_df_test, df], ignore_index=True)"
   ]
  },
  {
   "cell_type": "code",
   "execution_count": 26,
   "metadata": {},
   "outputs": [],
   "source": [
    "merged_data_test_class = merged_df_test['class']\n",
    "\n",
    "merged_data_test_np = merged_df_test.drop('class', axis=1).values"
   ]
  },
  {
   "cell_type": "code",
   "execution_count": 27,
   "metadata": {},
   "outputs": [],
   "source": [
    "scaler_test = pickle.load(open('StandardScaler-3W-0.pkl', 'rb'))\n",
    "merged_data_test_np_scaled = scaler_test.transform(merged_data_test_np)\n",
    "merged_data_test_np_3d = convert_time_window(merged_data_test_np_scaled, 10)"
   ]
  },
  {
   "cell_type": "code",
   "execution_count": 33,
   "metadata": {},
   "outputs": [
    {
     "name": "stdout",
     "output_type": "stream",
     "text": [
      "WARNING:tensorflow:No training configuration found in the save file, so the model was *not* compiled. Compile it manually.\n",
      "WARNING:tensorflow:No training configuration found in the save file, so the model was *not* compiled. Compile it manually.\n"
     ]
    }
   ],
   "source": [
    "generator_encoder = tf.keras.models.load_model(\"../../models/3W/LSTM-GAN/generator-encoder-v1.h5\")\n",
    "generator_decoder = tf.keras.models.load_model(\"../../models/3W/LSTM-GAN/generator-decoder-v1.h5\")"
   ]
  },
  {
   "cell_type": "code",
   "execution_count": 34,
   "metadata": {},
   "outputs": [
    {
     "name": "stdout",
     "output_type": "stream",
     "text": [
      "Model: \"Encoder\"\n",
      "_________________________________________________________________\n",
      " Layer (type)                Output Shape              Param #   \n",
      "=================================================================\n",
      " input_1 (InputLayer)        [(None, 10, 3)]           0         \n",
      "                                                                 \n",
      " lstm (LSTM)                 (None, 10, 128)           67584     \n",
      "                                                                 \n",
      " lstm_1 (LSTM)               (None, 10, 64)            49408     \n",
      "                                                                 \n",
      " lstm_2 (LSTM)               (None, 32)                12416     \n",
      "                                                                 \n",
      " dense (Dense)               (None, 24)                792       \n",
      "                                                                 \n",
      " dense_1 (Dense)             (None, 10)                250       \n",
      "                                                                 \n",
      "=================================================================\n",
      "Total params: 130450 (509.57 KB)\n",
      "Trainable params: 130450 (509.57 KB)\n",
      "Non-trainable params: 0 (0.00 Byte)\n",
      "_________________________________________________________________\n"
     ]
    }
   ],
   "source": [
    "generator_encoder.summary()"
   ]
  },
  {
   "cell_type": "code",
   "execution_count": 35,
   "metadata": {},
   "outputs": [
    {
     "name": "stdout",
     "output_type": "stream",
     "text": [
      "Model: \"Decoder\"\n",
      "_________________________________________________________________\n",
      " Layer (type)                Output Shape              Param #   \n",
      "=================================================================\n",
      " input_2 (InputLayer)        [(None, 10)]              0         \n",
      "                                                                 \n",
      " dense_2 (Dense)             (None, 24)                264       \n",
      "                                                                 \n",
      " dense_3 (Dense)             (None, 24)                600       \n",
      "                                                                 \n",
      " repeat_vector (RepeatVecto  (None, 10, 24)            0         \n",
      " r)                                                              \n",
      "                                                                 \n",
      " lstm_3 (LSTM)               (None, 10, 32)            7296      \n",
      "                                                                 \n",
      " lstm_4 (LSTM)               (None, 10, 64)            24832     \n",
      "                                                                 \n",
      " lstm_5 (LSTM)               (None, 10, 128)           98816     \n",
      "                                                                 \n",
      " time_distributed (TimeDist  (None, 10, 3)             387       \n",
      " ributed)                                                        \n",
      "                                                                 \n",
      "=================================================================\n",
      "Total params: 132195 (516.39 KB)\n",
      "Trainable params: 132195 (516.39 KB)\n",
      "Non-trainable params: 0 (0.00 Byte)\n",
      "_________________________________________________________________\n"
     ]
    }
   ],
   "source": [
    "generator_decoder.summary()"
   ]
  },
  {
   "cell_type": "code",
   "execution_count": 36,
   "metadata": {},
   "outputs": [],
   "source": [
    "Z_test = generator_encoder(merged_data_test_np_3d)\n",
    "pred_3d_np = generator_decoder(Z_test).numpy()"
   ]
  },
  {
   "cell_type": "code",
   "execution_count": 37,
   "metadata": {},
   "outputs": [],
   "source": [
    "pred_2d = inverse_convert_time_window(pred_3d_np)\n",
    "pred_2d_inv = scaler_test.inverse_transform(pred_2d)"
   ]
  },
  {
   "cell_type": "code",
   "execution_count": 41,
   "metadata": {},
   "outputs": [
    {
     "data": {
      "image/png": "[encoded data removed]",
      "text/plain": [
       "<Figure size 1300x700 with 1 Axes>"
      ]
     },
     "metadata": {},
     "output_type": "display_data"
    }
   ],
   "source": [
    "plt.figure(figsize=(13,7))\n",
    "# plt.plot(merged_data_test_np_scaled)\n",
    "plt.plot(pred_2d)\n",
    "# plt.legend(['C1','C2','C3','C1-rec','C2-rec','C3-rec',])\n",
    "plt.show()"
   ]
  },
  {
   "cell_type": "code",
   "execution_count": 45,
   "metadata": {},
   "outputs": [],
   "source": [
    "r_e = calculate_reconstruction_loss(merged_data_test_np_scaled, pred_2d)"
   ]
  },
  {
   "cell_type": "code",
   "execution_count": 46,
   "metadata": {},
   "outputs": [
    {
     "name": "stderr",
     "output_type": "stream",
     "text": [
      "/home/farras/miniconda3/envs/tensor_gpu/lib/python3.9/site-packages/sklearn/metrics/_classification.py:1760: UndefinedMetricWarning: F-score is ill-defined and being set to 0.0 due to no true nor predicted samples. Use `zero_division` parameter to control this behavior.\n",
      "  _warn_prf(average, \"true nor predicted\", \"F-score is\", len(true_sum))\n"
     ]
    },
    {
     "name": "stdout",
     "output_type": "stream",
     "text": [
      "0 0 0\n"
     ]
    }
   ],
   "source": [
    "thres_up, thres_down, f1, y_pred = find_optimal_threshold(r_e, np.array(merged_data_test_class))\n",
    "print(thres_up, thres_down, f1)"
   ]
  },
  {
   "cell_type": "code",
   "execution_count": 47,
   "metadata": {},
   "outputs": [
    {
     "data": {
      "image/png": "[encoded data removed]",
      "text/plain": [
       "<Figure size 1300x700 with 1 Axes>"
      ]
     },
     "metadata": {},
     "output_type": "display_data"
    }
   ],
   "source": [
    "# iqr = np.percentile(r_e, 75) - np.percentile(r_e, 25)\n",
    "\n",
    "plt.figure(figsize=(13,7))\n",
    "plt.plot(r_e)\n",
    "# plt.plot(np.full(r_e.shape[0], thres))\n",
    "plt.plot(np.full(r_e.shape[0], thres_down))\n",
    "plt.plot(np.full(r_e.shape[0], thres_up))\n",
    "plt.title(\"Reconstruction error\")\n",
    "# plt.legend([\"reconstruction error\", \"threshold\"])\n",
    "plt.show()"
   ]
  },
  {
   "cell_type": "code",
   "execution_count": 18,
   "metadata": {},
   "outputs": [
    {
     "name": "stderr",
     "output_type": "stream",
     "text": [
      "c:\\Users\\farra\\anaconda3\\lib\\site-packages\\keras\\backend.py:5673: UserWarning: \"`binary_crossentropy` received `from_logits=True`, but the `output` argument was produced by a Sigmoid activation and thus does not represent logits. Was this intended?\n",
      "  output, from_logits = _get_logits(\n"
     ]
    },
    {
     "name": "stdout",
     "output_type": "stream",
     "text": [
      "Epoch 1, Gen Loss: 0.45279908180236816, Disc Loss: 1.5207252502441406\n",
      "Epoch 2, Gen Loss: 0.4675253927707672, Disc Loss: 1.4082858562469482\n",
      "Epoch 3, Gen Loss: 0.48224130272865295, Disc Loss: 1.3940682411193848\n",
      "Epoch 4, Gen Loss: 5.453711032867432, Disc Loss: 0.0005041113472543657\n",
      "Epoch 5, Gen Loss: 13.330048561096191, Disc Loss: 3.501121881299696e-08\n",
      "Epoch 6, Gen Loss: 17.846107482910156, Disc Loss: 9.16796150107757e-09\n",
      "Epoch 7, Gen Loss: 17.771203994750977, Disc Loss: 8.481889857137048e-09\n",
      "Epoch 8, Gen Loss: 17.169925689697266, Disc Loss: 7.811036262239668e-09\n",
      "Epoch 9, Gen Loss: 17.8572940826416, Disc Loss: 7.140829261231829e-09\n",
      "Epoch 10, Gen Loss: 26.032379150390625, Disc Loss: 6.6587486635683035e-09\n"
     ]
    }
   ],
   "source": [
    "# Train the model\n",
    "# train(train_dataset, epochs=10)"
   ]
  },
  {
   "cell_type": "code",
   "execution_count": 20,
   "metadata": {},
   "outputs": [
    {
     "name": "stdout",
     "output_type": "stream",
     "text": [
      "WARNING:tensorflow:Compiled the loaded model, but the compiled metrics have yet to be built. `model.compile_metrics` will be empty until you train or evaluate the model.\n",
      "WARNING:tensorflow:Compiled the loaded model, but the compiled metrics have yet to be built. `model.compile_metrics` will be empty until you train or evaluate the model.\n"
     ]
    }
   ],
   "source": [
    "generator.save(\"generator_lstm_gan_10.h5\")\n",
    "discriminator.save(\"discriminator_lstm_gan_10.h5\")"
   ]
  },
  {
   "cell_type": "code",
   "execution_count": 21,
   "metadata": {},
   "outputs": [
    {
     "name": "stdout",
     "output_type": "stream",
     "text": [
      "WARNING:tensorflow:No training configuration found in the save file, so the model was *not* compiled. Compile it manually.\n"
     ]
    }
   ],
   "source": [
    "gener = keras.models.load_model(\"generator_lstm_gan_10.h5\")"
   ]
  },
  {
   "cell_type": "code",
   "execution_count": 22,
   "metadata": {},
   "outputs": [],
   "source": [
    "merged_df_test = get_dataset('dataset_processed/splitted/2/test')\n",
    "merged_data_test_class = merged_df_test['class']\n",
    "\n",
    "merged_data_test_np = merged_df_test.drop('class', axis=1).values"
   ]
  },
  {
   "cell_type": "code",
   "execution_count": 27,
   "metadata": {},
   "outputs": [],
   "source": [
    "scaler_test = pickle.load(open('StandardScaler.pkl', 'rb'))\n",
    "merged_data_test_np_scaled = scaler_test.transform(merged_data_test_np)\n",
    "merged_data_test_np_3d = convert_time_window(merged_data_test_np, 10)"
   ]
  },
  {
   "cell_type": "code",
   "execution_count": 28,
   "metadata": {},
   "outputs": [
    {
     "name": "stdout",
     "output_type": "stream",
     "text": [
      "3439/3439 [==============================] - 15s 4ms/step\n"
     ]
    }
   ],
   "source": [
    "test_data = merged_data_test_np_3d\n",
    "fake_data = gener.predict(test_data)\n"
   ]
  },
  {
   "cell_type": "code",
   "execution_count": 31,
   "metadata": {},
   "outputs": [],
   "source": [
    "fake_data_2d = inverse_convert_time_window(fake_data)"
   ]
  },
  {
   "cell_type": "code",
   "execution_count": 41,
   "metadata": {},
   "outputs": [],
   "source": [
    "scalerrr = sklearn.preprocessing.StandardScaler()\n",
    "fake_data_2d_scaled = scalerrr.fit_transform(fake_data_2d)"
   ]
  },
  {
   "cell_type": "code",
   "execution_count": 44,
   "metadata": {},
   "outputs": [
    {
     "data": {
      "image/png": "[encoded data removed]",
      "text/plain": [
       "<Figure size 1300x700 with 1 Axes>"
      ]
     },
     "metadata": {},
     "output_type": "display_data"
    }
   ],
   "source": [
    "plt.figure(figsize=(13,7))\n",
    "plt.plot(merged_data_test_np_scaled)\n",
    "plt.plot(fake_data_2d_scaled)\n",
    "plt.show()"
   ]
  },
  {
   "cell_type": "code",
   "execution_count": 46,
   "metadata": {},
   "outputs": [
    {
     "data": {
      "image/png": "[encoded data removed]",
      "text/plain": [
       "<Figure size 1300x700 with 1 Axes>"
      ]
     },
     "metadata": {},
     "output_type": "display_data"
    }
   ],
   "source": [
    "r_e = calculate_reconstruction_loss(merged_data_test_np_scaled, fake_data_2d_scaled)\n",
    "\n",
    "plt.figure(figsize=(13,7))\n",
    "plt.plot(r_e)\n",
    "# plt.plot(fake_data_2d_scaled)\n",
    "plt.show()"
   ]
  },
  {
   "cell_type": "code",
   "execution_count": 28,
   "metadata": {},
   "outputs": [],
   "source": [
    "\n",
    "# Latent space reconstruction loss\n",
    "latent_real = generator(test_data)\n",
    "latent_fake = generator(fake_data)\n",
    "\n",
    "anomaly_score = np.mean(np.square(latent_real - latent_fake), axis=1)\n"
   ]
  },
  {
   "cell_type": "code",
   "execution_count": null,
   "metadata": {},
   "outputs": [],
   "source": [
    "\n",
    "# Evaluate the model (replace `true_labels` with actual labels)\n",
    "true_labels = np.random.randint(0, 4, size=1000)\n",
    "evaluate_model(train_data, true_labels, thresholds=[0.2, 0.5, 0.7])"
   ]
  }
 ],
 "metadata": {
  "kernelspec": {
   "display_name": "base",
   "language": "python",
   "name": "python3"
  },
  "language_info": {
   "codemirror_mode": {
    "name": "ipython",
    "version": 3
   },
   "file_extension": ".py",
   "mimetype": "text/x-python",
   "name": "python",
   "nbconvert_exporter": "python",
   "pygments_lexer": "ipython3",
   "version": "3.9.18"
  }
 },
 "nbformat": 4,
 "nbformat_minor": 2
}
