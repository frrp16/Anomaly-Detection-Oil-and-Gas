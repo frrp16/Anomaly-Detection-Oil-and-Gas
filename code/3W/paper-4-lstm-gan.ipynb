{
 "cells": [
  {
   "cell_type": "code",
   "execution_count": 1,
   "metadata": {},
   "outputs": [],
   "source": [
    "import os\n",
    "import sys\n",
    "import time\n",
    "import shutil\n",
    "import pickle\n",
    "\n",
    "import numpy as np\n",
    "import pandas as pd\n",
    "import tensorflow as tf\n",
    "import matplotlib.pyplot as plt\n",
    "\n",
    "%matplotlib inline\n",
    "\n",
    "from sklearn.metrics import f1_score\n",
    "from tensorflow import keras\n",
    "\n",
    "import sklearn.preprocessing\n",
    "from sklearn.metrics import precision_score, recall_score, f1_score, confusion_matrix"
   ]
  },
  {
   "cell_type": "code",
   "execution_count": 2,
   "metadata": {},
   "outputs": [],
   "source": [
    "def get_dataset(directory):    \n",
    "    merged_df = pd.DataFrame()\n",
    "    for files in os.listdir(directory):\n",
    "        df = pd.read_csv(os.path.join(directory, files), index_col='timestamp')\n",
    "        df.dropna(inplace=True)\n",
    "        merged_df = pd.concat([merged_df, df], ignore_index=True)\n",
    "    \n",
    "    return merged_df"
   ]
  },
  {
   "cell_type": "code",
   "execution_count": 3,
   "metadata": {},
   "outputs": [],
   "source": [
    "def convert_time_window(data, timesteps):\n",
    "    samples = data.shape[0] - timesteps + 1  # Number of samples in the new 3D array\n",
    "    variables = data.shape[1]  # Number of variables (features)\n",
    "\n",
    "    data_3d = np.zeros((samples, timesteps, variables))\n",
    "\n",
    "    for i in range(samples):\n",
    "        data_3d[i] = data[i:i+timesteps]\n",
    "    return data_3d"
   ]
  },
  {
   "cell_type": "code",
   "execution_count": 4,
   "metadata": {},
   "outputs": [],
   "source": [
    "def inverse_convert_time_window(data_3d):\n",
    "    samples, timesteps, variables = data_3d.shape\n",
    "    data_2d = np.zeros((samples + timesteps - 1, variables))\n",
    "\n",
    "    count = np.zeros((samples + timesteps - 1, variables))\n",
    "\n",
    "    for i in range(samples):\n",
    "        data_2d[i:i+timesteps] += data_3d[i]\n",
    "        count[i:i+timesteps] += 1\n",
    "\n",
    "    data_2d /= count\n",
    "    return data_2d"
   ]
  },
  {
   "cell_type": "code",
   "execution_count": 5,
   "metadata": {},
   "outputs": [],
   "source": [
    "def calculate_reconstruction_loss(data, reconstructions):\n",
    "    reconstruction_errors = np.mean(np.abs(data - reconstructions), axis=1)\n",
    "    return reconstruction_errors"
   ]
  },
  {
   "cell_type": "code",
   "execution_count": 6,
   "metadata": {},
   "outputs": [],
   "source": [
    "def find_optimal_threshold(reconstruction_errors, y_true):\n",
    "    best_threshold = 0.0\n",
    "    best_f1 = 0.0\n",
    "\n",
    "    thresholds = np.linspace(0.0, 1.0, num=1000)\n",
    "\n",
    "    for threshold in thresholds:\n",
    "        y_pred = (reconstruction_errors > threshold).astype(bool)\n",
    "\n",
    "        current_f1 = f1_score(y_true.astype(bool), y_pred)\n",
    "\n",
    "        if current_f1 > best_f1:\n",
    "            best_f1 = current_f1\n",
    "            best_threshold = threshold\n",
    "\n",
    "    return best_threshold, best_f1"
   ]
  },
  {
   "cell_type": "code",
   "execution_count": 7,
   "metadata": {},
   "outputs": [],
   "source": [
    "merged_df = get_dataset('dataset_processed/splitted/2/train')\n",
    "merged_data_class = merged_df['class']\n",
    "\n",
    "merged_data_np = merged_df.drop('class', axis=1).values"
   ]
  },
  {
   "cell_type": "code",
   "execution_count": 8,
   "metadata": {},
   "outputs": [],
   "source": [
    "time_steps = 10\n",
    "features = merged_data_np.shape[1]   \n",
    "latent_dim = 32"
   ]
  },
  {
   "cell_type": "code",
   "execution_count": 9,
   "metadata": {},
   "outputs": [],
   "source": [
    "scaler = sklearn.preprocessing.StandardScaler()\n",
    "scaler.fit(merged_data_np)\n",
    "\n",
    "merged_data_np_scaled = scaler.transform(merged_data_np)\n",
    "\n",
    "pickle.dump(scaler, open('StandardScaler.pkl', 'wb'))"
   ]
  },
  {
   "cell_type": "code",
   "execution_count": 10,
   "metadata": {},
   "outputs": [],
   "source": [
    "merged_data_np_3d = convert_time_window(merged_data_np_scaled, time_steps)"
   ]
  },
  {
   "cell_type": "code",
   "execution_count": 11,
   "metadata": {},
   "outputs": [
    {
     "data": {
      "text/plain": [
       "(536753, 10, 3)"
      ]
     },
     "execution_count": 11,
     "metadata": {},
     "output_type": "execute_result"
    }
   ],
   "source": [
    "merged_data_np_3d.shape"
   ]
  },
  {
   "cell_type": "code",
   "execution_count": 12,
   "metadata": {},
   "outputs": [],
   "source": [
    "# Generator (Autoencoder with Encoder1 and Decoder)\n",
    "def build_generator():\n",
    "    inputs = keras.layers.Input(shape=(time_steps, features))\n",
    "    \n",
    "    # Encoder 1 (LSTM layers + Fully Connected Layers)\n",
    "    x = keras.layers.LSTM(128, return_sequences=True)(inputs)\n",
    "    x = keras.layers.LSTM(64)(x)\n",
    "    x = keras.layers.Dense(64)(x)\n",
    "    x = keras.layers.BatchNormalization()(x)\n",
    "    x = keras.layers.LeakyReLU()(x)\n",
    "    \n",
    "    # Latent representation (z)\n",
    "    latent = keras.layers.Dense(latent_dim, activation='relu')(x)\n",
    "\n",
    "    # Decoder (Symmetrical to Encoder 1)\n",
    "    x = keras.layers.Dense(64)(latent)\n",
    "    x = keras.layers.BatchNormalization()(x)\n",
    "    x = keras.layers.LeakyReLU()(x)\n",
    "    x = keras.layers.Dense(time_steps * features)(x)\n",
    "    outputs = keras.layers.Reshape((time_steps, features))(x)\n",
    "    \n",
    "    model = keras.models.Model(inputs, outputs, name=\"Generator\")\n",
    "    return model\n",
    "\n",
    "\n",
    "# Discriminator (used to classify real vs fake)\n",
    "def build_discriminator():\n",
    "    inputs = keras.layers.Input(shape=(time_steps, features))\n",
    "    \n",
    "    x = keras.layers.LSTM(128, return_sequences=True)(inputs)\n",
    "    x = keras.layers.LSTM(64)(x)\n",
    "    x = keras.layers.Dense(64)(x)\n",
    "    x = keras.layers.BatchNormalization()(x)\n",
    "    x = keras.layers.LeakyReLU()(x)\n",
    "    \n",
    "    # Flatten and classify real vs fake\n",
    "    x = keras.layers.Flatten()(x)\n",
    "    x = keras.layers.Dense(1, activation='sigmoid')(x)\n",
    "    \n",
    "    model = keras.models.Model(inputs, x, name=\"Discriminator\")\n",
    "    return model"
   ]
  },
  {
   "cell_type": "code",
   "execution_count": 13,
   "metadata": {},
   "outputs": [],
   "source": [
    "# Define loss functions\n",
    "def generator_loss(fake_output, reconstructed_input, real_latent, reconstructed_latent, lambdas):\n",
    "    bce_loss = keras.losses.BinaryCrossentropy(from_logits=True)\n",
    "    \n",
    "    # Reconstruction loss (input space, L1 loss)\n",
    "    lx = tf.reduce_mean(tf.abs(reconstructed_input - real_latent))\n",
    "    \n",
    "    # Latent space reconstruction loss (L2 loss)\n",
    "    lz = tf.reduce_mean(tf.square(reconstructed_latent - real_latent))\n",
    "    \n",
    "    # Adversarial loss (Binary Crossentropy)\n",
    "    adversarial_loss = bce_loss(tf.ones_like(fake_output), fake_output)\n",
    "    \n",
    "    # Combine losses\n",
    "    loss = lambdas[0] * lx + lambdas[1] * lz + lambdas[2] * adversarial_loss\n",
    "    return loss\n",
    "\n",
    "\n",
    "def discriminator_loss(real_output, fake_output):\n",
    "    bce_loss = keras.losses.BinaryCrossentropy(from_logits=True)\n",
    "    \n",
    "    # Binary crossentropy loss for real and fake samples\n",
    "    real_loss = bce_loss(tf.ones_like(real_output), real_output)\n",
    "    fake_loss = bce_loss(tf.zeros_like(fake_output), fake_output)\n",
    "    \n",
    "    # Total discriminator loss\n",
    "    return real_loss + fake_loss"
   ]
  },
  {
   "cell_type": "code",
   "execution_count": 14,
   "metadata": {},
   "outputs": [],
   "source": [
    "# Build and compile the models\n",
    "generator = build_generator()\n",
    "discriminator = build_discriminator()\n",
    "\n",
    "# Optimizers\n",
    "gen_optimizer = keras.optimizers.Adam(0.0002, beta_1=0.5)\n",
    "disc_optimizer = keras.optimizers.Adam(0.0002, beta_1=0.5)\n",
    "\n",
    "# Placeholders for real and fake inputs\n",
    "real_data = keras.layers.Input(shape=(time_steps, features))\n",
    "fake_data = generator(real_data)\n",
    "\n",
    "# Discriminator training\n",
    "real_output = discriminator(real_data)\n",
    "fake_output = discriminator(fake_data)"
   ]
  },
  {
   "cell_type": "code",
   "execution_count": 15,
   "metadata": {},
   "outputs": [],
   "source": [
    "@tf.function\n",
    "def train_step(real_data):\n",
    "    # Latent vectors for reconstruction\n",
    "    real_latent = generator(real_data)\n",
    "    \n",
    "    with tf.GradientTape(persistent=True) as tape:\n",
    "        # Generate fake data\n",
    "        fake_data = generator(real_data)\n",
    "        \n",
    "        # Discriminator outputs\n",
    "        real_output = discriminator(real_data)\n",
    "        fake_output = discriminator(fake_data)\n",
    "        \n",
    "        # Latent space reconstruction\n",
    "        reconstructed_latent = generator(fake_data)\n",
    "        \n",
    "        # Calculate losses\n",
    "        gen_loss = generator_loss(fake_output, fake_data, real_latent, reconstructed_latent, lambdas=[0.2, 0.1, 0.7])\n",
    "        disc_loss = discriminator_loss(real_output, fake_output)\n",
    "    \n",
    "    # Update gradients\n",
    "    gradients_of_generator = tape.gradient(gen_loss, generator.trainable_variables)\n",
    "    gradients_of_discriminator = tape.gradient(disc_loss, discriminator.trainable_variables)\n",
    "    \n",
    "    gen_optimizer.apply_gradients(zip(gradients_of_generator, generator.trainable_variables))\n",
    "    disc_optimizer.apply_gradients(zip(gradients_of_discriminator, discriminator.trainable_variables))\n",
    "    \n",
    "    return gen_loss, disc_loss"
   ]
  },
  {
   "cell_type": "code",
   "execution_count": 16,
   "metadata": {},
   "outputs": [],
   "source": [
    "# Training loop\n",
    "def train(dataset, epochs):\n",
    "    for epoch in range(epochs):\n",
    "        for real_data in dataset:\n",
    "            gen_loss, disc_loss = train_step(real_data)\n",
    "        \n",
    "        print(f'Epoch {epoch + 1}, Gen Loss: {gen_loss}, Disc Loss: {disc_loss}')\n",
    "\n",
    "# Anomaly score and labeling\n",
    "def compute_anomaly_score(real_data):\n",
    "    fake_data = generator.predict(real_data)\n",
    "    \n",
    "    # Latent space reconstruction loss\n",
    "    latent_real = generator(real_data)\n",
    "    latent_fake = generator(fake_data)\n",
    "    \n",
    "    anomaly_score = np.mean(np.square(latent_real - latent_fake), axis=1)\n",
    "    \n",
    "    return anomaly_score\n",
    "\n",
    "# def label_data(anomaly_score, thresholds):\n",
    "#     labels = np.zeros_like(anomaly_score)\n",
    "#     labels[anomaly_score < thresholds[0]] = 0  # \"Good\"\n",
    "#     labels[(anomaly_score >= thresholds[0]) & (anomaly_score < thresholds[1])] = 1  # \"Watching\"\n",
    "#     labels[(anomaly_score >= thresholds[1]) & (anomaly_score < thresholds[2])] = 2  # \"Warning\"\n",
    "#     labels[anomaly_score >= thresholds[2]] = 3  # \"Fault\"\n",
    "#     return labels\n",
    "\n",
    "# # Model Evaluation\n",
    "# def evaluate_model(real_data, true_labels, thresholds):\n",
    "#     # Compute anomaly scores\n",
    "#     anomaly_scores = compute_anomaly_score(real_data)\n",
    "    \n",
    "#     # Label data based on thresholds\n",
    "#     predicted_labels = label_data(anomaly_scores, thresholds)\n",
    "    \n",
    "#     # Calculate evaluation metrics\n",
    "#     precision = precision_score(true_labels, predicted_labels, average='weighted')\n",
    "#     recall = recall_score(true_labels, predicted_labels, average='weighted')\n",
    "#     f1 = f1_score(true_labels, predicted_labels, average='weighted')\n",
    "#     cm = confusion_matrix(true_labels, predicted_labels)\n",
    "    \n",
    "#     print(f\"Precision: {precision:.4f}, Recall: {recall:.4f}, F1-Score: {f1:.4f}\")\n",
    "#     print(\"Confusion Matrix:\")\n",
    "#     print(cm)"
   ]
  },
  {
   "cell_type": "code",
   "execution_count": 17,
   "metadata": {},
   "outputs": [],
   "source": [
    "# Sample dataset and training example\n",
    "train_data = merged_data_np_3d\n",
    "train_dataset = tf.data.Dataset.from_tensor_slices(train_data).batch(32)"
   ]
  },
  {
   "cell_type": "code",
   "execution_count": 18,
   "metadata": {},
   "outputs": [
    {
     "name": "stderr",
     "output_type": "stream",
     "text": [
      "c:\\Users\\farra\\anaconda3\\lib\\site-packages\\keras\\backend.py:5673: UserWarning: \"`binary_crossentropy` received `from_logits=True`, but the `output` argument was produced by a Sigmoid activation and thus does not represent logits. Was this intended?\n",
      "  output, from_logits = _get_logits(\n"
     ]
    },
    {
     "name": "stdout",
     "output_type": "stream",
     "text": [
      "Epoch 1, Gen Loss: 0.45279908180236816, Disc Loss: 1.5207252502441406\n",
      "Epoch 2, Gen Loss: 0.4675253927707672, Disc Loss: 1.4082858562469482\n",
      "Epoch 3, Gen Loss: 0.48224130272865295, Disc Loss: 1.3940682411193848\n",
      "Epoch 4, Gen Loss: 5.453711032867432, Disc Loss: 0.0005041113472543657\n",
      "Epoch 5, Gen Loss: 13.330048561096191, Disc Loss: 3.501121881299696e-08\n",
      "Epoch 6, Gen Loss: 17.846107482910156, Disc Loss: 9.16796150107757e-09\n",
      "Epoch 7, Gen Loss: 17.771203994750977, Disc Loss: 8.481889857137048e-09\n",
      "Epoch 8, Gen Loss: 17.169925689697266, Disc Loss: 7.811036262239668e-09\n",
      "Epoch 9, Gen Loss: 17.8572940826416, Disc Loss: 7.140829261231829e-09\n",
      "Epoch 10, Gen Loss: 26.032379150390625, Disc Loss: 6.6587486635683035e-09\n"
     ]
    }
   ],
   "source": [
    "# Train the model\n",
    "train(train_dataset, epochs=10)"
   ]
  },
  {
   "cell_type": "code",
   "execution_count": 20,
   "metadata": {},
   "outputs": [
    {
     "name": "stdout",
     "output_type": "stream",
     "text": [
      "WARNING:tensorflow:Compiled the loaded model, but the compiled metrics have yet to be built. `model.compile_metrics` will be empty until you train or evaluate the model.\n",
      "WARNING:tensorflow:Compiled the loaded model, but the compiled metrics have yet to be built. `model.compile_metrics` will be empty until you train or evaluate the model.\n"
     ]
    }
   ],
   "source": [
    "generator.save(\"generator_lstm_gan_10.h5\")\n",
    "discriminator.save(\"discriminator_lstm_gan_10.h5\")"
   ]
  },
  {
   "cell_type": "code",
   "execution_count": 21,
   "metadata": {},
   "outputs": [
    {
     "name": "stdout",
     "output_type": "stream",
     "text": [
      "WARNING:tensorflow:No training configuration found in the save file, so the model was *not* compiled. Compile it manually.\n"
     ]
    }
   ],
   "source": [
    "gener = keras.models.load_model(\"generator_lstm_gan_10.h5\")"
   ]
  },
  {
   "cell_type": "code",
   "execution_count": 22,
   "metadata": {},
   "outputs": [],
   "source": [
    "merged_df_test = get_dataset('dataset_processed/splitted/2/test')\n",
    "merged_data_test_class = merged_df_test['class']\n",
    "\n",
    "merged_data_test_np = merged_df_test.drop('class', axis=1).values"
   ]
  },
  {
   "cell_type": "code",
   "execution_count": 27,
   "metadata": {},
   "outputs": [],
   "source": [
    "scaler_test = pickle.load(open('StandardScaler.pkl', 'rb'))\n",
    "merged_data_test_np_scaled = scaler_test.transform(merged_data_test_np)\n",
    "merged_data_test_np_3d = convert_time_window(merged_data_test_np, 10)"
   ]
  },
  {
   "cell_type": "code",
   "execution_count": 28,
   "metadata": {},
   "outputs": [
    {
     "name": "stdout",
     "output_type": "stream",
     "text": [
      "3439/3439 [==============================] - 15s 4ms/step\n"
     ]
    }
   ],
   "source": [
    "test_data = merged_data_test_np_3d\n",
    "fake_data = gener.predict(test_data)\n"
   ]
  },
  {
   "cell_type": "code",
   "execution_count": 31,
   "metadata": {},
   "outputs": [],
   "source": [
    "fake_data_2d = inverse_convert_time_window(fake_data)"
   ]
  },
  {
   "cell_type": "code",
   "execution_count": 41,
   "metadata": {},
   "outputs": [],
   "source": [
    "scalerrr = sklearn.preprocessing.StandardScaler()\n",
    "fake_data_2d_scaled = scalerrr.fit_transform(fake_data_2d)"
   ]
  },
  {
   "cell_type": "code",
   "execution_count": 44,
   "metadata": {},
   "outputs": [
    {
     "data": {
      "image/png": "[encoded data removed]",
      "text/plain": [
       "<Figure size 1300x700 with 1 Axes>"
      ]
     },
     "metadata": {},
     "output_type": "display_data"
    }
   ],
   "source": [
    "plt.figure(figsize=(13,7))\n",
    "plt.plot(merged_data_test_np_scaled)\n",
    "plt.plot(fake_data_2d_scaled)\n",
    "plt.show()"
   ]
  },
  {
   "cell_type": "code",
   "execution_count": 46,
   "metadata": {},
   "outputs": [
    {
     "data": {
      "image/png": "[encoded data removed]",
      "text/plain": [
       "<Figure size 1300x700 with 1 Axes>"
      ]
     },
     "metadata": {},
     "output_type": "display_data"
    }
   ],
   "source": [
    "r_e = calculate_reconstruction_loss(merged_data_test_np_scaled, fake_data_2d_scaled)\n",
    "\n",
    "plt.figure(figsize=(13,7))\n",
    "plt.plot(r_e)\n",
    "# plt.plot(fake_data_2d_scaled)\n",
    "plt.show()"
   ]
  },
  {
   "cell_type": "code",
   "execution_count": 28,
   "metadata": {},
   "outputs": [],
   "source": [
    "\n",
    "# Latent space reconstruction loss\n",
    "latent_real = generator(test_data)\n",
    "latent_fake = generator(fake_data)\n",
    "\n",
    "anomaly_score = np.mean(np.square(latent_real - latent_fake), axis=1)\n"
   ]
  },
  {
   "cell_type": "code",
   "execution_count": null,
   "metadata": {},
   "outputs": [],
   "source": [
    "\n",
    "# Evaluate the model (replace `true_labels` with actual labels)\n",
    "true_labels = np.random.randint(0, 4, size=1000)\n",
    "evaluate_model(train_data, true_labels, thresholds=[0.2, 0.5, 0.7])"
   ]
  }
 ],
 "metadata": {
  "kernelspec": {
   "display_name": "base",
   "language": "python",
   "name": "python3"
  },
  "language_info": {
   "codemirror_mode": {
    "name": "ipython",
    "version": 3
   },
   "file_extension": ".py",
   "mimetype": "text/x-python",
   "name": "python",
   "nbconvert_exporter": "python",
   "pygments_lexer": "ipython3",
   "version": "2022.5.undefined"
  }
 },
 "nbformat": 4,
 "nbformat_minor": 2
}
