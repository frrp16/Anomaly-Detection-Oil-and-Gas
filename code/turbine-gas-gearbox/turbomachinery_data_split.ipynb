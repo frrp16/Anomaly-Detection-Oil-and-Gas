{
 "cells": [
  {
   "cell_type": "code",
   "execution_count": 1,
   "metadata": {},
   "outputs": [],
   "source": [
    "import numpy as np\n",
    "import pandas as pd\n",
    "import matplotlib.pyplot as plt"
   ]
  },
  {
   "cell_type": "code",
   "execution_count": 2,
   "metadata": {},
   "outputs": [
    {
     "name": "stdout",
     "output_type": "stream",
     "text": [
      "<class 'pandas.core.frame.DataFrame'>\n",
      "RangeIndex: 161788 entries, 0 to 161787\n",
      "Data columns (total 32 columns):\n",
      " #   Column                                 Non-Null Count   Dtype         \n",
      "---  ------                                 --------------   -----         \n",
      " 0   Timestamp                              161788 non-null  datetime64[ns]\n",
      " 1   PT N2 'C' Speed                        161788 non-null  float64       \n",
      " 2   Gear High Speed Drive End X Vibr       161788 non-null  float64       \n",
      " 3   Gear High Speed Drive End Y Vibr       161788 non-null  float64       \n",
      " 4   Gear High Speed Non-Drive End X Vibr   161788 non-null  float64       \n",
      " 5   Gear High Speed Non-Drive End Y Vibr   161788 non-null  float64       \n",
      " 6   Gear LS Shaft Axial Displ 1            161788 non-null  float64       \n",
      " 7   Gear LS Shaft Axial Displ 2            161788 non-null  float64       \n",
      " 8   Gear Low Speed Drive End X Vibr        161788 non-null  float64       \n",
      " 9   Gear Low Speed DriveEnd Y Vibr         161788 non-null  float64       \n",
      " 10  Gear Low Speed Non-Drive End X Vibr    161788 non-null  float64       \n",
      " 11  Gear Low Speed Non-Drive End Y Vibr    161788 non-null  float64       \n",
      " 12  PT Axial Displ 1                       161788 non-null  float64       \n",
      " 13  PT Axial Displ 2                       161788 non-null  float64       \n",
      " 14  PT Coupling End X Vibr                 161788 non-null  float64       \n",
      " 15  PT Coupling End Y Vibr                 161788 non-null  float64       \n",
      " 16  PT Disc End X Vibr                     161788 non-null  float64       \n",
      " 17  PT Disc End Y Vibr                     161788 non-null  float64       \n",
      " 18  Gear H.S. Non-Drive End Jrnl Brg Temp  161788 non-null  float64       \n",
      " 19  Gear LS Outboard Thrust Brg Temp       161788 non-null  float64       \n",
      " 20  Gear Drain Temp                        161788 non-null  float64       \n",
      " 21  Gear H.S. Drive End Jrnl Brg Temp      161788 non-null  float64       \n",
      " 22  Gear LS Drive End Jrnl Brg Temp        161788 non-null  float64       \n",
      " 23  Gear LS Inboard Thrust Brg Temp        161788 non-null  float64       \n",
      " 24  LO Supply Press                        161788 non-null  float64       \n",
      " 25  LO Cooler Outlet Temp                  161788 non-null  float64       \n",
      " 26  Pt Thrust Brg Temp                     161788 non-null  float64       \n",
      " 27  Pt Coupling End Temp                   161788 non-null  float64       \n",
      " 28  Pt Disch End Temp                      161788 non-null  float64       \n",
      " 29  PT Rim Cooling 1&2 Temp                161788 non-null  float64       \n",
      " 30  PT Rim Cooling 3&4 Temp                161788 non-null  float64       \n",
      " 31  Gear LS Non-Drive End Jrnl Brg Temp    161788 non-null  float64       \n",
      "dtypes: datetime64[ns](1), float64(31)\n",
      "memory usage: 39.5 MB\n"
     ]
    }
   ],
   "source": [
    "df = pd.read_csv(\"../dataset/BLD-LGC PTGBX 26 JUL21-8FEB23_edited.csv\")\n",
    "df['Timestamp'] = pd.to_datetime(df['Timestamp'])\n",
    "df.info()"
   ]
  },
  {
   "cell_type": "code",
   "execution_count": 3,
   "metadata": {},
   "outputs": [],
   "source": [
    "class SegmentLengthError(Exception):\n",
    "    pass\n",
    "\n",
    "class MaxOverlapError(Exception):\n",
    "    pass\n",
    "\n",
    "def find_segments(num_segments, segment_length, data_length):\n",
    "    if segment_length > data_length:\n",
    "        raise SegmentLengthError(\"Segment length cannot be greater than data length.\")\n",
    "    \n",
    "    max_overlap = segment_length // 2  # Maximum allowed overlap is 50% of segment length\n",
    "    segments = []\n",
    "    step = (data_length - segment_length) // (num_segments - 1) if num_segments > 1 else 0\n",
    "    # Check if the calculated step leads to more than 50% overlap\n",
    "    if step < max_overlap:\n",
    "        raise MaxOverlapError(\"The overlap between segments exceeds 50% of the segment length.\")\n",
    "    \n",
    "    for i in range(num_segments):\n",
    "        start_index = i * step\n",
    "        end_index = start_index + segment_length - 1\n",
    "\n",
    "        if end_index >= data_length:\n",
    "            end_index = data_length - 1\n",
    "            start_index = end_index - segment_length + 1\n",
    "        segments.append((start_index, end_index))\n",
    "        \n",
    "        if end_index == data_length - 1:\n",
    "            break\n",
    "\n",
    "    return segments"
   ]
  }
 ],
 "metadata": {
  "kernelspec": {
   "display_name": "base",
   "language": "python",
   "name": "python3"
  },
  "language_info": {
   "codemirror_mode": {
    "name": "ipython",
    "version": 3
   },
   "file_extension": ".py",
   "mimetype": "text/x-python",
   "name": "python",
   "nbconvert_exporter": "python",
   "pygments_lexer": "ipython3",
   "version": "3.10.9"
  }
 },
 "nbformat": 4,
 "nbformat_minor": 2
}
